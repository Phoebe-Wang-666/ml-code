{
 "cells": [
  {
   "cell_type": "markdown",
   "id": "dfa8f2c1-847a-4044-b1f2-85894e2a5e54",
   "metadata": {
    "id": "dfa8f2c1-847a-4044-b1f2-85894e2a5e54"
   },
   "source": [
    "# *Import Data*"
   ]
  },
  {
   "cell_type": "markdown",
   "id": "67ee6dbc-1690-4360-ac62-61081c11b5b4",
   "metadata": {
    "id": "67ee6dbc-1690-4360-ac62-61081c11b5b4"
   },
   "source": [
    "# **Financial Service sector**"
   ]
  },
  {
   "cell_type": "code",
   "execution_count": 6,
   "id": "950aa2f0-f505-4eb0-bb2f-842c6eddfff7",
   "metadata": {
    "colab": {
     "base_uri": "https://localhost:8080/",
     "height": 206
    },
    "id": "950aa2f0-f505-4eb0-bb2f-842c6eddfff7",
    "outputId": "8935009c-00e1-4218-87a0-2af39c147373"
   },
   "outputs": [
    {
     "data": {
      "text/html": [
       "<div>\n",
       "<style scoped>\n",
       "    .dataframe tbody tr th:only-of-type {\n",
       "        vertical-align: middle;\n",
       "    }\n",
       "\n",
       "    .dataframe tbody tr th {\n",
       "        vertical-align: top;\n",
       "    }\n",
       "\n",
       "    .dataframe thead th {\n",
       "        text-align: right;\n",
       "    }\n",
       "</style>\n",
       "<table border=\"1\" class=\"dataframe\">\n",
       "  <thead>\n",
       "    <tr style=\"text-align: right;\">\n",
       "      <th></th>\n",
       "      <th>Ticker</th>\n",
       "      <th>Fiscal Year</th>\n",
       "      <th>Company Name</th>\n",
       "      <th>Gender</th>\n",
       "      <th>ID number for each executive</th>\n",
       "      <th>Age</th>\n",
       "      <th>Total Current Compensation (Salary + Bonus)</th>\n",
       "    </tr>\n",
       "  </thead>\n",
       "  <tbody>\n",
       "    <tr>\n",
       "      <th>0</th>\n",
       "      <td>AXP</td>\n",
       "      <td>2000</td>\n",
       "      <td>AMERICAN EXPRESS CO</td>\n",
       "      <td>MALE</td>\n",
       "      <td>108</td>\n",
       "      <td>NaN</td>\n",
       "      <td>4200.0</td>\n",
       "    </tr>\n",
       "    <tr>\n",
       "      <th>1</th>\n",
       "      <td>AXP</td>\n",
       "      <td>2000</td>\n",
       "      <td>AMERICAN EXPRESS CO</td>\n",
       "      <td>MALE</td>\n",
       "      <td>110</td>\n",
       "      <td>NaN</td>\n",
       "      <td>1330.0</td>\n",
       "    </tr>\n",
       "    <tr>\n",
       "      <th>2</th>\n",
       "      <td>AXP</td>\n",
       "      <td>2001</td>\n",
       "      <td>AMERICAN EXPRESS CO</td>\n",
       "      <td>MALE</td>\n",
       "      <td>110</td>\n",
       "      <td>NaN</td>\n",
       "      <td>1110.0</td>\n",
       "    </tr>\n",
       "    <tr>\n",
       "      <th>3</th>\n",
       "      <td>AXP</td>\n",
       "      <td>2000</td>\n",
       "      <td>AMERICAN EXPRESS CO</td>\n",
       "      <td>MALE</td>\n",
       "      <td>111</td>\n",
       "      <td>49.0</td>\n",
       "      <td>3580.0</td>\n",
       "    </tr>\n",
       "    <tr>\n",
       "      <th>4</th>\n",
       "      <td>AXP</td>\n",
       "      <td>2001</td>\n",
       "      <td>AMERICAN EXPRESS CO</td>\n",
       "      <td>MALE</td>\n",
       "      <td>111</td>\n",
       "      <td>50.0</td>\n",
       "      <td>3218.0</td>\n",
       "    </tr>\n",
       "  </tbody>\n",
       "</table>\n",
       "</div>"
      ],
      "text/plain": [
       "  Ticker  Fiscal Year         Company Name Gender  \\\n",
       "0    AXP         2000  AMERICAN EXPRESS CO   MALE   \n",
       "1    AXP         2000  AMERICAN EXPRESS CO   MALE   \n",
       "2    AXP         2001  AMERICAN EXPRESS CO   MALE   \n",
       "3    AXP         2000  AMERICAN EXPRESS CO   MALE   \n",
       "4    AXP         2001  AMERICAN EXPRESS CO   MALE   \n",
       "\n",
       "   ID number for each executive   Age  \\\n",
       "0                           108   NaN   \n",
       "1                           110   NaN   \n",
       "2                           110   NaN   \n",
       "3                           111  49.0   \n",
       "4                           111  50.0   \n",
       "\n",
       "   Total Current Compensation (Salary + Bonus)  \n",
       "0                                       4200.0  \n",
       "1                                       1330.0  \n",
       "2                                       1110.0  \n",
       "3                                       3580.0  \n",
       "4                                       3218.0  "
      ]
     },
     "execution_count": 6,
     "metadata": {},
     "output_type": "execute_result"
    }
   ],
   "source": [
    "import pandas as pd\n",
    "import numpy as np\n",
    "\n",
    "# We are reading from the excel file to extract the financial data data that we are going to use later\n",
    "df_x = pd.read_excel('executive_x.xlsx')\n",
    "df_roa = pd.read_excel('new-roa.xlsx')\n",
    "\n",
    "#editing the column name so that it would be easier for later use\n",
    "df_x = df_x.rename(columns={'Ticker Symbol': 'Ticker'})\n",
    "df_x = df_x.drop(columns = 'Company ID Number')\n",
    "df_roa = df_roa.rename(columns={'Fiscal year end': 'Fiscal Year', 'Ticker Symbol': 'Ticker'})\n",
    "\n",
    "#Showing the result of the final format that we have\n",
    "df_x.head()"
   ]
  },
  {
   "cell_type": "code",
   "execution_count": 7,
   "id": "bf52e71d-711a-459f-b218-f265747772bc",
   "metadata": {
    "colab": {
     "base_uri": "https://localhost:8080/",
     "height": 206
    },
    "id": "bf52e71d-711a-459f-b218-f265747772bc",
    "outputId": "b571e78f-7130-412f-b3d9-92d14c157430"
   },
   "outputs": [
    {
     "data": {
      "text/html": [
       "<div>\n",
       "<style scoped>\n",
       "    .dataframe tbody tr th:only-of-type {\n",
       "        vertical-align: middle;\n",
       "    }\n",
       "\n",
       "    .dataframe tbody tr th {\n",
       "        vertical-align: top;\n",
       "    }\n",
       "\n",
       "    .dataframe thead th {\n",
       "        text-align: right;\n",
       "    }\n",
       "</style>\n",
       "<table border=\"1\" class=\"dataframe\">\n",
       "  <thead>\n",
       "    <tr style=\"text-align: right;\">\n",
       "      <th></th>\n",
       "      <th>Fiscal Year</th>\n",
       "      <th>Return on Assets</th>\n",
       "      <th>Ticker</th>\n",
       "    </tr>\n",
       "  </thead>\n",
       "  <tbody>\n",
       "    <tr>\n",
       "      <th>0</th>\n",
       "      <td>2017</td>\n",
       "      <td>0.122422</td>\n",
       "      <td>KKR</td>\n",
       "    </tr>\n",
       "    <tr>\n",
       "      <th>1</th>\n",
       "      <td>2018</td>\n",
       "      <td>0.068206</td>\n",
       "      <td>KKR</td>\n",
       "    </tr>\n",
       "    <tr>\n",
       "      <th>2</th>\n",
       "      <td>2019</td>\n",
       "      <td>0.059057</td>\n",
       "      <td>KKR</td>\n",
       "    </tr>\n",
       "    <tr>\n",
       "      <th>3</th>\n",
       "      <td>2020</td>\n",
       "      <td>0.124954</td>\n",
       "      <td>KKR</td>\n",
       "    </tr>\n",
       "    <tr>\n",
       "      <th>4</th>\n",
       "      <td>2021</td>\n",
       "      <td>0.007865</td>\n",
       "      <td>KKR</td>\n",
       "    </tr>\n",
       "  </tbody>\n",
       "</table>\n",
       "</div>"
      ],
      "text/plain": [
       "   Fiscal Year  Return on Assets Ticker\n",
       "0         2017          0.122422    KKR\n",
       "1         2018          0.068206    KKR\n",
       "2         2019          0.059057    KKR\n",
       "3         2020          0.124954    KKR\n",
       "4         2021          0.007865    KKR"
      ]
     },
     "execution_count": 7,
     "metadata": {},
     "output_type": "execute_result"
    }
   ],
   "source": [
    "df_roa.head()"
   ]
  },
  {
   "cell_type": "code",
   "execution_count": 8,
   "id": "9364564a-f46e-449a-9c89-dff9816c4c11",
   "metadata": {
    "colab": {
     "base_uri": "https://localhost:8080/",
     "height": 206
    },
    "id": "9364564a-f46e-449a-9c89-dff9816c4c11",
    "outputId": "bea64683-21de-4e48-8487-ca22b85ea8ba"
   },
   "outputs": [
    {
     "data": {
      "text/html": [
       "<div>\n",
       "<style scoped>\n",
       "    .dataframe tbody tr th:only-of-type {\n",
       "        vertical-align: middle;\n",
       "    }\n",
       "\n",
       "    .dataframe tbody tr th {\n",
       "        vertical-align: top;\n",
       "    }\n",
       "\n",
       "    .dataframe thead th {\n",
       "        text-align: right;\n",
       "    }\n",
       "</style>\n",
       "<table border=\"1\" class=\"dataframe\">\n",
       "  <thead>\n",
       "    <tr style=\"text-align: right;\">\n",
       "      <th></th>\n",
       "      <th>Ticker</th>\n",
       "      <th>Fiscal Year</th>\n",
       "      <th>Company Name</th>\n",
       "      <th>Gender</th>\n",
       "      <th>ID number for each executive</th>\n",
       "      <th>Age</th>\n",
       "      <th>Total Current Compensation (Salary + Bonus)</th>\n",
       "      <th>ROA</th>\n",
       "      <th>Industry</th>\n",
       "    </tr>\n",
       "  </thead>\n",
       "  <tbody>\n",
       "    <tr>\n",
       "      <th>0</th>\n",
       "      <td>AXP</td>\n",
       "      <td>2000</td>\n",
       "      <td>AMERICAN EXPRESS CO</td>\n",
       "      <td>MALE</td>\n",
       "      <td>108</td>\n",
       "      <td>NaN</td>\n",
       "      <td>4200.0</td>\n",
       "      <td>0.02387</td>\n",
       "      <td>Financial Service</td>\n",
       "    </tr>\n",
       "    <tr>\n",
       "      <th>1</th>\n",
       "      <td>AXP</td>\n",
       "      <td>2000</td>\n",
       "      <td>AMERICAN EXPRESS CO</td>\n",
       "      <td>MALE</td>\n",
       "      <td>110</td>\n",
       "      <td>NaN</td>\n",
       "      <td>1330.0</td>\n",
       "      <td>0.02387</td>\n",
       "      <td>Financial Service</td>\n",
       "    </tr>\n",
       "    <tr>\n",
       "      <th>2</th>\n",
       "      <td>AXP</td>\n",
       "      <td>2001</td>\n",
       "      <td>AMERICAN EXPRESS CO</td>\n",
       "      <td>MALE</td>\n",
       "      <td>110</td>\n",
       "      <td>NaN</td>\n",
       "      <td>1110.0</td>\n",
       "      <td>0.02345</td>\n",
       "      <td>Financial Service</td>\n",
       "    </tr>\n",
       "    <tr>\n",
       "      <th>3</th>\n",
       "      <td>AXP</td>\n",
       "      <td>2000</td>\n",
       "      <td>AMERICAN EXPRESS CO</td>\n",
       "      <td>MALE</td>\n",
       "      <td>111</td>\n",
       "      <td>49.0</td>\n",
       "      <td>3580.0</td>\n",
       "      <td>0.02387</td>\n",
       "      <td>Financial Service</td>\n",
       "    </tr>\n",
       "    <tr>\n",
       "      <th>4</th>\n",
       "      <td>AXP</td>\n",
       "      <td>2001</td>\n",
       "      <td>AMERICAN EXPRESS CO</td>\n",
       "      <td>MALE</td>\n",
       "      <td>111</td>\n",
       "      <td>50.0</td>\n",
       "      <td>3218.0</td>\n",
       "      <td>0.02345</td>\n",
       "      <td>Financial Service</td>\n",
       "    </tr>\n",
       "  </tbody>\n",
       "</table>\n",
       "</div>"
      ],
      "text/plain": [
       "  Ticker  Fiscal Year         Company Name Gender  \\\n",
       "0    AXP         2000  AMERICAN EXPRESS CO   MALE   \n",
       "1    AXP         2000  AMERICAN EXPRESS CO   MALE   \n",
       "2    AXP         2001  AMERICAN EXPRESS CO   MALE   \n",
       "3    AXP         2000  AMERICAN EXPRESS CO   MALE   \n",
       "4    AXP         2001  AMERICAN EXPRESS CO   MALE   \n",
       "\n",
       "   ID number for each executive   Age  \\\n",
       "0                           108   NaN   \n",
       "1                           110   NaN   \n",
       "2                           110   NaN   \n",
       "3                           111  49.0   \n",
       "4                           111  50.0   \n",
       "\n",
       "   Total Current Compensation (Salary + Bonus)      ROA           Industry  \n",
       "0                                       4200.0  0.02387  Financial Service  \n",
       "1                                       1330.0  0.02387  Financial Service  \n",
       "2                                       1110.0  0.02345  Financial Service  \n",
       "3                                       3580.0  0.02387  Financial Service  \n",
       "4                                       3218.0  0.02345  Financial Service  "
      ]
     },
     "execution_count": 8,
     "metadata": {},
     "output_type": "execute_result"
    }
   ],
   "source": [
    "#with above df_roa and df_x visualize and reformatted, we can now combine them into a new dataframe named df_fin\n",
    "df_fin = df_x.merge(df_roa[['Fiscal Year', 'Ticker', 'Return on Assets']],\n",
    "                  on=['Fiscal Year', 'Ticker'],\n",
    "                  how='left')\n",
    "\n",
    "#in this case, we still have to rename the \"returns on assets\" to \"ROA\" for easier use\n",
    "df_fin.rename(columns={'Return on Assets': 'ROA'}, inplace=True)\n",
    "\n",
    "df_fin['Industry'] = 'Financial Service'\n",
    "df_fin.head()"
   ]
  },
  {
   "cell_type": "markdown",
   "id": "15a12ba2-735e-4865-a49d-d9ebd299ad97",
   "metadata": {
    "id": "15a12ba2-735e-4865-a49d-d9ebd299ad97"
   },
   "source": [
    "# **Tech sector**"
   ]
  },
  {
   "cell_type": "code",
   "execution_count": 10,
   "id": "5d61b07c-95c5-4922-9883-9f43a106165d",
   "metadata": {
    "colab": {
     "base_uri": "https://localhost:8080/"
    },
    "id": "5d61b07c-95c5-4922-9883-9f43a106165d",
    "outputId": "0d7154ab-e6c1-47f0-bbd6-5821c8a6a2e1"
   },
   "outputs": [
    {
     "name": "stderr",
     "output_type": "stream",
     "text": [
      "/opt/anaconda3/lib/python3.12/site-packages/openpyxl/styles/stylesheet.py:237: UserWarning: Workbook contains no default style, apply openpyxl's default\n",
      "  warn(\"Workbook contains no default style, apply openpyxl's default\")\n"
     ]
    }
   ],
   "source": [
    "# We are reading from the excel file to extract the tech data data that we are going to use later\n",
    "\n",
    "df1 = pd.read_excel(\"tech-roa.xlsx\")\n",
    "df2= pd.read_excel(\"tech-execu.xlsx\")"
   ]
  },
  {
   "cell_type": "code",
   "execution_count": 11,
   "id": "91a27104-eace-4040-b00c-7671aa001cac",
   "metadata": {
    "colab": {
     "base_uri": "https://localhost:8080/",
     "height": 206
    },
    "id": "91a27104-eace-4040-b00c-7671aa001cac",
    "outputId": "8c753b51-b19f-4665-88a9-13fe098ea75a"
   },
   "outputs": [
    {
     "data": {
      "text/html": [
       "<div>\n",
       "<style scoped>\n",
       "    .dataframe tbody tr th:only-of-type {\n",
       "        vertical-align: middle;\n",
       "    }\n",
       "\n",
       "    .dataframe tbody tr th {\n",
       "        vertical-align: top;\n",
       "    }\n",
       "\n",
       "    .dataframe thead th {\n",
       "        text-align: right;\n",
       "    }\n",
       "</style>\n",
       "<table border=\"1\" class=\"dataframe\">\n",
       "  <thead>\n",
       "    <tr style=\"text-align: right;\">\n",
       "      <th></th>\n",
       "      <th>Ticker Symbol</th>\n",
       "      <th>Return on Assets</th>\n",
       "      <th>Fiscal year end</th>\n",
       "    </tr>\n",
       "  </thead>\n",
       "  <tbody>\n",
       "    <tr>\n",
       "      <th>0</th>\n",
       "      <td>ORCL</td>\n",
       "      <td>0.452978</td>\n",
       "      <td>2000</td>\n",
       "    </tr>\n",
       "    <tr>\n",
       "      <th>1</th>\n",
       "      <td>ORCL</td>\n",
       "      <td>0.431767</td>\n",
       "      <td>2001</td>\n",
       "    </tr>\n",
       "    <tr>\n",
       "      <th>2</th>\n",
       "      <td>ORCL</td>\n",
       "      <td>0.353606</td>\n",
       "      <td>2002</td>\n",
       "    </tr>\n",
       "    <tr>\n",
       "      <th>3</th>\n",
       "      <td>ORCL</td>\n",
       "      <td>0.368720</td>\n",
       "      <td>2003</td>\n",
       "    </tr>\n",
       "    <tr>\n",
       "      <th>4</th>\n",
       "      <td>ORCL</td>\n",
       "      <td>0.358719</td>\n",
       "      <td>2004</td>\n",
       "    </tr>\n",
       "  </tbody>\n",
       "</table>\n",
       "</div>"
      ],
      "text/plain": [
       "  Ticker Symbol  Return on Assets  Fiscal year end\n",
       "0          ORCL          0.452978             2000\n",
       "1          ORCL          0.431767             2001\n",
       "2          ORCL          0.353606             2002\n",
       "3          ORCL          0.368720             2003\n",
       "4          ORCL          0.358719             2004"
      ]
     },
     "execution_count": 11,
     "metadata": {},
     "output_type": "execute_result"
    }
   ],
   "source": [
    "#Here we are trying to select the Y value: ROA\n",
    "df1=df1[['Ticker Symbol','Return on Assets','Fiscal year end']]\n",
    "#Here we are trying to select the X value: executive ID, gender, age, and compensation\n",
    "df2=df2[['Ticker Symbol (ticker)',\n",
    "         'Fiscal Year (year)',\n",
    "         'Company Name (coname)',\n",
    "         'Gender (gender)',\n",
    "         'ID number for each executive/company combination (co_per_rol)',\n",
    "         \"Executive\\\\'\\\\'s Age (age)\",\n",
    "         'Total Current Compensation (Salary + Bonus) (total_curr)']]\n",
    "df1.head()"
   ]
  },
  {
   "cell_type": "code",
   "execution_count": 12,
   "id": "04a5d263-2598-417b-af2f-a4dca9012086",
   "metadata": {
    "colab": {
     "base_uri": "https://localhost:8080/",
     "height": 310
    },
    "id": "04a5d263-2598-417b-af2f-a4dca9012086",
    "outputId": "5f639618-0c4c-4fb7-d575-c8879cc5e1f1"
   },
   "outputs": [
    {
     "data": {
      "text/html": [
       "<div>\n",
       "<style scoped>\n",
       "    .dataframe tbody tr th:only-of-type {\n",
       "        vertical-align: middle;\n",
       "    }\n",
       "\n",
       "    .dataframe tbody tr th {\n",
       "        vertical-align: top;\n",
       "    }\n",
       "\n",
       "    .dataframe thead th {\n",
       "        text-align: right;\n",
       "    }\n",
       "</style>\n",
       "<table border=\"1\" class=\"dataframe\">\n",
       "  <thead>\n",
       "    <tr style=\"text-align: right;\">\n",
       "      <th></th>\n",
       "      <th>Ticker Symbol (ticker)</th>\n",
       "      <th>Fiscal Year (year)</th>\n",
       "      <th>Company Name (coname)</th>\n",
       "      <th>Gender (gender)</th>\n",
       "      <th>ID number for each executive/company combination (co_per_rol)</th>\n",
       "      <th>Executive\\'\\'s Age (age)</th>\n",
       "      <th>Total Current Compensation (Salary + Bonus) (total_curr)</th>\n",
       "    </tr>\n",
       "  </thead>\n",
       "  <tbody>\n",
       "    <tr>\n",
       "      <th>0</th>\n",
       "      <td>ADI</td>\n",
       "      <td>2000</td>\n",
       "      <td>ANALOG DEVICES INC</td>\n",
       "      <td>MALE</td>\n",
       "      <td>2668</td>\n",
       "      <td>66.0</td>\n",
       "      <td>913.077</td>\n",
       "    </tr>\n",
       "    <tr>\n",
       "      <th>1</th>\n",
       "      <td>AMD</td>\n",
       "      <td>2000</td>\n",
       "      <td>ADVANCED MICRO DEVICES</td>\n",
       "      <td>MALE</td>\n",
       "      <td>18717</td>\n",
       "      <td>NaN</td>\n",
       "      <td>1512.715</td>\n",
       "    </tr>\n",
       "    <tr>\n",
       "      <th>2</th>\n",
       "      <td>AMD</td>\n",
       "      <td>2001</td>\n",
       "      <td>ADVANCED MICRO DEVICES</td>\n",
       "      <td>MALE</td>\n",
       "      <td>18717</td>\n",
       "      <td>NaN</td>\n",
       "      <td>544.142</td>\n",
       "    </tr>\n",
       "    <tr>\n",
       "      <th>3</th>\n",
       "      <td>AMD</td>\n",
       "      <td>2002</td>\n",
       "      <td>ADVANCED MICRO DEVICES</td>\n",
       "      <td>MALE</td>\n",
       "      <td>18717</td>\n",
       "      <td>64.0</td>\n",
       "      <td>660.208</td>\n",
       "    </tr>\n",
       "    <tr>\n",
       "      <th>4</th>\n",
       "      <td>AMD</td>\n",
       "      <td>2003</td>\n",
       "      <td>ADVANCED MICRO DEVICES</td>\n",
       "      <td>MALE</td>\n",
       "      <td>18717</td>\n",
       "      <td>NaN</td>\n",
       "      <td>681.749</td>\n",
       "    </tr>\n",
       "  </tbody>\n",
       "</table>\n",
       "</div>"
      ],
      "text/plain": [
       "  Ticker Symbol (ticker)  Fiscal Year (year)   Company Name (coname)  \\\n",
       "0                    ADI                2000      ANALOG DEVICES INC   \n",
       "1                    AMD                2000  ADVANCED MICRO DEVICES   \n",
       "2                    AMD                2001  ADVANCED MICRO DEVICES   \n",
       "3                    AMD                2002  ADVANCED MICRO DEVICES   \n",
       "4                    AMD                2003  ADVANCED MICRO DEVICES   \n",
       "\n",
       "  Gender (gender)  \\\n",
       "0            MALE   \n",
       "1            MALE   \n",
       "2            MALE   \n",
       "3            MALE   \n",
       "4            MALE   \n",
       "\n",
       "   ID number for each executive/company combination (co_per_rol)  \\\n",
       "0                                               2668               \n",
       "1                                              18717               \n",
       "2                                              18717               \n",
       "3                                              18717               \n",
       "4                                              18717               \n",
       "\n",
       "   Executive\\'\\'s Age (age)  \\\n",
       "0                      66.0   \n",
       "1                       NaN   \n",
       "2                       NaN   \n",
       "3                      64.0   \n",
       "4                       NaN   \n",
       "\n",
       "   Total Current Compensation (Salary + Bonus) (total_curr)  \n",
       "0                                            913.077         \n",
       "1                                           1512.715         \n",
       "2                                            544.142         \n",
       "3                                            660.208         \n",
       "4                                            681.749         "
      ]
     },
     "execution_count": 12,
     "metadata": {},
     "output_type": "execute_result"
    }
   ],
   "source": [
    "df2.head()"
   ]
  },
  {
   "cell_type": "code",
   "execution_count": 13,
   "id": "9c8f8e02-ab6e-44a5-8047-462c6d7afea4",
   "metadata": {
    "colab": {
     "base_uri": "https://localhost:8080/",
     "height": 206
    },
    "id": "9c8f8e02-ab6e-44a5-8047-462c6d7afea4",
    "outputId": "95507c19-9c65-495a-c6e0-e90cee02fa13"
   },
   "outputs": [
    {
     "data": {
      "text/html": [
       "<div>\n",
       "<style scoped>\n",
       "    .dataframe tbody tr th:only-of-type {\n",
       "        vertical-align: middle;\n",
       "    }\n",
       "\n",
       "    .dataframe tbody tr th {\n",
       "        vertical-align: top;\n",
       "    }\n",
       "\n",
       "    .dataframe thead th {\n",
       "        text-align: right;\n",
       "    }\n",
       "</style>\n",
       "<table border=\"1\" class=\"dataframe\">\n",
       "  <thead>\n",
       "    <tr style=\"text-align: right;\">\n",
       "      <th></th>\n",
       "      <th>Ticker</th>\n",
       "      <th>Fiscal Year</th>\n",
       "      <th>Company Name</th>\n",
       "      <th>Gender</th>\n",
       "      <th>ID number for each executive</th>\n",
       "      <th>Age</th>\n",
       "      <th>Total Current Compensation (Salary + Bonus)</th>\n",
       "      <th>ROA</th>\n",
       "      <th>Industry</th>\n",
       "    </tr>\n",
       "  </thead>\n",
       "  <tbody>\n",
       "    <tr>\n",
       "      <th>0</th>\n",
       "      <td>ADI</td>\n",
       "      <td>2000</td>\n",
       "      <td>ANALOG DEVICES INC</td>\n",
       "      <td>MALE</td>\n",
       "      <td>2668</td>\n",
       "      <td>66.0</td>\n",
       "      <td>913.077</td>\n",
       "      <td>0.278676</td>\n",
       "      <td>Technology</td>\n",
       "    </tr>\n",
       "    <tr>\n",
       "      <th>1</th>\n",
       "      <td>AMD</td>\n",
       "      <td>2000</td>\n",
       "      <td>ADVANCED MICRO DEVICES</td>\n",
       "      <td>MALE</td>\n",
       "      <td>18717</td>\n",
       "      <td>NaN</td>\n",
       "      <td>1512.715</td>\n",
       "      <td>0.151707</td>\n",
       "      <td>Technology</td>\n",
       "    </tr>\n",
       "    <tr>\n",
       "      <th>2</th>\n",
       "      <td>AMD</td>\n",
       "      <td>2001</td>\n",
       "      <td>ADVANCED MICRO DEVICES</td>\n",
       "      <td>MALE</td>\n",
       "      <td>18717</td>\n",
       "      <td>NaN</td>\n",
       "      <td>544.142</td>\n",
       "      <td>0.009257</td>\n",
       "      <td>Technology</td>\n",
       "    </tr>\n",
       "    <tr>\n",
       "      <th>3</th>\n",
       "      <td>AMD</td>\n",
       "      <td>2002</td>\n",
       "      <td>ADVANCED MICRO DEVICES</td>\n",
       "      <td>MALE</td>\n",
       "      <td>18717</td>\n",
       "      <td>64.0</td>\n",
       "      <td>660.208</td>\n",
       "      <td>0.073627</td>\n",
       "      <td>Technology</td>\n",
       "    </tr>\n",
       "    <tr>\n",
       "      <th>4</th>\n",
       "      <td>AMD</td>\n",
       "      <td>2003</td>\n",
       "      <td>ADVANCED MICRO DEVICES</td>\n",
       "      <td>MALE</td>\n",
       "      <td>18717</td>\n",
       "      <td>NaN</td>\n",
       "      <td>681.749</td>\n",
       "      <td>0.205219</td>\n",
       "      <td>Technology</td>\n",
       "    </tr>\n",
       "  </tbody>\n",
       "</table>\n",
       "</div>"
      ],
      "text/plain": [
       "  Ticker  Fiscal Year            Company Name Gender  \\\n",
       "0    ADI         2000      ANALOG DEVICES INC   MALE   \n",
       "1    AMD         2000  ADVANCED MICRO DEVICES   MALE   \n",
       "2    AMD         2001  ADVANCED MICRO DEVICES   MALE   \n",
       "3    AMD         2002  ADVANCED MICRO DEVICES   MALE   \n",
       "4    AMD         2003  ADVANCED MICRO DEVICES   MALE   \n",
       "\n",
       "   ID number for each executive   Age  \\\n",
       "0                          2668  66.0   \n",
       "1                         18717   NaN   \n",
       "2                         18717   NaN   \n",
       "3                         18717  64.0   \n",
       "4                         18717   NaN   \n",
       "\n",
       "   Total Current Compensation (Salary + Bonus)       ROA    Industry  \n",
       "0                                      913.077  0.278676  Technology  \n",
       "1                                     1512.715  0.151707  Technology  \n",
       "2                                      544.142  0.009257  Technology  \n",
       "3                                      660.208  0.073627  Technology  \n",
       "4                                      681.749  0.205219  Technology  "
      ]
     },
     "execution_count": 13,
     "metadata": {},
     "output_type": "execute_result"
    }
   ],
   "source": [
    "#Now we are doing a similar thing as we have done above which is renaming the columns\n",
    "df1 = df1.rename(columns={'Ticker Symbol': 'Ticker',\n",
    "                          'Fiscal year end': 'Fiscal Year',\n",
    "                          })\n",
    "\n",
    "df2 = df2.rename(columns={'Ticker Symbol (ticker)': 'Ticker',\n",
    "                          'Fiscal Year (year)': 'Fiscal Year',\n",
    "                          \"Executive\\\\'\\\\'s Age (age)\": \"Age\",\n",
    "                         'Gender (gender)':'Gender',\n",
    "                         'ID number for each executive/company combination (co_per_rol)':'ID number for each executive',\n",
    "                         'Total Current Compensation (Salary + Bonus) (total_curr)':'Total Current Compensation (Salary + Bonus)'})\n",
    "\n",
    "#with above df1 and df2 visualize and reformatted, we combined them and call it df_tech\n",
    "df_tech = df2.merge(df1[['Fiscal Year', 'Ticker', 'Return on Assets']],\n",
    "                  on=['Fiscal Year', 'Ticker'],\n",
    "                  how='left')\n",
    "\n",
    "#Afterward, we renamed the \"returns on assets\" to \"ROA\" and \"Company Name (coname)\" to \"Company Name\" for easier use\n",
    "df_tech = df_tech.rename(columns={'Company Name (coname)': 'Company Name',\n",
    "                                  'Return on Assets':'ROA'\n",
    "                                })\n",
    "df_tech['Industry']='Technology'\n",
    "df_tech.head()"
   ]
  },
  {
   "cell_type": "markdown",
   "id": "056ee795-e740-4747-bfe5-7b529350e764",
   "metadata": {
    "id": "056ee795-e740-4747-bfe5-7b529350e764"
   },
   "source": [
    "# *Combined Data*"
   ]
  },
  {
   "cell_type": "code",
   "execution_count": 15,
   "id": "bad28146-2b7e-44c4-a00a-19eb5da52bf1",
   "metadata": {
    "id": "bad28146-2b7e-44c4-a00a-19eb5da52bf1"
   },
   "outputs": [],
   "source": [
    "#After we have done all the feature selections, we can now combine all the datas to be used later on.\n",
    "df_combined = pd.concat([df_fin, df_tech], ignore_index=True)"
   ]
  },
  {
   "cell_type": "markdown",
   "id": "6825e687-6e3e-4b3f-ad5a-51bf0d63718f",
   "metadata": {
    "id": "6825e687-6e3e-4b3f-ad5a-51bf0d63718f",
    "jp-MarkdownHeadingCollapsed": true
   },
   "source": [
    "# *Data Cleaning*"
   ]
  },
  {
   "cell_type": "markdown",
   "id": "4cc4f258-e9ce-44ec-99c9-03d83f400d8b",
   "metadata": {
    "id": "4cc4f258-e9ce-44ec-99c9-03d83f400d8b"
   },
   "source": [
    "# **Missing Value**"
   ]
  },
  {
   "cell_type": "code",
   "execution_count": 18,
   "id": "a0254dd0-b209-4e1f-bb86-57f53fd8dd63",
   "metadata": {
    "colab": {
     "base_uri": "https://localhost:8080/",
     "height": 366
    },
    "id": "a0254dd0-b209-4e1f-bb86-57f53fd8dd63",
    "outputId": "b8e59a23-d3b7-4228-fe0d-2feda32ea034"
   },
   "outputs": [
    {
     "data": {
      "text/plain": [
       "Ticker                                            0\n",
       "Fiscal Year                                       0\n",
       "Company Name                                      0\n",
       "Gender                                            0\n",
       "ID number for each executive                      0\n",
       "Age                                            1739\n",
       "Total Current Compensation (Salary + Bonus)       0\n",
       "ROA                                            1685\n",
       "Industry                                          0\n",
       "dtype: int64"
      ]
     },
     "execution_count": 18,
     "metadata": {},
     "output_type": "execute_result"
    }
   ],
   "source": [
    "#Now we are starting to do some data cleaning after we combine the datasets\n",
    "#first will be filtering out the NA values\n",
    "\n",
    "df_combined.isna().sum()"
   ]
  },
  {
   "cell_type": "code",
   "execution_count": 19,
   "id": "5916d69f-ef3e-416b-add0-4455d0d09c34",
   "metadata": {
    "colab": {
     "base_uri": "https://localhost:8080/",
     "height": 366
    },
    "id": "5916d69f-ef3e-416b-add0-4455d0d09c34",
    "outputId": "4d1ed4f6-5651-4fd0-b3b4-c9b4421c3b2d"
   },
   "outputs": [
    {
     "data": {
      "text/plain": [
       "Ticker                                         0\n",
       "Fiscal Year                                    0\n",
       "Company Name                                   0\n",
       "Gender                                         0\n",
       "ID number for each executive                   0\n",
       "Age                                            0\n",
       "Total Current Compensation (Salary + Bonus)    0\n",
       "ROA                                            0\n",
       "Industry                                       0\n",
       "dtype: int64"
      ]
     },
     "execution_count": 19,
     "metadata": {},
     "output_type": "execute_result"
    }
   ],
   "source": [
    "#As we can see from above table, there is missing value for age which we will use the median to inpute the missing value.\n",
    "\n",
    "df_combined['Age'] = df_combined['Age'].fillna(df_combined.groupby(['Ticker', 'Fiscal Year'])['Age'].transform('median'))\n",
    "df_combined = df_combined.dropna()\n",
    "\n",
    "#We should expect no NA values in the table generated\n",
    "df_combined.isna().sum()"
   ]
  },
  {
   "cell_type": "markdown",
   "id": "bc18f4ce-aac6-48dc-81d9-3f9720a711f0",
   "metadata": {
    "id": "bc18f4ce-aac6-48dc-81d9-3f9720a711f0"
   },
   "source": [
    "# **Gender encode**"
   ]
  },
  {
   "cell_type": "code",
   "execution_count": 21,
   "id": "e388b8a0-1416-403d-a16c-63af0efe4a3e",
   "metadata": {
    "id": "e388b8a0-1416-403d-a16c-63af0efe4a3e"
   },
   "outputs": [],
   "source": [
    "#In the following code, we changed female into 1 and male into 0 and we are dealing with Non-numeric types\n",
    "from sklearn.preprocessing import LabelEncoder\n",
    "\n",
    "categorical_columns = ['Gender']\n",
    "\n",
    "for col in categorical_columns:\n",
    "    le = LabelEncoder()\n",
    "    df_combined[col] = le.fit_transform(df_combined[col])"
   ]
  },
  {
   "cell_type": "markdown",
   "id": "40d587e5-b7bb-4abe-a2c3-f62630e14fe4",
   "metadata": {
    "id": "40d587e5-b7bb-4abe-a2c3-f62630e14fe4"
   },
   "source": [
    "# **Outlier**"
   ]
  },
  {
   "cell_type": "code",
   "execution_count": 23,
   "id": "60b919c8-76c6-413d-8f21-d7c3b16e66ec",
   "metadata": {
    "id": "60b919c8-76c6-413d-8f21-d7c3b16e66ec"
   },
   "outputs": [],
   "source": [
    "import matplotlib.pyplot as plt\n",
    "import seaborn as sns"
   ]
  },
  {
   "cell_type": "code",
   "execution_count": 24,
   "id": "c8458220-1bc1-4054-9c81-1bc53483f76a",
   "metadata": {
    "colab": {
     "base_uri": "https://localhost:8080/",
     "height": 851
    },
    "id": "c8458220-1bc1-4054-9c81-1bc53483f76a",
    "outputId": "eb85b8d2-1b7d-4337-89b1-8e404db6fa31"
   },
   "outputs": [
    {
     "data": {
      "text/plain": [
       "Text(0.5, 1.0, '(d)ROA')"
      ]
     },
     "execution_count": 24,
     "metadata": {},
     "output_type": "execute_result"
    },
    {
     "data": {
      "image/png": "[encoded data removed]",
      "text/plain": [
       "<Figure size 1000x1000 with 4 Axes>"
      ]
     },
     "metadata": {},
     "output_type": "display_data"
    }
   ],
   "source": [
    "#Here, we will try to visualize the outliers presented in different graphs\n",
    "fig,ax = plt.subplots(2, 2,figsize=(10,10))\n",
    "\n",
    "#first will be a box plot with age values\n",
    "sns.boxplot(df_combined['Age'],ax=ax[0,0])\n",
    "ax[0,0].set_title('(a)Age')\n",
    "\n",
    "#second one will be a histogram plot\n",
    "sns.histplot(df_combined['Gender'],ax=ax[0,1],stat='density',shrink=0.9)\n",
    "ax[0,1].set_title('(b)Gender')\n",
    "\n",
    "#Third will be a box plot involving a total current compensation\n",
    "sns.boxplot(df_combined['Total Current Compensation (Salary + Bonus)'],ax=ax[1,0])\n",
    "ax[1,0].set_title('(c)Total Current Compensation')\n",
    "\n",
    "#last one will be a box plot of ROA\n",
    "sns.boxplot(df_combined['ROA'],ax=ax[1,1])\n",
    "ax[1,1].set_title('(d)ROA')"
   ]
  },
  {
   "cell_type": "markdown",
   "id": "fcab34bc-1e5b-4655-aa1a-e808ae4bf1c2",
   "metadata": {
    "id": "fcab34bc-1e5b-4655-aa1a-e808ae4bf1c2"
   },
   "source": [
    "1) Age- few outliers are present below 35 and above 70\n",
    "2) Gender- majority of the sample is male (1), with a small number of females (0)\n",
    "3) Total Current Compensation- Most data is tightly packed at the bottom, with a long tail of extreme outliers exceeding $30,000–$40,000.\n",
    "4) ROA- many outliers, both positive and negative, with values exceeding 1 or below -1"
   ]
  },
  {
   "cell_type": "code",
   "execution_count": 26,
   "id": "89c11788-3f88-41ea-9e08-fc4d69f78ef2",
   "metadata": {
    "colab": {
     "base_uri": "https://localhost:8080/"
    },
    "id": "89c11788-3f88-41ea-9e08-fc4d69f78ef2",
    "outputId": "a1c2fb70-794a-4697-91ad-8021ff7e9b9b"
   },
   "outputs": [
    {
     "name": "stdout",
     "output_type": "stream",
     "text": [
      "5459    APPLE INC\n",
      "Name: Company Name, dtype: object\n"
     ]
    }
   ],
   "source": [
    "df_combined['Total Current Compensation (Salary + Bonus)'].max()\n",
    "max_compensation = df_combined['Total Current Compensation (Salary + Bonus)'].max()\n",
    "company_name = df_combined.loc[df_combined['Total Current Compensation (Salary + Bonus)'] == max_compensation, 'Company Name']\n",
    "print(company_name)"
   ]
  },
  {
   "cell_type": "markdown",
   "id": "8c68e238-3e8f-48d6-a2ca-b695d2ad79ef",
   "metadata": {
    "id": "8c68e238-3e8f-48d6-a2ca-b695d2ad79ef"
   },
   "source": [
    "# **Age of the executive and compensation variance**"
   ]
  },
  {
   "cell_type": "code",
   "execution_count": 28,
   "id": "a7e7d26c-f171-4e60-99b0-b515590d83d5",
   "metadata": {
    "colab": {
     "base_uri": "https://localhost:8080/"
    },
    "id": "a7e7d26c-f171-4e60-99b0-b515590d83d5",
    "outputId": "b7dad264-3da8-4427-ca58-0df702945c8c"
   },
   "outputs": [
    {
     "name": "stdout",
     "output_type": "stream",
     "text": [
      "The oldest executive in history is: 87.0\n",
      "The youngest executive in history is: 31.0\n"
     ]
    }
   ],
   "source": [
    "#Here we will try to find out the age range of the executive and see how different it would be\n",
    "oldest = df_combined['Age'].max()\n",
    "youngest = df_combined['Age'].min()\n",
    "\n",
    "print(f'The oldest executive in history is: {oldest}')\n",
    "print(f'The youngest executive in history is: {youngest}')"
   ]
  },
  {
   "cell_type": "code",
   "execution_count": 29,
   "id": "9d98a787-996b-4eae-aebe-df3363cd97b4",
   "metadata": {
    "id": "9d98a787-996b-4eae-aebe-df3363cd97b4"
   },
   "outputs": [],
   "source": [
    "# We will now calculate the difference between age and compensation every year for each companies.\n",
    "df_grouped = df_combined.groupby(['Ticker', 'Fiscal Year']).agg(\n",
    "    age_var=('Age', 'var'),\n",
    "    salary_var=('Total Current Compensation (Salary + Bonus)', 'var')\n",
    ").reset_index()\n",
    "\n",
    "#Then we combine them into a dataframe for better visualization\n",
    "df_final = pd.merge(df_combined, df_grouped, on=['Ticker', 'Fiscal Year'], how='left')\n",
    "\n",
    "# delete possible NA (for example, if a company only have one executive for a certain year, the result will be NA and we dont want that)\n",
    "df_final = df_final.dropna()\n",
    "\n",
    "#visualize the final data set\n",
    "df_combine_final = df_final"
   ]
  },
  {
   "cell_type": "code",
   "execution_count": 30,
   "id": "70b10671-095e-4b59-9643-663e1823b5e2",
   "metadata": {
    "colab": {
     "base_uri": "https://localhost:8080/",
     "height": 310
    },
    "id": "70b10671-095e-4b59-9643-663e1823b5e2",
    "outputId": "b93b29bb-cec9-4c06-feed-ea554b6d6ff5"
   },
   "outputs": [
    {
     "data": {
      "text/html": [
       "<div>\n",
       "<style scoped>\n",
       "    .dataframe tbody tr th:only-of-type {\n",
       "        vertical-align: middle;\n",
       "    }\n",
       "\n",
       "    .dataframe tbody tr th {\n",
       "        vertical-align: top;\n",
       "    }\n",
       "\n",
       "    .dataframe thead th {\n",
       "        text-align: right;\n",
       "    }\n",
       "</style>\n",
       "<table border=\"1\" class=\"dataframe\">\n",
       "  <thead>\n",
       "    <tr style=\"text-align: right;\">\n",
       "      <th></th>\n",
       "      <th>Ticker</th>\n",
       "      <th>Fiscal Year</th>\n",
       "      <th>Company Name</th>\n",
       "      <th>Gender</th>\n",
       "      <th>ID number for each executive</th>\n",
       "      <th>Age</th>\n",
       "      <th>Total Current Compensation (Salary + Bonus)</th>\n",
       "      <th>ROA</th>\n",
       "      <th>Industry</th>\n",
       "      <th>age_var</th>\n",
       "      <th>salary_var</th>\n",
       "    </tr>\n",
       "  </thead>\n",
       "  <tbody>\n",
       "    <tr>\n",
       "      <th>0</th>\n",
       "      <td>AXP</td>\n",
       "      <td>2000</td>\n",
       "      <td>AMERICAN EXPRESS CO</td>\n",
       "      <td>1</td>\n",
       "      <td>108</td>\n",
       "      <td>49.0</td>\n",
       "      <td>4200.0</td>\n",
       "      <td>0.02387</td>\n",
       "      <td>Financial Service</td>\n",
       "      <td>0.0</td>\n",
       "      <td>1.735778e+06</td>\n",
       "    </tr>\n",
       "    <tr>\n",
       "      <th>1</th>\n",
       "      <td>AXP</td>\n",
       "      <td>2000</td>\n",
       "      <td>AMERICAN EXPRESS CO</td>\n",
       "      <td>1</td>\n",
       "      <td>110</td>\n",
       "      <td>49.0</td>\n",
       "      <td>1330.0</td>\n",
       "      <td>0.02387</td>\n",
       "      <td>Financial Service</td>\n",
       "      <td>0.0</td>\n",
       "      <td>1.735778e+06</td>\n",
       "    </tr>\n",
       "    <tr>\n",
       "      <th>2</th>\n",
       "      <td>AXP</td>\n",
       "      <td>2001</td>\n",
       "      <td>AMERICAN EXPRESS CO</td>\n",
       "      <td>1</td>\n",
       "      <td>110</td>\n",
       "      <td>50.0</td>\n",
       "      <td>1110.0</td>\n",
       "      <td>0.02345</td>\n",
       "      <td>Financial Service</td>\n",
       "      <td>0.0</td>\n",
       "      <td>7.447007e+05</td>\n",
       "    </tr>\n",
       "    <tr>\n",
       "      <th>3</th>\n",
       "      <td>AXP</td>\n",
       "      <td>2000</td>\n",
       "      <td>AMERICAN EXPRESS CO</td>\n",
       "      <td>1</td>\n",
       "      <td>111</td>\n",
       "      <td>49.0</td>\n",
       "      <td>3580.0</td>\n",
       "      <td>0.02387</td>\n",
       "      <td>Financial Service</td>\n",
       "      <td>0.0</td>\n",
       "      <td>1.735778e+06</td>\n",
       "    </tr>\n",
       "    <tr>\n",
       "      <th>4</th>\n",
       "      <td>AXP</td>\n",
       "      <td>2001</td>\n",
       "      <td>AMERICAN EXPRESS CO</td>\n",
       "      <td>1</td>\n",
       "      <td>111</td>\n",
       "      <td>50.0</td>\n",
       "      <td>3218.0</td>\n",
       "      <td>0.02345</td>\n",
       "      <td>Financial Service</td>\n",
       "      <td>0.0</td>\n",
       "      <td>7.447007e+05</td>\n",
       "    </tr>\n",
       "  </tbody>\n",
       "</table>\n",
       "</div>"
      ],
      "text/plain": [
       "  Ticker  Fiscal Year         Company Name  Gender  \\\n",
       "0    AXP         2000  AMERICAN EXPRESS CO       1   \n",
       "1    AXP         2000  AMERICAN EXPRESS CO       1   \n",
       "2    AXP         2001  AMERICAN EXPRESS CO       1   \n",
       "3    AXP         2000  AMERICAN EXPRESS CO       1   \n",
       "4    AXP         2001  AMERICAN EXPRESS CO       1   \n",
       "\n",
       "   ID number for each executive   Age  \\\n",
       "0                           108  49.0   \n",
       "1                           110  49.0   \n",
       "2                           110  50.0   \n",
       "3                           111  49.0   \n",
       "4                           111  50.0   \n",
       "\n",
       "   Total Current Compensation (Salary + Bonus)      ROA           Industry  \\\n",
       "0                                       4200.0  0.02387  Financial Service   \n",
       "1                                       1330.0  0.02387  Financial Service   \n",
       "2                                       1110.0  0.02345  Financial Service   \n",
       "3                                       3580.0  0.02387  Financial Service   \n",
       "4                                       3218.0  0.02345  Financial Service   \n",
       "\n",
       "   age_var    salary_var  \n",
       "0      0.0  1.735778e+06  \n",
       "1      0.0  1.735778e+06  \n",
       "2      0.0  7.447007e+05  \n",
       "3      0.0  1.735778e+06  \n",
       "4      0.0  7.447007e+05  "
      ]
     },
     "execution_count": 30,
     "metadata": {},
     "output_type": "execute_result"
    }
   ],
   "source": [
    "df_combine_final.head()"
   ]
  },
  {
   "cell_type": "code",
   "execution_count": 31,
   "id": "39179a17-55aa-467d-ad94-9581339c8275",
   "metadata": {
    "colab": {
     "base_uri": "https://localhost:8080/",
     "height": 300
    },
    "id": "39179a17-55aa-467d-ad94-9581339c8275",
    "outputId": "e00cda54-4152-4685-a3c4-c9b7be96ff9b"
   },
   "outputs": [
    {
     "data": {
      "text/html": [
       "<div>\n",
       "<style scoped>\n",
       "    .dataframe tbody tr th:only-of-type {\n",
       "        vertical-align: middle;\n",
       "    }\n",
       "\n",
       "    .dataframe tbody tr th {\n",
       "        vertical-align: top;\n",
       "    }\n",
       "\n",
       "    .dataframe thead th {\n",
       "        text-align: right;\n",
       "    }\n",
       "</style>\n",
       "<table border=\"1\" class=\"dataframe\">\n",
       "  <thead>\n",
       "    <tr style=\"text-align: right;\">\n",
       "      <th></th>\n",
       "      <th>Fiscal Year</th>\n",
       "      <th>Gender</th>\n",
       "      <th>ID number for each executive</th>\n",
       "      <th>Age</th>\n",
       "      <th>Total Current Compensation (Salary + Bonus)</th>\n",
       "      <th>ROA</th>\n",
       "      <th>age_var</th>\n",
       "      <th>salary_var</th>\n",
       "    </tr>\n",
       "  </thead>\n",
       "  <tbody>\n",
       "    <tr>\n",
       "      <th>count</th>\n",
       "      <td>8469.000000</td>\n",
       "      <td>8469.000000</td>\n",
       "      <td>8469.000000</td>\n",
       "      <td>8469.000000</td>\n",
       "      <td>8469.000000</td>\n",
       "      <td>8469.000000</td>\n",
       "      <td>8469.000000</td>\n",
       "      <td>8.469000e+03</td>\n",
       "    </tr>\n",
       "    <tr>\n",
       "      <th>mean</th>\n",
       "      <td>2011.871650</td>\n",
       "      <td>0.900697</td>\n",
       "      <td>37117.949935</td>\n",
       "      <td>53.669560</td>\n",
       "      <td>1519.498554</td>\n",
       "      <td>0.123474</td>\n",
       "      <td>31.598056</td>\n",
       "      <td>2.142264e+06</td>\n",
       "    </tr>\n",
       "    <tr>\n",
       "      <th>std</th>\n",
       "      <td>6.712898</td>\n",
       "      <td>0.299087</td>\n",
       "      <td>17839.886790</td>\n",
       "      <td>6.858742</td>\n",
       "      <td>2432.118881</td>\n",
       "      <td>0.141083</td>\n",
       "      <td>31.238236</td>\n",
       "      <td>1.218845e+07</td>\n",
       "    </tr>\n",
       "    <tr>\n",
       "      <th>min</th>\n",
       "      <td>2000.000000</td>\n",
       "      <td>0.000000</td>\n",
       "      <td>11.000000</td>\n",
       "      <td>31.000000</td>\n",
       "      <td>0.000000</td>\n",
       "      <td>-1.284950</td>\n",
       "      <td>0.000000</td>\n",
       "      <td>0.000000e+00</td>\n",
       "    </tr>\n",
       "    <tr>\n",
       "      <th>25%</th>\n",
       "      <td>2006.000000</td>\n",
       "      <td>1.000000</td>\n",
       "      <td>25053.000000</td>\n",
       "      <td>49.000000</td>\n",
       "      <td>500.000000</td>\n",
       "      <td>0.032373</td>\n",
       "      <td>10.083333</td>\n",
       "      <td>3.797426e+04</td>\n",
       "    </tr>\n",
       "    <tr>\n",
       "      <th>50%</th>\n",
       "      <td>2012.000000</td>\n",
       "      <td>1.000000</td>\n",
       "      <td>35936.000000</td>\n",
       "      <td>54.000000</td>\n",
       "      <td>729.167000</td>\n",
       "      <td>0.102071</td>\n",
       "      <td>24.952381</td>\n",
       "      <td>8.803464e+04</td>\n",
       "    </tr>\n",
       "    <tr>\n",
       "      <th>75%</th>\n",
       "      <td>2018.000000</td>\n",
       "      <td>1.000000</td>\n",
       "      <td>49106.000000</td>\n",
       "      <td>58.000000</td>\n",
       "      <td>1241.346000</td>\n",
       "      <td>0.191912</td>\n",
       "      <td>43.466667</td>\n",
       "      <td>6.182279e+05</td>\n",
       "    </tr>\n",
       "    <tr>\n",
       "      <th>max</th>\n",
       "      <td>2023.000000</td>\n",
       "      <td>1.000000</td>\n",
       "      <td>73287.000000</td>\n",
       "      <td>87.000000</td>\n",
       "      <td>43511.535000</td>\n",
       "      <td>1.008745</td>\n",
       "      <td>272.300000</td>\n",
       "      <td>3.069576e+08</td>\n",
       "    </tr>\n",
       "  </tbody>\n",
       "</table>\n",
       "</div>"
      ],
      "text/plain": [
       "       Fiscal Year       Gender  ID number for each executive          Age  \\\n",
       "count  8469.000000  8469.000000                   8469.000000  8469.000000   \n",
       "mean   2011.871650     0.900697                  37117.949935    53.669560   \n",
       "std       6.712898     0.299087                  17839.886790     6.858742   \n",
       "min    2000.000000     0.000000                     11.000000    31.000000   \n",
       "25%    2006.000000     1.000000                  25053.000000    49.000000   \n",
       "50%    2012.000000     1.000000                  35936.000000    54.000000   \n",
       "75%    2018.000000     1.000000                  49106.000000    58.000000   \n",
       "max    2023.000000     1.000000                  73287.000000    87.000000   \n",
       "\n",
       "       Total Current Compensation (Salary + Bonus)          ROA      age_var  \\\n",
       "count                                  8469.000000  8469.000000  8469.000000   \n",
       "mean                                   1519.498554     0.123474    31.598056   \n",
       "std                                    2432.118881     0.141083    31.238236   \n",
       "min                                       0.000000    -1.284950     0.000000   \n",
       "25%                                     500.000000     0.032373    10.083333   \n",
       "50%                                     729.167000     0.102071    24.952381   \n",
       "75%                                    1241.346000     0.191912    43.466667   \n",
       "max                                   43511.535000     1.008745   272.300000   \n",
       "\n",
       "         salary_var  \n",
       "count  8.469000e+03  \n",
       "mean   2.142264e+06  \n",
       "std    1.218845e+07  \n",
       "min    0.000000e+00  \n",
       "25%    3.797426e+04  \n",
       "50%    8.803464e+04  \n",
       "75%    6.182279e+05  \n",
       "max    3.069576e+08  "
      ]
     },
     "execution_count": 31,
     "metadata": {},
     "output_type": "execute_result"
    }
   ],
   "source": [
    "#Here is a better visualization for the combine dataset which includes a detail number for different variables.\n",
    "df_des = df_combine_final.describe()\n",
    "df_des"
   ]
  },
  {
   "cell_type": "markdown",
   "id": "2c5f448f-8ce8-43b2-a2e8-d5b39e8dfc5d",
   "metadata": {
    "id": "2c5f448f-8ce8-43b2-a2e8-d5b39e8dfc5d"
   },
   "source": [
    "# *Linearity testing*"
   ]
  },
  {
   "cell_type": "code",
   "execution_count": 33,
   "id": "c4658f1a-ab79-497e-a3ed-71302e09acdd",
   "metadata": {
    "colab": {
     "base_uri": "https://localhost:8080/"
    },
    "id": "c4658f1a-ab79-497e-a3ed-71302e09acdd",
    "outputId": "05bc858f-5803-4cf5-b510-f5cc46980f05"
   },
   "outputs": [
    {
     "name": "stdout",
     "output_type": "stream",
     "text": [
      "Pearson correlation between Gender and ROA: -0.033, p-value: 0.002\n",
      "Pearson correlation between age_var and ROA: -0.059, p-value: 0.000\n",
      "Pearson correlation between salary_var and ROA: -0.098, p-value: 0.000\n"
     ]
    }
   ],
   "source": [
    "from scipy.stats import pearsonr\n",
    "\n",
    "# We break up the three variables and did it individually (Thats why we used a for loop)\n",
    "for col in ['Gender', 'age_var', 'salary_var']:\n",
    "    x = df_combine_final[col].to_numpy()\n",
    "    y = df_combine_final['ROA'].to_numpy()\n",
    "\n",
    "    corr, p_value = pearsonr(x, y)\n",
    "    print(f\"Pearson correlation between {col} and ROA: {corr:.3f}, p-value: {p_value:.3f}\")\n"
   ]
  },
  {
   "cell_type": "code",
   "execution_count": 34,
   "id": "439482ec-b5d8-4132-ab0c-9500427cfcf4",
   "metadata": {},
   "outputs": [],
   "source": [
    "#now we will separate the combine data into two separate, individual data frames of specific variable.\n",
    "df_f = df_combine_final[df_combine_final['Industry'] == 'Financial Service']\n",
    "df_t = df_combine_final[df_combine_final['Industry'] == 'Technology']"
   ]
  },
  {
   "cell_type": "code",
   "execution_count": 35,
   "id": "OyWUBT9lFT2m",
   "metadata": {
    "colab": {
     "base_uri": "https://localhost:8080/"
    },
    "id": "OyWUBT9lFT2m",
    "outputId": "eb2240b1-0ebf-466b-c4c5-c01234192637"
   },
   "outputs": [
    {
     "name": "stdout",
     "output_type": "stream",
     "text": [
      "Spearman correlation between Gender and ROA: -0.016, p-value: 0.3463\n",
      "Spearman correlation between age_var and ROA: -0.122, p-value: 0.0\n",
      "Spearman correlation between salary_var and ROA: -0.16, p-value: 0.0\n",
      "Spearman correlation between Gender and ROA: -0.009, p-value: 0.5207\n",
      "Spearman correlation between age_var and ROA: 0.018, p-value: 0.2122\n",
      "Spearman correlation between salary_var and ROA: 0.049, p-value: 0.0007\n"
     ]
    }
   ],
   "source": [
    "from scipy.stats import spearmanr\n",
    "\n",
    "for col in ['Gender', 'age_var', 'salary_var']:\n",
    "    corr, pval = spearmanr(df_f[col], df_f['ROA'])\n",
    "    print(f\"Spearman correlation between {col} and ROA: {round(corr, 3)}, p-value: {round(pval, 4)}\")\n",
    "\n",
    "for col in ['Gender', 'age_var', 'salary_var']:\n",
    "    corr, pval = spearmanr(df_t[col], df_t['ROA'])\n",
    "    print(f\"Spearman correlation between {col} and ROA: {round(corr, 3)}, p-value: {round(pval, 4)}\")\n"
   ]
  },
  {
   "cell_type": "markdown",
   "id": "b4c03d14-1ddf-4b95-ab53-3b35505b3909",
   "metadata": {
    "id": "b4c03d14-1ddf-4b95-ab53-3b35505b3909"
   },
   "source": [
    "We can gain information from the above results (Pearson and Spearman correlation) that for df_f, financial sector, the age and salary sector shows a negative monotonic correlations with ROA and for technology sector, it shows a weak but significant positive monotonic trend with ROA. In both sectors, we can say that gender shows no meaningful monotonic correlation\n",
    "We can also infer that the linearity is weak and limited since the pearson coefficient is relatively low. For the six results from spearman correlation, it shows that age and salary might follow a monotonic but not strictly linear relationship with ROA, especially in finance"
   ]
  },
  {
   "cell_type": "markdown",
   "id": "ef516d05-966f-4fd4-93ad-e813ef1516cc",
   "metadata": {
    "id": "ef516d05-966f-4fd4-93ad-e813ef1516cc"
   },
   "source": [
    "# *decision tree*"
   ]
  },
  {
   "cell_type": "code",
   "execution_count": 38,
   "id": "00a856ab-02bd-4d56-8243-cc6cdc374266",
   "metadata": {
    "id": "00a856ab-02bd-4d56-8243-cc6cdc374266"
   },
   "outputs": [],
   "source": [
    "# The first model that we will use will be the decision tree\n",
    "import numpy as np\n",
    "import pandas as pd\n",
    "from sklearn.tree import DecisionTreeRegressor\n",
    "from sklearn.model_selection import train_test_split, GridSearchCV\n",
    "from sklearn.metrics import mean_squared_error, r2_score, mean_absolute_error\n",
    "import matplotlib.pyplot as plt"
   ]
  },
  {
   "cell_type": "code",
   "execution_count": 39,
   "id": "aabc8f07-518e-4abb-b31f-056d25228239",
   "metadata": {
    "id": "aabc8f07-518e-4abb-b31f-056d25228239"
   },
   "outputs": [],
   "source": [
    "# This part will be mainly on retrieving the X and Y value for later use.\n",
    "# X1 and Y1 will be representing the Financial dataset\n",
    "X1 = df_f[['Gender', 'age_var', 'salary_var']].to_numpy()\n",
    "Y1 = df_f['ROA'].to_numpy()\n",
    "\n",
    "# X2 and Y2 will be representing the Technology dataset\n",
    "X2 = df_t[['Gender', 'age_var', 'salary_var']].to_numpy()\n",
    "Y2 = df_t['ROA'].to_numpy()"
   ]
  },
  {
   "cell_type": "code",
   "execution_count": 40,
   "id": "54b535a5-e73f-4bd5-8d67-47fdaa157d1b",
   "metadata": {
    "id": "54b535a5-e73f-4bd5-8d67-47fdaa157d1b"
   },
   "outputs": [],
   "source": [
    "# Now we will start to define the decision tree regression\n",
    "# first we will start with spliting the data into training, validation and testing\n",
    "def decision_tree_regression_with_validation(X, y, dataset_name):\n",
    "    # We will have the training to be 60%, validation to be 20%, and testing to be 20%\n",
    "    X_train, X_temp, y_train, y_temp = train_test_split(X, y, test_size=0.4, random_state=42)\n",
    "    X_val, X_test, y_val, y_test = train_test_split(X_temp, y_temp, test_size=0.5, random_state=42)\n",
    "\n",
    "    # Next we will define the parameter grid for tuning purposes\n",
    "    param_grid = {\n",
    "        # max depth is set to 1 to 20 in order for us to test from different values\n",
    "        'max_depth': range(1, 20),\n",
    "        # minimum samples split is set so that we can have different visions\n",
    "        'min_samples_split': [2, 5, 10],\n",
    "    }\n",
    "\n",
    "    # we will now try to use the grid search and cross validation to find the best parameter\n",
    "    dt_reg = DecisionTreeRegressor(random_state=42)\n",
    "    grid_search = GridSearchCV(dt_reg, param_grid, cv=5, scoring='neg_mean_squared_error')\n",
    "    grid_search.fit(X_train, y_train)\n",
    "\n",
    "    # Now with the best parameter found, we can print the statement for visualization of the result\n",
    "    optimal_max_depth = grid_search.best_params_['max_depth']\n",
    "    optimal_min_samples_split = grid_search.best_params_['min_samples_split']\n",
    "    print(f\"Optimal max_depth for {dataset_name}: {optimal_max_depth}\")\n",
    "    print(f\"Optimal min_samples_split for {dataset_name}: {optimal_min_samples_split}\")\n",
    "\n",
    "    # now we will fit the final model based on the best parameter that we have found (based the traing and the validation)\n",
    "    # first we will combine the training and validation set\n",
    "    X_train_val = np.vstack((X_train, X_val))\n",
    "    y_train_val = np.concatenate((y_train, y_val))\n",
    "    dt_reg = DecisionTreeRegressor(\n",
    "        max_depth=optimal_max_depth,\n",
    "        min_samples_split=optimal_min_samples_split,\n",
    "        random_state=42\n",
    "    )\n",
    "    dt_reg.fit(X_train_val, y_train_val)\n",
    "\n",
    "    # Now we will evaluate the final model based on the testing set\n",
    "    y_test_pred = dt_reg.predict(X_test)\n",
    "    mse = mean_squared_error(y_test, y_test_pred)\n",
    "    r2 = r2_score(y_test, y_test_pred)\n",
    "    mae = mean_absolute_error(y_test, y_test_pred)\n",
    "    print(f\"MSE on test set for {dataset_name}: {mse}\")\n",
    "    print(f\"R² on test set for {dataset_name}: {r2}\")\n",
    "    print(f\"MAE on test set for {dataset_name}: {mae}\")\n",
    "\n",
    "    # lastly we will add a code to visualize the feature importance\n",
    "    feature_importances = dt_reg.feature_importances_\n",
    "    features = ['Gender', 'age_var', 'salary_var']\n",
    "    plt.bar(features, feature_importances)\n",
    "    plt.xlabel('Features')\n",
    "    plt.ylabel('Importance')\n",
    "    plt.title(f'Feature Importance ({dataset_name})')\n",
    "    plt.show()\n",
    "\n",
    "#Above will be the full code for defining the decision_tree_regression_with_validation"
   ]
  },
  {
   "cell_type": "code",
   "execution_count": 41,
   "id": "236d33bf-bae5-401b-8701-6e58c1608ebd",
   "metadata": {
    "colab": {
     "base_uri": "https://localhost:8080/",
     "height": 1000
    },
    "id": "236d33bf-bae5-401b-8701-6e58c1608ebd",
    "outputId": "23ef0dfd-acf2-47d7-fa2f-d4183e3f2071"
   },
   "outputs": [
    {
     "name": "stdout",
     "output_type": "stream",
     "text": [
      "Optimal max_depth for df_f: 19\n",
      "Optimal min_samples_split for df_f: 5\n",
      "MSE on test set for df_f: 6.166115399103469e-05\n",
      "R² on test set for df_f: 0.9978062455022357\n",
      "MAE on test set for df_f: 0.0014465245432473712\n"
     ]
    },
    {
     "data": {
      "image/png": "[encoded data removed]",
      "text/plain": [
       "<Figure size 640x480 with 1 Axes>"
      ]
     },
     "metadata": {},
     "output_type": "display_data"
    },
    {
     "name": "stdout",
     "output_type": "stream",
     "text": [
      "Optimal max_depth for df_t: 19\n",
      "Optimal min_samples_split for df_t: 2\n",
      "MSE on test set for df_t: 0.004644072392505758\n",
      "R² on test set for df_t: 0.5920610960862174\n",
      "MAE on test set for df_t: 0.039326069267085866\n"
     ]
    },
    {
     "data": {
      "image/png": "[encoded data removed]",
      "text/plain": [
       "<Figure size 640x480 with 1 Axes>"
      ]
     },
     "metadata": {},
     "output_type": "display_data"
    }
   ],
   "source": [
    "# With the definition done on above code, we can now use it to find the result\n",
    "# first set will be for financial datas\n",
    "decision_tree_regression_with_validation(X1, Y1, dataset_name='df_f')\n",
    "\n",
    "# The it will be for technology datas\n",
    "decision_tree_regression_with_validation(X2, Y2, dataset_name='df_t')"
   ]
  },
  {
   "cell_type": "markdown",
   "id": "fd94d71e-2c15-4915-aec1-0d36ba4a3099",
   "metadata": {
    "id": "fd94d71e-2c15-4915-aec1-0d36ba4a3099"
   },
   "source": [
    "As shown above, the R^2 value of df_f is very close to 1 which represents that there is a high correlation between salary/age with ROA. The MSE and MAE value is very small, which in this case very influencial because it suggest that it is close to the actual value while the performance is very reliable. Therefore we can conclude that in the finance sector, factors like age and salary are highly effective at predicting outcomes, suggesting a more standardized and possibly conservative environment.\n",
    "\n",
    "On the otherhand, the performance of df_t is not as effecient. with a moderate level for R^2, and a relatively low MAE, MSE value, we can say that the model that we have done for df_t is less percise and less reliable. There will be more stuff that is unexplain by the model. Therefore, factors like age, salary, and gender are not strong predictors for company outcomes in this domain. More complex or nuanced features may be needed.\n",
    "\n",
    "So we can say that the df_f is way more fit comparing to the df_t since the R^2, MAE, MSE value are just on a moderate level."
   ]
  },
  {
   "cell_type": "markdown",
   "id": "a7741156-727b-4a79-af27-ec036dcedf2a",
   "metadata": {
    "id": "a7741156-727b-4a79-af27-ec036dcedf2a"
   },
   "source": [
    "# *Random Forest*"
   ]
  },
  {
   "cell_type": "code",
   "execution_count": 44,
   "id": "12aa005c-f4bf-4e3d-aa18-629a10f15c34",
   "metadata": {
    "id": "12aa005c-f4bf-4e3d-aa18-629a10f15c34"
   },
   "outputs": [],
   "source": [
    "# The second model that we will use will be the random forest\n",
    "\n",
    "from sklearn.ensemble import RandomForestRegressor\n",
    "from sklearn.model_selection import GridSearchCV\n",
    "from sklearn.metrics import mean_squared_error, r2_score\n",
    "import pandas as pd\n",
    "import matplotlib.pyplot as plt\n",
    "from sklearn.model_selection import train_test_split"
   ]
  },
  {
   "cell_type": "markdown",
   "id": "7f619090-e263-46a1-8e8a-83f4897a843f",
   "metadata": {
    "id": "7f619090-e263-46a1-8e8a-83f4897a843f"
   },
   "source": [
    "# split data"
   ]
  },
  {
   "cell_type": "markdown",
   "id": "9717fb01-c49f-4d83-b205-da09fab4e677",
   "metadata": {
    "id": "9717fb01-c49f-4d83-b205-da09fab4e677"
   },
   "source": [
    "#### The first step will be spliting the datas\n"
   ]
  },
  {
   "cell_type": "code",
   "execution_count": 47,
   "id": "ccd09958-e273-45f8-9ccf-9d04eee873fa",
   "metadata": {
    "id": "ccd09958-e273-45f8-9ccf-9d04eee873fa"
   },
   "outputs": [],
   "source": [
    "# We will deal with financial sector first"
   ]
  },
  {
   "cell_type": "code",
   "execution_count": 48,
   "id": "72986e7b-0cb1-484a-96b7-9ac26bd65730",
   "metadata": {
    "colab": {
     "base_uri": "https://localhost:8080/"
    },
    "id": "72986e7b-0cb1-484a-96b7-9ac26bd65730",
    "outputId": "b30e99dd-14da-4121-feb7-259c35c09001"
   },
   "outputs": [
    {
     "name": "stdout",
     "output_type": "stream",
     "text": [
      "Train size: (2172, 3)\n",
      "Validation size: (724, 3)\n",
      "Test size: (724, 3)\n"
     ]
    }
   ],
   "source": [
    "# first step will be spliting the data into training and testing\n",
    "X_train1_full, X_test1, y_train1_full, y_test1 = train_test_split(X1, Y1, test_size=0.2, random_state=42)\n",
    "\n",
    "# Then we need to split the training data set into train and validation\n",
    "X_train1, X_val1, y_train1, y_val1 = train_test_split(X_train1_full, y_train1_full, test_size=0.25, random_state=42)\n",
    "# Here the test size is 0.25 which by calculation 0.25 * 0.8 = 0.2\n",
    "# basically it symbolize that the final testing set takes 20% of the whole data\n",
    "\n",
    "print(f\"Train size: {X_train1.shape}\")\n",
    "print(f\"Validation size: {X_val1.shape}\")\n",
    "print(f\"Test size: {X_test1.shape}\")"
   ]
  },
  {
   "cell_type": "code",
   "execution_count": 49,
   "id": "88448c06-9805-49aa-8e96-92f335c52327",
   "metadata": {
    "id": "88448c06-9805-49aa-8e96-92f335c52327"
   },
   "outputs": [],
   "source": [
    "# Now we will deal with technology sector"
   ]
  },
  {
   "cell_type": "code",
   "execution_count": 50,
   "id": "7dbb25ef-1ace-4628-8716-04f5517ac146",
   "metadata": {
    "colab": {
     "base_uri": "https://localhost:8080/"
    },
    "id": "7dbb25ef-1ace-4628-8716-04f5517ac146",
    "outputId": "f1f52bdb-6938-4996-b31b-30f79ebb8e10"
   },
   "outputs": [
    {
     "name": "stdout",
     "output_type": "stream",
     "text": [
      "Train size: (2909, 3)\n",
      "Validation size: (970, 3)\n",
      "Test size: (970, 3)\n"
     ]
    }
   ],
   "source": [
    "# same thing from above, we will split the data into training and testing\n",
    "X_train2_full, X_test2, y_train2_full, y_test2 = train_test_split(X2, Y2, test_size=0.2, random_state=43)\n",
    "\n",
    "# Then split training into training and validation\n",
    "X_train2, X_val2, y_train2, y_val2 = train_test_split(X_train2_full, y_train2_full, test_size=0.25, random_state=43)\n",
    "# Again, testing set only takes 20% of the whole data\n",
    "\n",
    "print(f\"Train size: {X_train2.shape}\")\n",
    "print(f\"Validation size: {X_val2.shape}\")\n",
    "print(f\"Test size: {X_test2.shape}\")"
   ]
  },
  {
   "cell_type": "markdown",
   "id": "1412b17a-365a-4fce-855a-352aa1aff0eb",
   "metadata": {
    "id": "1412b17a-365a-4fce-855a-352aa1aff0eb"
   },
   "source": [
    "# *financial sectors*"
   ]
  },
  {
   "cell_type": "code",
   "execution_count": 52,
   "id": "1d43a205-5b00-4be3-bee6-c8a551f320a2",
   "metadata": {
    "colab": {
     "base_uri": "https://localhost:8080/",
     "height": 114
    },
    "id": "1d43a205-5b00-4be3-bee6-c8a551f320a2",
    "outputId": "d6f14dc1-bb9d-41f7-9d2f-166ec0fe8b9f",
    "scrolled": true
   },
   "outputs": [
    {
     "name": "stdout",
     "output_type": "stream",
     "text": [
      "Fitting 5 folds for each of 108 candidates, totalling 540 fits\n",
      "Best parameters found:  {'max_depth': None, 'max_features': 'sqrt', 'min_samples_leaf': 1, 'min_samples_split': 2, 'n_estimators': 300}\n"
     ]
    },
    {
     "data": {
      "text/html": [
       "<style>#sk-container-id-1 {\n",
       "  /* Definition of color scheme common for light and dark mode */\n",
       "  --sklearn-color-text: black;\n",
       "  --sklearn-color-line: gray;\n",
       "  /* Definition of color scheme for unfitted estimators */\n",
       "  --sklearn-color-unfitted-level-0: #fff5e6;\n",
       "  --sklearn-color-unfitted-level-1: #f6e4d2;\n",
       "  --sklearn-color-unfitted-level-2: #ffe0b3;\n",
       "  --sklearn-color-unfitted-level-3: chocolate;\n",
       "  /* Definition of color scheme for fitted estimators */\n",
       "  --sklearn-color-fitted-level-0: #f0f8ff;\n",
       "  --sklearn-color-fitted-level-1: #d4ebff;\n",
       "  --sklearn-color-fitted-level-2: #b3dbfd;\n",
       "  --sklearn-color-fitted-level-3: cornflowerblue;\n",
       "\n",
       "  /* Specific color for light theme */\n",
       "  --sklearn-color-text-on-default-background: var(--sg-text-color, var(--theme-code-foreground, var(--jp-content-font-color1, black)));\n",
       "  --sklearn-color-background: var(--sg-background-color, var(--theme-background, var(--jp-layout-color0, white)));\n",
       "  --sklearn-color-border-box: var(--sg-text-color, var(--theme-code-foreground, var(--jp-content-font-color1, black)));\n",
       "  --sklearn-color-icon: #696969;\n",
       "\n",
       "  @media (prefers-color-scheme: dark) {\n",
       "    /* Redefinition of color scheme for dark theme */\n",
       "    --sklearn-color-text-on-default-background: var(--sg-text-color, var(--theme-code-foreground, var(--jp-content-font-color1, white)));\n",
       "    --sklearn-color-background: var(--sg-background-color, var(--theme-background, var(--jp-layout-color0, #111)));\n",
       "    --sklearn-color-border-box: var(--sg-text-color, var(--theme-code-foreground, var(--jp-content-font-color1, white)));\n",
       "    --sklearn-color-icon: #878787;\n",
       "  }\n",
       "}\n",
       "\n",
       "#sk-container-id-1 {\n",
       "  color: var(--sklearn-color-text);\n",
       "}\n",
       "\n",
       "#sk-container-id-1 pre {\n",
       "  padding: 0;\n",
       "}\n",
       "\n",
       "#sk-container-id-1 input.sk-hidden--visually {\n",
       "  border: 0;\n",
       "  clip: rect(1px 1px 1px 1px);\n",
       "  clip: rect(1px, 1px, 1px, 1px);\n",
       "  height: 1px;\n",
       "  margin: -1px;\n",
       "  overflow: hidden;\n",
       "  padding: 0;\n",
       "  position: absolute;\n",
       "  width: 1px;\n",
       "}\n",
       "\n",
       "#sk-container-id-1 div.sk-dashed-wrapped {\n",
       "  border: 1px dashed var(--sklearn-color-line);\n",
       "  margin: 0 0.4em 0.5em 0.4em;\n",
       "  box-sizing: border-box;\n",
       "  padding-bottom: 0.4em;\n",
       "  background-color: var(--sklearn-color-background);\n",
       "}\n",
       "\n",
       "#sk-container-id-1 div.sk-container {\n",
       "  /* jupyter's `normalize.less` sets `[hidden] { display: none; }`\n",
       "     but bootstrap.min.css set `[hidden] { display: none !important; }`\n",
       "     so we also need the `!important` here to be able to override the\n",
       "     default hidden behavior on the sphinx rendered scikit-learn.org.\n",
       "     See: https://github.com/scikit-learn/scikit-learn/issues/21755 */\n",
       "  display: inline-block !important;\n",
       "  position: relative;\n",
       "}\n",
       "\n",
       "#sk-container-id-1 div.sk-text-repr-fallback {\n",
       "  display: none;\n",
       "}\n",
       "\n",
       "div.sk-parallel-item,\n",
       "div.sk-serial,\n",
       "div.sk-item {\n",
       "  /* draw centered vertical line to link estimators */\n",
       "  background-image: linear-gradient(var(--sklearn-color-text-on-default-background), var(--sklearn-color-text-on-default-background));\n",
       "  background-size: 2px 100%;\n",
       "  background-repeat: no-repeat;\n",
       "  background-position: center center;\n",
       "}\n",
       "\n",
       "/* Parallel-specific style estimator block */\n",
       "\n",
       "#sk-container-id-1 div.sk-parallel-item::after {\n",
       "  content: \"\";\n",
       "  width: 100%;\n",
       "  border-bottom: 2px solid var(--sklearn-color-text-on-default-background);\n",
       "  flex-grow: 1;\n",
       "}\n",
       "\n",
       "#sk-container-id-1 div.sk-parallel {\n",
       "  display: flex;\n",
       "  align-items: stretch;\n",
       "  justify-content: center;\n",
       "  background-color: var(--sklearn-color-background);\n",
       "  position: relative;\n",
       "}\n",
       "\n",
       "#sk-container-id-1 div.sk-parallel-item {\n",
       "  display: flex;\n",
       "  flex-direction: column;\n",
       "}\n",
       "\n",
       "#sk-container-id-1 div.sk-parallel-item:first-child::after {\n",
       "  align-self: flex-end;\n",
       "  width: 50%;\n",
       "}\n",
       "\n",
       "#sk-container-id-1 div.sk-parallel-item:last-child::after {\n",
       "  align-self: flex-start;\n",
       "  width: 50%;\n",
       "}\n",
       "\n",
       "#sk-container-id-1 div.sk-parallel-item:only-child::after {\n",
       "  width: 0;\n",
       "}\n",
       "\n",
       "/* Serial-specific style estimator block */\n",
       "\n",
       "#sk-container-id-1 div.sk-serial {\n",
       "  display: flex;\n",
       "  flex-direction: column;\n",
       "  align-items: center;\n",
       "  background-color: var(--sklearn-color-background);\n",
       "  padding-right: 1em;\n",
       "  padding-left: 1em;\n",
       "}\n",
       "\n",
       "\n",
       "/* Toggleable style: style used for estimator/Pipeline/ColumnTransformer box that is\n",
       "clickable and can be expanded/collapsed.\n",
       "- Pipeline and ColumnTransformer use this feature and define the default style\n",
       "- Estimators will overwrite some part of the style using the `sk-estimator` class\n",
       "*/\n",
       "\n",
       "/* Pipeline and ColumnTransformer style (default) */\n",
       "\n",
       "#sk-container-id-1 div.sk-toggleable {\n",
       "  /* Default theme specific background. It is overwritten whether we have a\n",
       "  specific estimator or a Pipeline/ColumnTransformer */\n",
       "  background-color: var(--sklearn-color-background);\n",
       "}\n",
       "\n",
       "/* Toggleable label */\n",
       "#sk-container-id-1 label.sk-toggleable__label {\n",
       "  cursor: pointer;\n",
       "  display: block;\n",
       "  width: 100%;\n",
       "  margin-bottom: 0;\n",
       "  padding: 0.5em;\n",
       "  box-sizing: border-box;\n",
       "  text-align: center;\n",
       "}\n",
       "\n",
       "#sk-container-id-1 label.sk-toggleable__label-arrow:before {\n",
       "  /* Arrow on the left of the label */\n",
       "  content: \"▸\";\n",
       "  float: left;\n",
       "  margin-right: 0.25em;\n",
       "  color: var(--sklearn-color-icon);\n",
       "}\n",
       "\n",
       "#sk-container-id-1 label.sk-toggleable__label-arrow:hover:before {\n",
       "  color: var(--sklearn-color-text);\n",
       "}\n",
       "\n",
       "/* Toggleable content - dropdown */\n",
       "\n",
       "#sk-container-id-1 div.sk-toggleable__content {\n",
       "  max-height: 0;\n",
       "  max-width: 0;\n",
       "  overflow: hidden;\n",
       "  text-align: left;\n",
       "  /* unfitted */\n",
       "  background-color: var(--sklearn-color-unfitted-level-0);\n",
       "}\n",
       "\n",
       "#sk-container-id-1 div.sk-toggleable__content.fitted {\n",
       "  /* fitted */\n",
       "  background-color: var(--sklearn-color-fitted-level-0);\n",
       "}\n",
       "\n",
       "#sk-container-id-1 div.sk-toggleable__content pre {\n",
       "  margin: 0.2em;\n",
       "  border-radius: 0.25em;\n",
       "  color: var(--sklearn-color-text);\n",
       "  /* unfitted */\n",
       "  background-color: var(--sklearn-color-unfitted-level-0);\n",
       "}\n",
       "\n",
       "#sk-container-id-1 div.sk-toggleable__content.fitted pre {\n",
       "  /* unfitted */\n",
       "  background-color: var(--sklearn-color-fitted-level-0);\n",
       "}\n",
       "\n",
       "#sk-container-id-1 input.sk-toggleable__control:checked~div.sk-toggleable__content {\n",
       "  /* Expand drop-down */\n",
       "  max-height: 200px;\n",
       "  max-width: 100%;\n",
       "  overflow: auto;\n",
       "}\n",
       "\n",
       "#sk-container-id-1 input.sk-toggleable__control:checked~label.sk-toggleable__label-arrow:before {\n",
       "  content: \"▾\";\n",
       "}\n",
       "\n",
       "/* Pipeline/ColumnTransformer-specific style */\n",
       "\n",
       "#sk-container-id-1 div.sk-label input.sk-toggleable__control:checked~label.sk-toggleable__label {\n",
       "  color: var(--sklearn-color-text);\n",
       "  background-color: var(--sklearn-color-unfitted-level-2);\n",
       "}\n",
       "\n",
       "#sk-container-id-1 div.sk-label.fitted input.sk-toggleable__control:checked~label.sk-toggleable__label {\n",
       "  background-color: var(--sklearn-color-fitted-level-2);\n",
       "}\n",
       "\n",
       "/* Estimator-specific style */\n",
       "\n",
       "/* Colorize estimator box */\n",
       "#sk-container-id-1 div.sk-estimator input.sk-toggleable__control:checked~label.sk-toggleable__label {\n",
       "  /* unfitted */\n",
       "  background-color: var(--sklearn-color-unfitted-level-2);\n",
       "}\n",
       "\n",
       "#sk-container-id-1 div.sk-estimator.fitted input.sk-toggleable__control:checked~label.sk-toggleable__label {\n",
       "  /* fitted */\n",
       "  background-color: var(--sklearn-color-fitted-level-2);\n",
       "}\n",
       "\n",
       "#sk-container-id-1 div.sk-label label.sk-toggleable__label,\n",
       "#sk-container-id-1 div.sk-label label {\n",
       "  /* The background is the default theme color */\n",
       "  color: var(--sklearn-color-text-on-default-background);\n",
       "}\n",
       "\n",
       "/* On hover, darken the color of the background */\n",
       "#sk-container-id-1 div.sk-label:hover label.sk-toggleable__label {\n",
       "  color: var(--sklearn-color-text);\n",
       "  background-color: var(--sklearn-color-unfitted-level-2);\n",
       "}\n",
       "\n",
       "/* Label box, darken color on hover, fitted */\n",
       "#sk-container-id-1 div.sk-label.fitted:hover label.sk-toggleable__label.fitted {\n",
       "  color: var(--sklearn-color-text);\n",
       "  background-color: var(--sklearn-color-fitted-level-2);\n",
       "}\n",
       "\n",
       "/* Estimator label */\n",
       "\n",
       "#sk-container-id-1 div.sk-label label {\n",
       "  font-family: monospace;\n",
       "  font-weight: bold;\n",
       "  display: inline-block;\n",
       "  line-height: 1.2em;\n",
       "}\n",
       "\n",
       "#sk-container-id-1 div.sk-label-container {\n",
       "  text-align: center;\n",
       "}\n",
       "\n",
       "/* Estimator-specific */\n",
       "#sk-container-id-1 div.sk-estimator {\n",
       "  font-family: monospace;\n",
       "  border: 1px dotted var(--sklearn-color-border-box);\n",
       "  border-radius: 0.25em;\n",
       "  box-sizing: border-box;\n",
       "  margin-bottom: 0.5em;\n",
       "  /* unfitted */\n",
       "  background-color: var(--sklearn-color-unfitted-level-0);\n",
       "}\n",
       "\n",
       "#sk-container-id-1 div.sk-estimator.fitted {\n",
       "  /* fitted */\n",
       "  background-color: var(--sklearn-color-fitted-level-0);\n",
       "}\n",
       "\n",
       "/* on hover */\n",
       "#sk-container-id-1 div.sk-estimator:hover {\n",
       "  /* unfitted */\n",
       "  background-color: var(--sklearn-color-unfitted-level-2);\n",
       "}\n",
       "\n",
       "#sk-container-id-1 div.sk-estimator.fitted:hover {\n",
       "  /* fitted */\n",
       "  background-color: var(--sklearn-color-fitted-level-2);\n",
       "}\n",
       "\n",
       "/* Specification for estimator info (e.g. \"i\" and \"?\") */\n",
       "\n",
       "/* Common style for \"i\" and \"?\" */\n",
       "\n",
       ".sk-estimator-doc-link,\n",
       "a:link.sk-estimator-doc-link,\n",
       "a:visited.sk-estimator-doc-link {\n",
       "  float: right;\n",
       "  font-size: smaller;\n",
       "  line-height: 1em;\n",
       "  font-family: monospace;\n",
       "  background-color: var(--sklearn-color-background);\n",
       "  border-radius: 1em;\n",
       "  height: 1em;\n",
       "  width: 1em;\n",
       "  text-decoration: none !important;\n",
       "  margin-left: 1ex;\n",
       "  /* unfitted */\n",
       "  border: var(--sklearn-color-unfitted-level-1) 1pt solid;\n",
       "  color: var(--sklearn-color-unfitted-level-1);\n",
       "}\n",
       "\n",
       ".sk-estimator-doc-link.fitted,\n",
       "a:link.sk-estimator-doc-link.fitted,\n",
       "a:visited.sk-estimator-doc-link.fitted {\n",
       "  /* fitted */\n",
       "  border: var(--sklearn-color-fitted-level-1) 1pt solid;\n",
       "  color: var(--sklearn-color-fitted-level-1);\n",
       "}\n",
       "\n",
       "/* On hover */\n",
       "div.sk-estimator:hover .sk-estimator-doc-link:hover,\n",
       ".sk-estimator-doc-link:hover,\n",
       "div.sk-label-container:hover .sk-estimator-doc-link:hover,\n",
       ".sk-estimator-doc-link:hover {\n",
       "  /* unfitted */\n",
       "  background-color: var(--sklearn-color-unfitted-level-3);\n",
       "  color: var(--sklearn-color-background);\n",
       "  text-decoration: none;\n",
       "}\n",
       "\n",
       "div.sk-estimator.fitted:hover .sk-estimator-doc-link.fitted:hover,\n",
       ".sk-estimator-doc-link.fitted:hover,\n",
       "div.sk-label-container:hover .sk-estimator-doc-link.fitted:hover,\n",
       ".sk-estimator-doc-link.fitted:hover {\n",
       "  /* fitted */\n",
       "  background-color: var(--sklearn-color-fitted-level-3);\n",
       "  color: var(--sklearn-color-background);\n",
       "  text-decoration: none;\n",
       "}\n",
       "\n",
       "/* Span, style for the box shown on hovering the info icon */\n",
       ".sk-estimator-doc-link span {\n",
       "  display: none;\n",
       "  z-index: 9999;\n",
       "  position: relative;\n",
       "  font-weight: normal;\n",
       "  right: .2ex;\n",
       "  padding: .5ex;\n",
       "  margin: .5ex;\n",
       "  width: min-content;\n",
       "  min-width: 20ex;\n",
       "  max-width: 50ex;\n",
       "  color: var(--sklearn-color-text);\n",
       "  box-shadow: 2pt 2pt 4pt #999;\n",
       "  /* unfitted */\n",
       "  background: var(--sklearn-color-unfitted-level-0);\n",
       "  border: .5pt solid var(--sklearn-color-unfitted-level-3);\n",
       "}\n",
       "\n",
       ".sk-estimator-doc-link.fitted span {\n",
       "  /* fitted */\n",
       "  background: var(--sklearn-color-fitted-level-0);\n",
       "  border: var(--sklearn-color-fitted-level-3);\n",
       "}\n",
       "\n",
       ".sk-estimator-doc-link:hover span {\n",
       "  display: block;\n",
       "}\n",
       "\n",
       "/* \"?\"-specific style due to the `<a>` HTML tag */\n",
       "\n",
       "#sk-container-id-1 a.estimator_doc_link {\n",
       "  float: right;\n",
       "  font-size: 1rem;\n",
       "  line-height: 1em;\n",
       "  font-family: monospace;\n",
       "  background-color: var(--sklearn-color-background);\n",
       "  border-radius: 1rem;\n",
       "  height: 1rem;\n",
       "  width: 1rem;\n",
       "  text-decoration: none;\n",
       "  /* unfitted */\n",
       "  color: var(--sklearn-color-unfitted-level-1);\n",
       "  border: var(--sklearn-color-unfitted-level-1) 1pt solid;\n",
       "}\n",
       "\n",
       "#sk-container-id-1 a.estimator_doc_link.fitted {\n",
       "  /* fitted */\n",
       "  border: var(--sklearn-color-fitted-level-1) 1pt solid;\n",
       "  color: var(--sklearn-color-fitted-level-1);\n",
       "}\n",
       "\n",
       "/* On hover */\n",
       "#sk-container-id-1 a.estimator_doc_link:hover {\n",
       "  /* unfitted */\n",
       "  background-color: var(--sklearn-color-unfitted-level-3);\n",
       "  color: var(--sklearn-color-background);\n",
       "  text-decoration: none;\n",
       "}\n",
       "\n",
       "#sk-container-id-1 a.estimator_doc_link.fitted:hover {\n",
       "  /* fitted */\n",
       "  background-color: var(--sklearn-color-fitted-level-3);\n",
       "}\n",
       "</style><div id=\"sk-container-id-1\" class=\"sk-top-container\"><div class=\"sk-text-repr-fallback\"><pre>RandomForestRegressor(max_features=&#x27;sqrt&#x27;, n_estimators=300, random_state=42)</pre><b>In a Jupyter environment, please rerun this cell to show the HTML representation or trust the notebook. <br />On GitHub, the HTML representation is unable to render, please try loading this page with nbviewer.org.</b></div><div class=\"sk-container\" hidden><div class=\"sk-item\"><div class=\"sk-estimator fitted sk-toggleable\"><input class=\"sk-toggleable__control sk-hidden--visually\" id=\"sk-estimator-id-1\" type=\"checkbox\" checked><label for=\"sk-estimator-id-1\" class=\"sk-toggleable__label fitted sk-toggleable__label-arrow fitted\">&nbsp;&nbsp;RandomForestRegressor<a class=\"sk-estimator-doc-link fitted\" rel=\"noreferrer\" target=\"_blank\" href=\"https://scikit-learn.org/1.5/modules/generated/sklearn.ensemble.RandomForestRegressor.html\">?<span>Documentation for RandomForestRegressor</span></a><span class=\"sk-estimator-doc-link fitted\">i<span>Fitted</span></span></label><div class=\"sk-toggleable__content fitted\"><pre>RandomForestRegressor(max_features=&#x27;sqrt&#x27;, n_estimators=300, random_state=42)</pre></div> </div></div></div></div>"
      ],
      "text/plain": [
       "RandomForestRegressor(max_features='sqrt', n_estimators=300, random_state=42)"
      ]
     },
     "execution_count": 52,
     "metadata": {},
     "output_type": "execute_result"
    }
   ],
   "source": [
    "# The code will be complicated for visualization if we do financial and technology sectore together\n",
    "# Therefore we started with financial sector and will move on to technology later\n",
    "\n",
    "# This part we are defining the search range for hyperparameter grid\n",
    "param_grid = {\n",
    "    'n_estimators': [100, 300],\n",
    "    'max_depth': [5, 10, None],\n",
    "    'min_samples_split': [2, 5, 10],\n",
    "    'min_samples_leaf': [1, 2, 4],\n",
    "    'max_features': ['sqrt', 'log2']\n",
    "}\n",
    "\n",
    "# Now we will initialize the model\n",
    "rf_model = RandomForestRegressor(random_state=42)\n",
    "\n",
    "# Then we performed the hyperparameter search only on the training set\n",
    "grid_search = GridSearchCV(rf_model, param_grid, cv=5, scoring='r2', n_jobs=-1, verbose=2)\n",
    "grid_search.fit(X_train1, y_train1)\n",
    "\n",
    "# We can get the best parameter based on the result from below\n",
    "best_params = grid_search.best_params_\n",
    "print(\"Best parameters found: \", best_params)\n",
    "\n",
    "# With the best parameter, we can train our new model that we initialized\n",
    "rf_best = RandomForestRegressor(**best_params, random_state=42)\n",
    "rf_best.fit(X_train1, y_train1)"
   ]
  },
  {
   "cell_type": "code",
   "execution_count": 53,
   "id": "304ca569-dcea-4f4d-b4a7-efb1ab23ac20",
   "metadata": {
    "colab": {
     "base_uri": "https://localhost:8080/"
    },
    "id": "304ca569-dcea-4f4d-b4a7-efb1ab23ac20",
    "outputId": "c4212dc5-d45d-4d91-8611-b324caa438e9"
   },
   "outputs": [
    {
     "name": "stdout",
     "output_type": "stream",
     "text": [
      "Validation R² Score: 0.8294\n",
      "Validation Mean Squared Error: 0.0040\n"
     ]
    }
   ],
   "source": [
    "# Now we will evaluate it on the validation set\n",
    "y_val_pred = rf_best.predict(X_val1)\n",
    "r2_val = r2_score(y_val1, y_val_pred)\n",
    "mse_val = mean_squared_error(y_val1, y_val_pred)\n",
    "\n",
    "print(f'Validation R² Score: {r2_val:.4f}')\n",
    "print(f'Validation Mean Squared Error: {mse_val:.4f}')"
   ]
  },
  {
   "cell_type": "code",
   "execution_count": 54,
   "id": "b86e03bf-037d-49db-a0e1-a7b6adf0b273",
   "metadata": {
    "colab": {
     "base_uri": "https://localhost:8080/"
    },
    "id": "b86e03bf-037d-49db-a0e1-a7b6adf0b273",
    "outputId": "3cc4a08d-d7f2-4ae5-d2e5-2d5edacf977a"
   },
   "outputs": [
    {
     "name": "stdout",
     "output_type": "stream",
     "text": [
      "Test R² Score: 0.8913\n",
      "Test Mean Squared Error: 0.0022\n"
     ]
    }
   ],
   "source": [
    "# Lastly we will evaluate it on the testing set\n",
    "y_test_pred = rf_best.predict(X_test1)\n",
    "r2_test = r2_score(y_test1, y_test_pred)\n",
    "mse_test = mean_squared_error(y_test1, y_test_pred)\n",
    "print(f'Test R² Score: {r2_test:.4f}')\n",
    "print(f'Test Mean Squared Error: {mse_test:.4f}')"
   ]
  },
  {
   "cell_type": "markdown",
   "id": "1f93339d-7a82-4673-9f2e-638ab19d7ed0",
   "metadata": {
    "id": "1f93339d-7a82-4673-9f2e-638ab19d7ed0"
   },
   "source": [
    "feature importance"
   ]
  },
  {
   "cell_type": "code",
   "execution_count": 56,
   "id": "00ae1650-83eb-4744-b16d-9a2a85ea6f92",
   "metadata": {
    "colab": {
     "base_uri": "https://localhost:8080/",
     "height": 519
    },
    "id": "00ae1650-83eb-4744-b16d-9a2a85ea6f92",
    "outputId": "76e46c5b-24a0-4987-be4b-8a4f4f065768"
   },
   "outputs": [
    {
     "data": {
      "image/png": "[encoded data removed]",
      "text/plain": [
       "<Figure size 1000x500 with 1 Axes>"
      ]
     },
     "metadata": {},
     "output_type": "display_data"
    }
   ],
   "source": [
    "#Now we will find the feature importance and visualize it using a bar graph\n",
    "# First will be setting the feature size\n",
    "num_features = X_train1.shape[1]\n",
    "# Then have it generates Feature 0, Feature 1, and all after\n",
    "feature_names = [f\"Feature {i}\" for i in range(num_features)]\n",
    "\n",
    "#generating the bar graph.\n",
    "feature_importance = pd.Series(rf_best.feature_importances_, index=feature_names)\n",
    "feature_importance.sort_values(ascending=False).plot(kind=\"bar\", figsize=(10, 5))\n",
    "plt.title(\"Feature Importance\")\n",
    "plt.show()"
   ]
  },
  {
   "cell_type": "markdown",
   "id": "5fb53562-129a-4a3c-98c9-6ae9d8ed3fc8",
   "metadata": {
    "id": "5fb53562-129a-4a3c-98c9-6ae9d8ed3fc8"
   },
   "source": [
    "# *Technology Sectors*"
   ]
  },
  {
   "cell_type": "code",
   "execution_count": 58,
   "id": "01e10b77-bac1-4eb0-80d8-1e176c93eabd",
   "metadata": {
    "colab": {
     "base_uri": "https://localhost:8080/",
     "height": 114
    },
    "id": "01e10b77-bac1-4eb0-80d8-1e176c93eabd",
    "outputId": "0a195ccf-1e8b-4261-d260-a05cf877969e"
   },
   "outputs": [
    {
     "name": "stdout",
     "output_type": "stream",
     "text": [
      "Fitting 5 folds for each of 108 candidates, totalling 540 fits\n",
      "[CV] END max_depth=5, max_features=sqrt, min_samples_leaf=1, min_samples_split=2, n_estimators=100; total time=   0.1s\n",
      "[CV] END max_depth=5, max_features=sqrt, min_samples_leaf=1, min_samples_split=5, n_estimators=100; total time=   0.1s\n",
      "[CV] END max_depth=5, max_features=sqrt, min_samples_leaf=1, min_samples_split=5, n_estimators=100; total time=   0.2s\n",
      "[CV] END max_depth=5, max_features=sqrt, min_samples_leaf=1, min_samples_split=10, n_estimators=100; total time=   0.2s\n",
      "[CV] END max_depth=5, max_features=sqrt, min_samples_leaf=1, min_samples_split=10, n_estimators=100; total time=   0.2s\n",
      "[CV] END max_depth=5, max_features=sqrt, min_samples_leaf=1, min_samples_split=10, n_estimators=300; total time=   0.4s\n",
      "[CV] END max_depth=5, max_features=sqrt, min_samples_leaf=2, min_samples_split=2, n_estimators=300; total time=   0.3s\n",
      "[CV] END max_depth=5, max_features=sqrt, min_samples_leaf=2, min_samples_split=10, n_estimators=100; total time=   0.1s\n",
      "[CV] END max_depth=5, max_features=sqrt, min_samples_leaf=2, min_samples_split=10, n_estimators=100; total time=   0.1s\n",
      "[CV] END max_depth=5, max_features=sqrt, min_samples_leaf=2, min_samples_split=10, n_estimators=300; total time=   0.3s\n",
      "[CV] END max_depth=5, max_features=sqrt, min_samples_leaf=4, min_samples_split=5, n_estimators=100; total time=   0.1s\n",
      "[CV] END max_depth=5, max_features=sqrt, min_samples_leaf=4, min_samples_split=5, n_estimators=100; total time=   0.1s\n",
      "[CV] END max_depth=5, max_features=sqrt, min_samples_leaf=4, min_samples_split=5, n_estimators=300; total time=   0.3s\n",
      "[CV] END max_depth=5, max_features=log2, min_samples_leaf=1, min_samples_split=2, n_estimators=100; total time=   0.1s\n",
      "[CV] END max_depth=5, max_features=log2, min_samples_leaf=1, min_samples_split=2, n_estimators=100; total time=   0.1s\n",
      "[CV] END max_depth=5, max_features=log2, min_samples_leaf=1, min_samples_split=2, n_estimators=300; total time=   0.3s\n",
      "[CV] END max_depth=5, max_features=log2, min_samples_leaf=1, min_samples_split=10, n_estimators=100; total time=   0.1s\n",
      "[CV] END max_depth=5, max_features=log2, min_samples_leaf=1, min_samples_split=10, n_estimators=100; total time=   0.1s\n",
      "[CV] END max_depth=5, max_features=log2, min_samples_leaf=1, min_samples_split=10, n_estimators=300; total time=   0.3s\n",
      "[CV] END max_depth=5, max_features=log2, min_samples_leaf=2, min_samples_split=5, n_estimators=100; total time=   0.1s\n",
      "[CV] END max_depth=5, max_features=log2, min_samples_leaf=2, min_samples_split=5, n_estimators=100; total time=   0.1s\n",
      "[CV] END max_depth=5, max_features=log2, min_samples_leaf=2, min_samples_split=5, n_estimators=300; total time=   0.3s\n",
      "[CV] END max_depth=5, max_features=log2, min_samples_leaf=4, min_samples_split=2, n_estimators=100; total time=   0.1s\n",
      "[CV] END max_depth=5, max_features=log2, min_samples_leaf=4, min_samples_split=2, n_estimators=100; total time=   0.1s\n",
      "[CV] END max_depth=5, max_features=log2, min_samples_leaf=4, min_samples_split=2, n_estimators=300; total time=   0.3s\n",
      "[CV] END max_depth=5, max_features=log2, min_samples_leaf=4, min_samples_split=10, n_estimators=100; total time=   0.2s\n",
      "[CV] END max_depth=5, max_features=log2, min_samples_leaf=4, min_samples_split=10, n_estimators=100; total time=   0.1s\n",
      "[CV] END max_depth=5, max_features=log2, min_samples_leaf=4, min_samples_split=10, n_estimators=300; total time=   0.3s\n",
      "[CV] END max_depth=10, max_features=sqrt, min_samples_leaf=1, min_samples_split=5, n_estimators=100; total time=   0.2s\n",
      "[CV] END max_depth=10, max_features=sqrt, min_samples_leaf=1, min_samples_split=5, n_estimators=100; total time=   0.2s\n",
      "[CV] END max_depth=10, max_features=sqrt, min_samples_leaf=1, min_samples_split=5, n_estimators=300; total time=   0.4s\n",
      "[CV] END max_depth=10, max_features=sqrt, min_samples_leaf=2, min_samples_split=2, n_estimators=100; total time=   0.2s\n",
      "[CV] END max_depth=10, max_features=sqrt, min_samples_leaf=2, min_samples_split=2, n_estimators=100; total time=   0.1s\n",
      "[CV] END max_depth=10, max_features=sqrt, min_samples_leaf=2, min_samples_split=2, n_estimators=300; total time=   0.4s\n",
      "[CV] END max_depth=10, max_features=sqrt, min_samples_leaf=2, min_samples_split=10, n_estimators=100; total time=   0.1s\n",
      "[CV] END max_depth=10, max_features=sqrt, min_samples_leaf=2, min_samples_split=10, n_estimators=100; total time=   0.1s\n",
      "[CV] END max_depth=10, max_features=sqrt, min_samples_leaf=2, min_samples_split=10, n_estimators=300; total time=   0.4s\n",
      "[CV] END max_depth=10, max_features=sqrt, min_samples_leaf=4, min_samples_split=5, n_estimators=100; total time=   0.1s\n",
      "[CV] END max_depth=10, max_features=sqrt, min_samples_leaf=4, min_samples_split=5, n_estimators=100; total time=   0.1s\n",
      "[CV] END max_depth=10, max_features=sqrt, min_samples_leaf=4, min_samples_split=5, n_estimators=300; total time=   0.4s\n",
      "[CV] END max_depth=10, max_features=sqrt, min_samples_leaf=4, min_samples_split=10, n_estimators=300; total time=   0.4s\n",
      "[CV] END max_depth=10, max_features=log2, min_samples_leaf=1, min_samples_split=5, n_estimators=100; total time=   0.1s\n",
      "[CV] END max_depth=10, max_features=log2, min_samples_leaf=1, min_samples_split=5, n_estimators=100; total time=   0.2s\n",
      "[CV] END max_depth=10, max_features=log2, min_samples_leaf=1, min_samples_split=5, n_estimators=300; total time=   0.4s\n",
      "[CV] END max_depth=10, max_features=log2, min_samples_leaf=2, min_samples_split=2, n_estimators=100; total time=   0.1s\n",
      "[CV] END max_depth=10, max_features=log2, min_samples_leaf=2, min_samples_split=2, n_estimators=300; total time=   0.4s\n",
      "[CV] END max_depth=10, max_features=log2, min_samples_leaf=2, min_samples_split=5, n_estimators=300; total time=   0.4s\n",
      "[CV] END max_depth=10, max_features=log2, min_samples_leaf=2, min_samples_split=10, n_estimators=300; total time=   0.4s\n",
      "[CV] END max_depth=10, max_features=log2, min_samples_leaf=4, min_samples_split=5, n_estimators=100; total time=   0.1s\n",
      "[CV] END max_depth=10, max_features=log2, min_samples_leaf=4, min_samples_split=5, n_estimators=100; total time=   0.1s\n",
      "[CV] END max_depth=10, max_features=log2, min_samples_leaf=4, min_samples_split=5, n_estimators=300; total time=   0.5s\n",
      "[CV] END max_depth=10, max_features=log2, min_samples_leaf=4, min_samples_split=10, n_estimators=300; total time=   0.4s\n",
      "[CV] END max_depth=None, max_features=sqrt, min_samples_leaf=1, min_samples_split=5, n_estimators=100; total time=   0.2s\n",
      "[CV] END max_depth=None, max_features=sqrt, min_samples_leaf=1, min_samples_split=5, n_estimators=100; total time=   0.2s\n",
      "[CV] END max_depth=None, max_features=sqrt, min_samples_leaf=1, min_samples_split=5, n_estimators=300; total time=   0.6s\n",
      "[CV] END max_depth=None, max_features=sqrt, min_samples_leaf=2, min_samples_split=2, n_estimators=100; total time=   0.2s\n",
      "[CV] END max_depth=None, max_features=sqrt, min_samples_leaf=2, min_samples_split=2, n_estimators=300; total time=   0.5s\n",
      "[CV] END max_depth=None, max_features=sqrt, min_samples_leaf=2, min_samples_split=5, n_estimators=300; total time=   0.5s\n",
      "[CV] END max_depth=None, max_features=sqrt, min_samples_leaf=4, min_samples_split=2, n_estimators=100; total time=   0.2s\n",
      "[CV] END max_depth=None, max_features=sqrt, min_samples_leaf=4, min_samples_split=2, n_estimators=100; total time=   0.1s\n",
      "[CV] END max_depth=None, max_features=sqrt, min_samples_leaf=4, min_samples_split=2, n_estimators=300; total time=   0.4s\n",
      "[CV] END max_depth=None, max_features=sqrt, min_samples_leaf=4, min_samples_split=10, n_estimators=100; total time=   0.1s\n",
      "[CV] END max_depth=None, max_features=sqrt, min_samples_leaf=4, min_samples_split=10, n_estimators=300; total time=   0.4s\n",
      "[CV] END max_depth=None, max_features=log2, min_samples_leaf=1, min_samples_split=2, n_estimators=300; total time=   0.6s\n",
      "[CV] END max_depth=None, max_features=log2, min_samples_leaf=1, min_samples_split=5, n_estimators=300; total time=   0.6s\n",
      "[CV] END max_depth=None, max_features=log2, min_samples_leaf=2, min_samples_split=2, n_estimators=100; total time=   0.1s\n",
      "[CV] END max_depth=None, max_features=log2, min_samples_leaf=2, min_samples_split=2, n_estimators=100; total time=   0.2s\n",
      "[CV] END max_depth=None, max_features=log2, min_samples_leaf=2, min_samples_split=2, n_estimators=300; total time=   0.6s\n",
      "[CV] END max_depth=None, max_features=log2, min_samples_leaf=2, min_samples_split=10, n_estimators=100; total time=   0.2s[CV] END max_depth=5, max_features=sqrt, min_samples_leaf=1, min_samples_split=2, n_estimators=300; total time=   0.4s\n",
      "[CV] END max_depth=5, max_features=sqrt, min_samples_leaf=1, min_samples_split=5, n_estimators=300; total time=   0.6s\n",
      "[CV] END max_depth=5, max_features=sqrt, min_samples_leaf=2, min_samples_split=2, n_estimators=100; total time=   0.2s\n",
      "[CV] END max_depth=5, max_features=sqrt, min_samples_leaf=2, min_samples_split=2, n_estimators=100; total time=   0.1s\n",
      "[CV] END max_depth=5, max_features=sqrt, min_samples_leaf=2, min_samples_split=5, n_estimators=100; total time=   0.1s\n",
      "[CV] END max_depth=5, max_features=sqrt, min_samples_leaf=2, min_samples_split=5, n_estimators=100; total time=   0.1s\n",
      "[CV] END max_depth=5, max_features=sqrt, min_samples_leaf=2, min_samples_split=5, n_estimators=300; total time=   0.3s\n",
      "[CV] END max_depth=5, max_features=sqrt, min_samples_leaf=4, min_samples_split=2, n_estimators=100; total time=   0.1s\n",
      "[CV] END max_depth=5, max_features=sqrt, min_samples_leaf=4, min_samples_split=2, n_estimators=100; total time=   0.1s\n",
      "[CV] END max_depth=5, max_features=sqrt, min_samples_leaf=4, min_samples_split=2, n_estimators=300; total time=   0.3s\n",
      "[CV] END max_depth=5, max_features=sqrt, min_samples_leaf=4, min_samples_split=10, n_estimators=100; total time=   0.1s\n",
      "[CV] END max_depth=5, max_features=sqrt, min_samples_leaf=4, min_samples_split=10, n_estimators=100; total time=   0.1s\n",
      "[CV] END max_depth=5, max_features=sqrt, min_samples_leaf=4, min_samples_split=10, n_estimators=300; total time=   0.3s\n",
      "[CV] END max_depth=5, max_features=log2, min_samples_leaf=1, min_samples_split=5, n_estimators=100; total time=   0.1s\n",
      "[CV] END max_depth=5, max_features=log2, min_samples_leaf=1, min_samples_split=5, n_estimators=300; total time=   0.3s\n",
      "[CV] END max_depth=5, max_features=log2, min_samples_leaf=1, min_samples_split=10, n_estimators=300; total time=   0.3s\n",
      "[CV] END max_depth=5, max_features=log2, min_samples_leaf=2, min_samples_split=2, n_estimators=300; total time=   0.3s\n",
      "[CV] END max_depth=5, max_features=log2, min_samples_leaf=2, min_samples_split=5, n_estimators=300; total time=   0.3s\n",
      "[CV] END max_depth=5, max_features=log2, min_samples_leaf=4, min_samples_split=2, n_estimators=100; total time=   0.1s\n",
      "[CV] END max_depth=5, max_features=log2, min_samples_leaf=4, min_samples_split=2, n_estimators=100; total time=   0.1s\n",
      "[CV] END max_depth=5, max_features=log2, min_samples_leaf=4, min_samples_split=2, n_estimators=300; total time=   0.3s\n",
      "[CV] END max_depth=5, max_features=log2, min_samples_leaf=4, min_samples_split=10, n_estimators=100; total time=   0.2s\n",
      "[CV] END max_depth=5, max_features=log2, min_samples_leaf=4, min_samples_split=10, n_estimators=100; total time=   0.1s\n",
      "[CV] END max_depth=5, max_features=log2, min_samples_leaf=4, min_samples_split=10, n_estimators=300; total time=   0.3s\n",
      "[CV] END max_depth=10, max_features=sqrt, min_samples_leaf=1, min_samples_split=2, n_estimators=300; total time=   0.4s\n",
      "[CV] END max_depth=10, max_features=sqrt, min_samples_leaf=1, min_samples_split=10, n_estimators=100; total time=   0.2s\n",
      "[CV] END max_depth=10, max_features=sqrt, min_samples_leaf=1, min_samples_split=10, n_estimators=300; total time=   0.4s\n",
      "[CV] END max_depth=10, max_features=sqrt, min_samples_leaf=2, min_samples_split=2, n_estimators=300; total time=   0.4s\n",
      "[CV] END max_depth=10, max_features=sqrt, min_samples_leaf=2, min_samples_split=5, n_estimators=300; total time=   0.4s\n",
      "[CV] END max_depth=10, max_features=sqrt, min_samples_leaf=4, min_samples_split=2, n_estimators=100; total time=   0.1s\n",
      "[CV] END max_depth=10, max_features=sqrt, min_samples_leaf=4, min_samples_split=2, n_estimators=100; total time=   0.1s\n",
      "[CV] END max_depth=10, max_features=sqrt, min_samples_leaf=4, min_samples_split=2, n_estimators=300; total time=   0.4s\n",
      "[CV] END max_depth=10, max_features=sqrt, min_samples_leaf=4, min_samples_split=10, n_estimators=100; total time=   0.1s\n",
      "[CV] END max_depth=10, max_features=sqrt, min_samples_leaf=4, min_samples_split=10, n_estimators=100; total time=   0.1s\n",
      "[CV] END max_depth=10, max_features=sqrt, min_samples_leaf=4, min_samples_split=10, n_estimators=300; total time=   0.4s\n",
      "[CV] END max_depth=10, max_features=log2, min_samples_leaf=1, min_samples_split=5, n_estimators=100; total time=   0.2s\n",
      "[CV] END max_depth=10, max_features=log2, min_samples_leaf=1, min_samples_split=5, n_estimators=100; total time=   0.2s\n",
      "[CV] END max_depth=10, max_features=log2, min_samples_leaf=1, min_samples_split=10, n_estimators=100; total time=   0.1s\n",
      "[CV] END max_depth=10, max_features=log2, min_samples_leaf=1, min_samples_split=10, n_estimators=100; total time=   0.1s\n",
      "[CV] END max_depth=10, max_features=log2, min_samples_leaf=1, min_samples_split=10, n_estimators=300; total time=   0.4s\n",
      "[CV] END max_depth=10, max_features=log2, min_samples_leaf=2, min_samples_split=2, n_estimators=300; total time=   0.5s\n",
      "[CV] END max_depth=10, max_features=log2, min_samples_leaf=2, min_samples_split=10, n_estimators=100; total time=   0.1s\n",
      "[CV] END max_depth=10, max_features=log2, min_samples_leaf=2, min_samples_split=10, n_estimators=100; total time=   0.1s\n",
      "[CV] END max_depth=10, max_features=log2, min_samples_leaf=2, min_samples_split=10, n_estimators=300; total time=   0.4s\n",
      "[CV] END max_depth=10, max_features=log2, min_samples_leaf=4, min_samples_split=2, n_estimators=300; total time=   0.5s\n",
      "[CV] END max_depth=10, max_features=log2, min_samples_leaf=4, min_samples_split=10, n_estimators=100; total time=   0.1s\n",
      "[CV] END max_depth=10, max_features=log2, min_samples_leaf=4, min_samples_split=10, n_estimators=300; total time=   0.4s\n",
      "[CV] END max_depth=None, max_features=sqrt, min_samples_leaf=1, min_samples_split=2, n_estimators=300; total time=   0.6s\n",
      "[CV] END max_depth=None, max_features=sqrt, min_samples_leaf=1, min_samples_split=10, n_estimators=100; total time=   0.1s\n",
      "[CV] END max_depth=None, max_features=sqrt, min_samples_leaf=1, min_samples_split=10, n_estimators=100; total time=   0.2s\n",
      "[CV] END max_depth=None, max_features=sqrt, min_samples_leaf=1, min_samples_split=10, n_estimators=300; total time=   0.4s\n",
      "[CV] END max_depth=None, max_features=sqrt, min_samples_leaf=2, min_samples_split=2, n_estimators=300; total time=   0.5s\n",
      "[CV] END max_depth=None, max_features=sqrt, min_samples_leaf=2, min_samples_split=10, n_estimators=100; total time=   0.2s\n",
      "[CV] END max_depth=None, max_features=sqrt, min_samples_leaf=2, min_samples_split=10, n_estimators=100; total time=   0.1s\n",
      "[CV] END max_depth=None, max_features=sqrt, min_samples_leaf=2, min_samples_split=10, n_estimators=300; total time=   0.5s\n",
      "[CV] END max_depth=None, max_features=sqrt, min_samples_leaf=4, min_samples_split=5, n_estimators=100; total time=   0.1s\n",
      "[CV] END max_depth=None, max_features=sqrt, min_samples_leaf=4, min_samples_split=5, n_estimators=100; total time=   0.2s\n",
      "[CV] END max_depth=None, max_features=sqrt, min_samples_leaf=4, min_samples_split=5, n_estimators=300; total time=   0.4s\n",
      "[CV] END max_depth=None, max_features=log2, min_samples_leaf=1, min_samples_split=2, n_estimators=100; total time=   0.2s\n",
      "[CV] END max_depth=None, max_features=log2, min_samples_leaf=1, min_samples_split=2, n_estimators=100; total time=   0.1s\n",
      "[CV] END max_depth=None, max_features=log2, min_samples_leaf=1, min_samples_split=2, n_estimators=300; total time=   0.6s\n",
      "[CV] END max_depth=None, max_features=log2, min_samples_leaf=1, min_samples_split=10, n_estimators=100; total time=   0.2s\n",
      "[CV] END max_depth=None, max_features=log2, min_samples_leaf=1, min_samples_split=10, n_estimators=100; total time=   0.2s\n",
      "[CV] END max_depth=None, max_features=log2, min_samples_leaf=1, min_samples_split=10, n_estimators=300; total time=   0.5s\n",
      "[CV] END max_depth=None, max_features=log2, min_samples_leaf=2, min_samples_split=5, n_estimators=100; total time=   0.2s\n",
      "[CV] END max_depth=None, max_features=log2, min_samples_leaf=2, min_samples_split=5, n_estimators=100; total time=   0.2s\n",
      "[CV] END max_depth=None, max_features=log2, min_samples_leaf=2, min_samples_split=5, n_estimators=300; total time=   0.5s\n",
      "[CV] END max_depth=None, max_features=log2, min_samples_leaf=4, min_samples_split=2, n_estimators=100; total time=   0.1s[CV] END max_depth=5, max_features=sqrt, min_samples_leaf=1, min_samples_split=2, n_estimators=100; total time=   0.1s\n",
      "[CV] END max_depth=5, max_features=sqrt, min_samples_leaf=1, min_samples_split=5, n_estimators=100; total time=   0.1s\n",
      "[CV] END max_depth=5, max_features=sqrt, min_samples_leaf=1, min_samples_split=5, n_estimators=100; total time=   0.1s\n",
      "[CV] END max_depth=5, max_features=sqrt, min_samples_leaf=1, min_samples_split=5, n_estimators=300; total time=   0.6s\n",
      "[CV] END max_depth=5, max_features=sqrt, min_samples_leaf=2, min_samples_split=2, n_estimators=100; total time=   0.2s\n",
      "[CV] END max_depth=5, max_features=sqrt, min_samples_leaf=2, min_samples_split=2, n_estimators=100; total time=   0.1s\n",
      "[CV] END max_depth=5, max_features=sqrt, min_samples_leaf=2, min_samples_split=2, n_estimators=300; total time=   0.3s\n",
      "[CV] END max_depth=5, max_features=sqrt, min_samples_leaf=2, min_samples_split=10, n_estimators=100; total time=   0.1s\n",
      "[CV] END max_depth=5, max_features=sqrt, min_samples_leaf=2, min_samples_split=10, n_estimators=300; total time=   0.3s\n",
      "[CV] END max_depth=5, max_features=sqrt, min_samples_leaf=4, min_samples_split=2, n_estimators=300; total time=   0.3s\n",
      "[CV] END max_depth=5, max_features=sqrt, min_samples_leaf=4, min_samples_split=5, n_estimators=300; total time=   0.3s\n",
      "[CV] END max_depth=5, max_features=sqrt, min_samples_leaf=4, min_samples_split=10, n_estimators=300; total time=   0.3s\n",
      "[CV] END max_depth=5, max_features=log2, min_samples_leaf=1, min_samples_split=5, n_estimators=100; total time=   0.1s\n",
      "[CV] END max_depth=5, max_features=log2, min_samples_leaf=1, min_samples_split=5, n_estimators=100; total time=   0.1s\n",
      "[CV] END max_depth=5, max_features=log2, min_samples_leaf=1, min_samples_split=5, n_estimators=300; total time=   0.3s\n",
      "[CV] END max_depth=5, max_features=log2, min_samples_leaf=1, min_samples_split=10, n_estimators=300; total time=   0.3s\n",
      "[CV] END max_depth=5, max_features=log2, min_samples_leaf=2, min_samples_split=5, n_estimators=100; total time=   0.1s\n",
      "[CV] END max_depth=5, max_features=log2, min_samples_leaf=2, min_samples_split=5, n_estimators=300; total time=   0.3s\n",
      "[CV] END max_depth=5, max_features=log2, min_samples_leaf=2, min_samples_split=10, n_estimators=300; total time=   0.3s\n",
      "[CV] END max_depth=5, max_features=log2, min_samples_leaf=4, min_samples_split=5, n_estimators=100; total time=   0.1s\n",
      "[CV] END max_depth=5, max_features=log2, min_samples_leaf=4, min_samples_split=5, n_estimators=300; total time=   0.4s\n",
      "[CV] END max_depth=5, max_features=log2, min_samples_leaf=4, min_samples_split=10, n_estimators=300; total time=   0.3s\n",
      "[CV] END max_depth=10, max_features=sqrt, min_samples_leaf=1, min_samples_split=2, n_estimators=300; total time=   0.5s\n",
      "[CV] END max_depth=10, max_features=sqrt, min_samples_leaf=1, min_samples_split=10, n_estimators=100; total time=   0.1s\n",
      "[CV] END max_depth=10, max_features=sqrt, min_samples_leaf=1, min_samples_split=10, n_estimators=100; total time=   0.1s\n",
      "[CV] END max_depth=10, max_features=sqrt, min_samples_leaf=1, min_samples_split=10, n_estimators=300; total time=   0.4s\n",
      "[CV] END max_depth=10, max_features=sqrt, min_samples_leaf=2, min_samples_split=5, n_estimators=100; total time=   0.1s\n",
      "[CV] END max_depth=10, max_features=sqrt, min_samples_leaf=2, min_samples_split=5, n_estimators=100; total time=   0.2s\n",
      "[CV] END max_depth=10, max_features=sqrt, min_samples_leaf=2, min_samples_split=5, n_estimators=300; total time=   0.4s\n",
      "[CV] END max_depth=10, max_features=sqrt, min_samples_leaf=4, min_samples_split=2, n_estimators=100; total time=   0.1s\n",
      "[CV] END max_depth=10, max_features=sqrt, min_samples_leaf=4, min_samples_split=2, n_estimators=100; total time=   0.1s\n",
      "[CV] END max_depth=10, max_features=sqrt, min_samples_leaf=4, min_samples_split=2, n_estimators=300; total time=   0.4s\n",
      "[CV] END max_depth=10, max_features=sqrt, min_samples_leaf=4, min_samples_split=10, n_estimators=100; total time=   0.1s\n",
      "[CV] END max_depth=10, max_features=sqrt, min_samples_leaf=4, min_samples_split=10, n_estimators=100; total time=   0.1s\n",
      "[CV] END max_depth=10, max_features=sqrt, min_samples_leaf=4, min_samples_split=10, n_estimators=300; total time=   0.4s\n",
      "[CV] END max_depth=10, max_features=log2, min_samples_leaf=1, min_samples_split=2, n_estimators=300; total time=   0.3s\n",
      "[CV] END max_depth=10, max_features=log2, min_samples_leaf=1, min_samples_split=5, n_estimators=300; total time=   0.4s\n",
      "[CV] END max_depth=10, max_features=log2, min_samples_leaf=2, min_samples_split=2, n_estimators=100; total time=   0.1s\n",
      "[CV] END max_depth=10, max_features=log2, min_samples_leaf=2, min_samples_split=2, n_estimators=100; total time=   0.3s\n",
      "[CV] END max_depth=10, max_features=log2, min_samples_leaf=2, min_samples_split=5, n_estimators=100; total time=   0.1s\n",
      "[CV] END max_depth=10, max_features=log2, min_samples_leaf=2, min_samples_split=5, n_estimators=100; total time=   0.1s\n",
      "[CV] END max_depth=10, max_features=log2, min_samples_leaf=2, min_samples_split=5, n_estimators=300; total time=   0.4s\n",
      "[CV] END max_depth=10, max_features=log2, min_samples_leaf=4, min_samples_split=2, n_estimators=100; total time=   0.1s\n",
      "[CV] END max_depth=10, max_features=log2, min_samples_leaf=4, min_samples_split=2, n_estimators=300; total time=   0.4s\n",
      "[CV] END max_depth=10, max_features=log2, min_samples_leaf=4, min_samples_split=5, n_estimators=300; total time=   0.5s\n",
      "[CV] END max_depth=None, max_features=sqrt, min_samples_leaf=1, min_samples_split=2, n_estimators=100; total time=   0.2s\n",
      "[CV] END max_depth=None, max_features=sqrt, min_samples_leaf=1, min_samples_split=2, n_estimators=100; total time=   0.2s\n",
      "[CV] END max_depth=None, max_features=sqrt, min_samples_leaf=1, min_samples_split=5, n_estimators=100; total time=   0.1s\n",
      "[CV] END max_depth=None, max_features=sqrt, min_samples_leaf=1, min_samples_split=5, n_estimators=100; total time=   0.2s\n",
      "[CV] END max_depth=None, max_features=sqrt, min_samples_leaf=1, min_samples_split=5, n_estimators=300; total time=   0.5s\n",
      "[CV] END max_depth=None, max_features=sqrt, min_samples_leaf=2, min_samples_split=2, n_estimators=100; total time=   0.1s\n",
      "[CV] END max_depth=None, max_features=sqrt, min_samples_leaf=2, min_samples_split=2, n_estimators=100; total time=   0.2s\n",
      "[CV] END max_depth=None, max_features=sqrt, min_samples_leaf=2, min_samples_split=2, n_estimators=300; total time=   0.5s\n",
      "[CV] END max_depth=None, max_features=sqrt, min_samples_leaf=2, min_samples_split=10, n_estimators=100; total time=   0.2s\n",
      "[CV] END max_depth=None, max_features=sqrt, min_samples_leaf=2, min_samples_split=10, n_estimators=100; total time=   0.2s\n",
      "[CV] END max_depth=None, max_features=sqrt, min_samples_leaf=2, min_samples_split=10, n_estimators=300; total time=   0.5s\n",
      "[CV] END max_depth=None, max_features=sqrt, min_samples_leaf=4, min_samples_split=5, n_estimators=100; total time=   0.2s\n",
      "[CV] END max_depth=None, max_features=sqrt, min_samples_leaf=4, min_samples_split=5, n_estimators=100; total time=   0.1s\n",
      "[CV] END max_depth=None, max_features=sqrt, min_samples_leaf=4, min_samples_split=5, n_estimators=300; total time=   0.4s\n",
      "[CV] END max_depth=None, max_features=sqrt, min_samples_leaf=4, min_samples_split=10, n_estimators=300; total time=   0.6s\n",
      "[CV] END max_depth=None, max_features=log2, min_samples_leaf=1, min_samples_split=5, n_estimators=100; total time=   0.2s\n",
      "[CV] END max_depth=None, max_features=log2, min_samples_leaf=1, min_samples_split=5, n_estimators=300; total time=   0.4s\n",
      "[CV] END max_depth=None, max_features=log2, min_samples_leaf=1, min_samples_split=10, n_estimators=300; total time=   0.5s\n",
      "[CV] END max_depth=None, max_features=log2, min_samples_leaf=2, min_samples_split=2, n_estimators=300; total time=   0.6s\n",
      "[CV] END max_depth=None, max_features=log2, min_samples_leaf=2, min_samples_split=5, n_estimators=300; total time=   0.5s\n",
      "[CV] END max_depth=None, max_features=log2, min_samples_leaf=4, min_samples_split=2, n_estimators=100; total time=   0.2s\n",
      "[CV] END max_depth=None, max_features=log2, min_samples_leaf=4, min_samples_split=2, n_estimators=300; total time=   0.4s\n",
      "[CV] END max_depth=None, max_features=log2, min_samples_leaf=4, min_samples_split=5, n_estimators=300; total time=   0.4sBest parameters found:  {'max_depth': None, 'max_features': 'sqrt', 'min_samples_leaf': 1, 'min_samples_split': 2, 'n_estimators': 300}\n"
     ]
    },
    {
     "data": {
      "text/html": [
       "<style>#sk-container-id-2 {\n",
       "  /* Definition of color scheme common for light and dark mode */\n",
       "  --sklearn-color-text: black;\n",
       "  --sklearn-color-line: gray;\n",
       "  /* Definition of color scheme for unfitted estimators */\n",
       "  --sklearn-color-unfitted-level-0: #fff5e6;\n",
       "  --sklearn-color-unfitted-level-1: #f6e4d2;\n",
       "  --sklearn-color-unfitted-level-2: #ffe0b3;\n",
       "  --sklearn-color-unfitted-level-3: chocolate;\n",
       "  /* Definition of color scheme for fitted estimators */\n",
       "  --sklearn-color-fitted-level-0: #f0f8ff;\n",
       "  --sklearn-color-fitted-level-1: #d4ebff;\n",
       "  --sklearn-color-fitted-level-2: #b3dbfd;\n",
       "  --sklearn-color-fitted-level-3: cornflowerblue;\n",
       "\n",
       "  /* Specific color for light theme */\n",
       "  --sklearn-color-text-on-default-background: var(--sg-text-color, var(--theme-code-foreground, var(--jp-content-font-color1, black)));\n",
       "  --sklearn-color-background: var(--sg-background-color, var(--theme-background, var(--jp-layout-color0, white)));\n",
       "  --sklearn-color-border-box: var(--sg-text-color, var(--theme-code-foreground, var(--jp-content-font-color1, black)));\n",
       "  --sklearn-color-icon: #696969;\n",
       "\n",
       "  @media (prefers-color-scheme: dark) {\n",
       "    /* Redefinition of color scheme for dark theme */\n",
       "    --sklearn-color-text-on-default-background: var(--sg-text-color, var(--theme-code-foreground, var(--jp-content-font-color1, white)));\n",
       "    --sklearn-color-background: var(--sg-background-color, var(--theme-background, var(--jp-layout-color0, #111)));\n",
       "    --sklearn-color-border-box: var(--sg-text-color, var(--theme-code-foreground, var(--jp-content-font-color1, white)));\n",
       "    --sklearn-color-icon: #878787;\n",
       "  }\n",
       "}\n",
       "\n",
       "#sk-container-id-2 {\n",
       "  color: var(--sklearn-color-text);\n",
       "}\n",
       "\n",
       "#sk-container-id-2 pre {\n",
       "  padding: 0;\n",
       "}\n",
       "\n",
       "#sk-container-id-2 input.sk-hidden--visually {\n",
       "  border: 0;\n",
       "  clip: rect(1px 1px 1px 1px);\n",
       "  clip: rect(1px, 1px, 1px, 1px);\n",
       "  height: 1px;\n",
       "  margin: -1px;\n",
       "  overflow: hidden;\n",
       "  padding: 0;\n",
       "  position: absolute;\n",
       "  width: 1px;\n",
       "}\n",
       "\n",
       "#sk-container-id-2 div.sk-dashed-wrapped {\n",
       "  border: 1px dashed var(--sklearn-color-line);\n",
       "  margin: 0 0.4em 0.5em 0.4em;\n",
       "  box-sizing: border-box;\n",
       "  padding-bottom: 0.4em;\n",
       "  background-color: var(--sklearn-color-background);\n",
       "}\n",
       "\n",
       "#sk-container-id-2 div.sk-container {\n",
       "  /* jupyter's `normalize.less` sets `[hidden] { display: none; }`\n",
       "     but bootstrap.min.css set `[hidden] { display: none !important; }`\n",
       "     so we also need the `!important` here to be able to override the\n",
       "     default hidden behavior on the sphinx rendered scikit-learn.org.\n",
       "     See: https://github.com/scikit-learn/scikit-learn/issues/21755 */\n",
       "  display: inline-block !important;\n",
       "  position: relative;\n",
       "}\n",
       "\n",
       "#sk-container-id-2 div.sk-text-repr-fallback {\n",
       "  display: none;\n",
       "}\n",
       "\n",
       "div.sk-parallel-item,\n",
       "div.sk-serial,\n",
       "div.sk-item {\n",
       "  /* draw centered vertical line to link estimators */\n",
       "  background-image: linear-gradient(var(--sklearn-color-text-on-default-background), var(--sklearn-color-text-on-default-background));\n",
       "  background-size: 2px 100%;\n",
       "  background-repeat: no-repeat;\n",
       "  background-position: center center;\n",
       "}\n",
       "\n",
       "/* Parallel-specific style estimator block */\n",
       "\n",
       "#sk-container-id-2 div.sk-parallel-item::after {\n",
       "  content: \"\";\n",
       "  width: 100%;\n",
       "  border-bottom: 2px solid var(--sklearn-color-text-on-default-background);\n",
       "  flex-grow: 1;\n",
       "}\n",
       "\n",
       "#sk-container-id-2 div.sk-parallel {\n",
       "  display: flex;\n",
       "  align-items: stretch;\n",
       "  justify-content: center;\n",
       "  background-color: var(--sklearn-color-background);\n",
       "  position: relative;\n",
       "}\n",
       "\n",
       "#sk-container-id-2 div.sk-parallel-item {\n",
       "  display: flex;\n",
       "  flex-direction: column;\n",
       "}\n",
       "\n",
       "#sk-container-id-2 div.sk-parallel-item:first-child::after {\n",
       "  align-self: flex-end;\n",
       "  width: 50%;\n",
       "}\n",
       "\n",
       "#sk-container-id-2 div.sk-parallel-item:last-child::after {\n",
       "  align-self: flex-start;\n",
       "  width: 50%;\n",
       "}\n",
       "\n",
       "#sk-container-id-2 div.sk-parallel-item:only-child::after {\n",
       "  width: 0;\n",
       "}\n",
       "\n",
       "/* Serial-specific style estimator block */\n",
       "\n",
       "#sk-container-id-2 div.sk-serial {\n",
       "  display: flex;\n",
       "  flex-direction: column;\n",
       "  align-items: center;\n",
       "  background-color: var(--sklearn-color-background);\n",
       "  padding-right: 1em;\n",
       "  padding-left: 1em;\n",
       "}\n",
       "\n",
       "\n",
       "/* Toggleable style: style used for estimator/Pipeline/ColumnTransformer box that is\n",
       "clickable and can be expanded/collapsed.\n",
       "- Pipeline and ColumnTransformer use this feature and define the default style\n",
       "- Estimators will overwrite some part of the style using the `sk-estimator` class\n",
       "*/\n",
       "\n",
       "/* Pipeline and ColumnTransformer style (default) */\n",
       "\n",
       "#sk-container-id-2 div.sk-toggleable {\n",
       "  /* Default theme specific background. It is overwritten whether we have a\n",
       "  specific estimator or a Pipeline/ColumnTransformer */\n",
       "  background-color: var(--sklearn-color-background);\n",
       "}\n",
       "\n",
       "/* Toggleable label */\n",
       "#sk-container-id-2 label.sk-toggleable__label {\n",
       "  cursor: pointer;\n",
       "  display: block;\n",
       "  width: 100%;\n",
       "  margin-bottom: 0;\n",
       "  padding: 0.5em;\n",
       "  box-sizing: border-box;\n",
       "  text-align: center;\n",
       "}\n",
       "\n",
       "#sk-container-id-2 label.sk-toggleable__label-arrow:before {\n",
       "  /* Arrow on the left of the label */\n",
       "  content: \"▸\";\n",
       "  float: left;\n",
       "  margin-right: 0.25em;\n",
       "  color: var(--sklearn-color-icon);\n",
       "}\n",
       "\n",
       "#sk-container-id-2 label.sk-toggleable__label-arrow:hover:before {\n",
       "  color: var(--sklearn-color-text);\n",
       "}\n",
       "\n",
       "/* Toggleable content - dropdown */\n",
       "\n",
       "#sk-container-id-2 div.sk-toggleable__content {\n",
       "  max-height: 0;\n",
       "  max-width: 0;\n",
       "  overflow: hidden;\n",
       "  text-align: left;\n",
       "  /* unfitted */\n",
       "  background-color: var(--sklearn-color-unfitted-level-0);\n",
       "}\n",
       "\n",
       "#sk-container-id-2 div.sk-toggleable__content.fitted {\n",
       "  /* fitted */\n",
       "  background-color: var(--sklearn-color-fitted-level-0);\n",
       "}\n",
       "\n",
       "#sk-container-id-2 div.sk-toggleable__content pre {\n",
       "  margin: 0.2em;\n",
       "  border-radius: 0.25em;\n",
       "  color: var(--sklearn-color-text);\n",
       "  /* unfitted */\n",
       "  background-color: var(--sklearn-color-unfitted-level-0);\n",
       "}\n",
       "\n",
       "#sk-container-id-2 div.sk-toggleable__content.fitted pre {\n",
       "  /* unfitted */\n",
       "  background-color: var(--sklearn-color-fitted-level-0);\n",
       "}\n",
       "\n",
       "#sk-container-id-2 input.sk-toggleable__control:checked~div.sk-toggleable__content {\n",
       "  /* Expand drop-down */\n",
       "  max-height: 200px;\n",
       "  max-width: 100%;\n",
       "  overflow: auto;\n",
       "}\n",
       "\n",
       "#sk-container-id-2 input.sk-toggleable__control:checked~label.sk-toggleable__label-arrow:before {\n",
       "  content: \"▾\";\n",
       "}\n",
       "\n",
       "/* Pipeline/ColumnTransformer-specific style */\n",
       "\n",
       "#sk-container-id-2 div.sk-label input.sk-toggleable__control:checked~label.sk-toggleable__label {\n",
       "  color: var(--sklearn-color-text);\n",
       "  background-color: var(--sklearn-color-unfitted-level-2);\n",
       "}\n",
       "\n",
       "#sk-container-id-2 div.sk-label.fitted input.sk-toggleable__control:checked~label.sk-toggleable__label {\n",
       "  background-color: var(--sklearn-color-fitted-level-2);\n",
       "}\n",
       "\n",
       "/* Estimator-specific style */\n",
       "\n",
       "/* Colorize estimator box */\n",
       "#sk-container-id-2 div.sk-estimator input.sk-toggleable__control:checked~label.sk-toggleable__label {\n",
       "  /* unfitted */\n",
       "  background-color: var(--sklearn-color-unfitted-level-2);\n",
       "}\n",
       "\n",
       "#sk-container-id-2 div.sk-estimator.fitted input.sk-toggleable__control:checked~label.sk-toggleable__label {\n",
       "  /* fitted */\n",
       "  background-color: var(--sklearn-color-fitted-level-2);\n",
       "}\n",
       "\n",
       "#sk-container-id-2 div.sk-label label.sk-toggleable__label,\n",
       "#sk-container-id-2 div.sk-label label {\n",
       "  /* The background is the default theme color */\n",
       "  color: var(--sklearn-color-text-on-default-background);\n",
       "}\n",
       "\n",
       "/* On hover, darken the color of the background */\n",
       "#sk-container-id-2 div.sk-label:hover label.sk-toggleable__label {\n",
       "  color: var(--sklearn-color-text);\n",
       "  background-color: var(--sklearn-color-unfitted-level-2);\n",
       "}\n",
       "\n",
       "/* Label box, darken color on hover, fitted */\n",
       "#sk-container-id-2 div.sk-label.fitted:hover label.sk-toggleable__label.fitted {\n",
       "  color: var(--sklearn-color-text);\n",
       "  background-color: var(--sklearn-color-fitted-level-2);\n",
       "}\n",
       "\n",
       "/* Estimator label */\n",
       "\n",
       "#sk-container-id-2 div.sk-label label {\n",
       "  font-family: monospace;\n",
       "  font-weight: bold;\n",
       "  display: inline-block;\n",
       "  line-height: 1.2em;\n",
       "}\n",
       "\n",
       "#sk-container-id-2 div.sk-label-container {\n",
       "  text-align: center;\n",
       "}\n",
       "\n",
       "/* Estimator-specific */\n",
       "#sk-container-id-2 div.sk-estimator {\n",
       "  font-family: monospace;\n",
       "  border: 1px dotted var(--sklearn-color-border-box);\n",
       "  border-radius: 0.25em;\n",
       "  box-sizing: border-box;\n",
       "  margin-bottom: 0.5em;\n",
       "  /* unfitted */\n",
       "  background-color: var(--sklearn-color-unfitted-level-0);\n",
       "}\n",
       "\n",
       "#sk-container-id-2 div.sk-estimator.fitted {\n",
       "  /* fitted */\n",
       "  background-color: var(--sklearn-color-fitted-level-0);\n",
       "}\n",
       "\n",
       "/* on hover */\n",
       "#sk-container-id-2 div.sk-estimator:hover {\n",
       "  /* unfitted */\n",
       "  background-color: var(--sklearn-color-unfitted-level-2);\n",
       "}\n",
       "\n",
       "#sk-container-id-2 div.sk-estimator.fitted:hover {\n",
       "  /* fitted */\n",
       "  background-color: var(--sklearn-color-fitted-level-2);\n",
       "}\n",
       "\n",
       "/* Specification for estimator info (e.g. \"i\" and \"?\") */\n",
       "\n",
       "/* Common style for \"i\" and \"?\" */\n",
       "\n",
       ".sk-estimator-doc-link,\n",
       "a:link.sk-estimator-doc-link,\n",
       "a:visited.sk-estimator-doc-link {\n",
       "  float: right;\n",
       "  font-size: smaller;\n",
       "  line-height: 1em;\n",
       "  font-family: monospace;\n",
       "  background-color: var(--sklearn-color-background);\n",
       "  border-radius: 1em;\n",
       "  height: 1em;\n",
       "  width: 1em;\n",
       "  text-decoration: none !important;\n",
       "  margin-left: 1ex;\n",
       "  /* unfitted */\n",
       "  border: var(--sklearn-color-unfitted-level-1) 1pt solid;\n",
       "  color: var(--sklearn-color-unfitted-level-1);\n",
       "}\n",
       "\n",
       ".sk-estimator-doc-link.fitted,\n",
       "a:link.sk-estimator-doc-link.fitted,\n",
       "a:visited.sk-estimator-doc-link.fitted {\n",
       "  /* fitted */\n",
       "  border: var(--sklearn-color-fitted-level-1) 1pt solid;\n",
       "  color: var(--sklearn-color-fitted-level-1);\n",
       "}\n",
       "\n",
       "/* On hover */\n",
       "div.sk-estimator:hover .sk-estimator-doc-link:hover,\n",
       ".sk-estimator-doc-link:hover,\n",
       "div.sk-label-container:hover .sk-estimator-doc-link:hover,\n",
       ".sk-estimator-doc-link:hover {\n",
       "  /* unfitted */\n",
       "  background-color: var(--sklearn-color-unfitted-level-3);\n",
       "  color: var(--sklearn-color-background);\n",
       "  text-decoration: none;\n",
       "}\n",
       "\n",
       "div.sk-estimator.fitted:hover .sk-estimator-doc-link.fitted:hover,\n",
       ".sk-estimator-doc-link.fitted:hover,\n",
       "div.sk-label-container:hover .sk-estimator-doc-link.fitted:hover,\n",
       ".sk-estimator-doc-link.fitted:hover {\n",
       "  /* fitted */\n",
       "  background-color: var(--sklearn-color-fitted-level-3);\n",
       "  color: var(--sklearn-color-background);\n",
       "  text-decoration: none;\n",
       "}\n",
       "\n",
       "/* Span, style for the box shown on hovering the info icon */\n",
       ".sk-estimator-doc-link span {\n",
       "  display: none;\n",
       "  z-index: 9999;\n",
       "  position: relative;\n",
       "  font-weight: normal;\n",
       "  right: .2ex;\n",
       "  padding: .5ex;\n",
       "  margin: .5ex;\n",
       "  width: min-content;\n",
       "  min-width: 20ex;\n",
       "  max-width: 50ex;\n",
       "  color: var(--sklearn-color-text);\n",
       "  box-shadow: 2pt 2pt 4pt #999;\n",
       "  /* unfitted */\n",
       "  background: var(--sklearn-color-unfitted-level-0);\n",
       "  border: .5pt solid var(--sklearn-color-unfitted-level-3);\n",
       "}\n",
       "\n",
       ".sk-estimator-doc-link.fitted span {\n",
       "  /* fitted */\n",
       "  background: var(--sklearn-color-fitted-level-0);\n",
       "  border: var(--sklearn-color-fitted-level-3);\n",
       "}\n",
       "\n",
       ".sk-estimator-doc-link:hover span {\n",
       "  display: block;\n",
       "}\n",
       "\n",
       "/* \"?\"-specific style due to the `<a>` HTML tag */\n",
       "\n",
       "#sk-container-id-2 a.estimator_doc_link {\n",
       "  float: right;\n",
       "  font-size: 1rem;\n",
       "  line-height: 1em;\n",
       "  font-family: monospace;\n",
       "  background-color: var(--sklearn-color-background);\n",
       "  border-radius: 1rem;\n",
       "  height: 1rem;\n",
       "  width: 1rem;\n",
       "  text-decoration: none;\n",
       "  /* unfitted */\n",
       "  color: var(--sklearn-color-unfitted-level-1);\n",
       "  border: var(--sklearn-color-unfitted-level-1) 1pt solid;\n",
       "}\n",
       "\n",
       "#sk-container-id-2 a.estimator_doc_link.fitted {\n",
       "  /* fitted */\n",
       "  border: var(--sklearn-color-fitted-level-1) 1pt solid;\n",
       "  color: var(--sklearn-color-fitted-level-1);\n",
       "}\n",
       "\n",
       "/* On hover */\n",
       "#sk-container-id-2 a.estimator_doc_link:hover {\n",
       "  /* unfitted */\n",
       "  background-color: var(--sklearn-color-unfitted-level-3);\n",
       "  color: var(--sklearn-color-background);\n",
       "  text-decoration: none;\n",
       "}\n",
       "\n",
       "#sk-container-id-2 a.estimator_doc_link.fitted:hover {\n",
       "  /* fitted */\n",
       "  background-color: var(--sklearn-color-fitted-level-3);\n",
       "}\n",
       "</style><div id=\"sk-container-id-2\" class=\"sk-top-container\"><div class=\"sk-text-repr-fallback\"><pre>RandomForestRegressor(max_features=&#x27;sqrt&#x27;, n_estimators=300, random_state=42)</pre><b>In a Jupyter environment, please rerun this cell to show the HTML representation or trust the notebook. <br />On GitHub, the HTML representation is unable to render, please try loading this page with nbviewer.org.</b></div><div class=\"sk-container\" hidden><div class=\"sk-item\"><div class=\"sk-estimator fitted sk-toggleable\"><input class=\"sk-toggleable__control sk-hidden--visually\" id=\"sk-estimator-id-2\" type=\"checkbox\" checked><label for=\"sk-estimator-id-2\" class=\"sk-toggleable__label fitted sk-toggleable__label-arrow fitted\">&nbsp;&nbsp;RandomForestRegressor<a class=\"sk-estimator-doc-link fitted\" rel=\"noreferrer\" target=\"_blank\" href=\"https://scikit-learn.org/1.5/modules/generated/sklearn.ensemble.RandomForestRegressor.html\">?<span>Documentation for RandomForestRegressor</span></a><span class=\"sk-estimator-doc-link fitted\">i<span>Fitted</span></span></label><div class=\"sk-toggleable__content fitted\"><pre>RandomForestRegressor(max_features=&#x27;sqrt&#x27;, n_estimators=300, random_state=42)</pre></div> </div></div></div></div>"
      ],
      "text/plain": [
       "RandomForestRegressor(max_features='sqrt', n_estimators=300, random_state=42)"
      ]
     },
     "execution_count": 58,
     "metadata": {},
     "output_type": "execute_result"
    }
   ],
   "source": [
    "#Now we will move on to the technology sector\n",
    "#The step will be similar from above\n",
    "\n",
    "# define the hyperparameter range which is the same as above\n",
    "param_grid = {\n",
    "    'n_estimators': [100, 300],\n",
    "    'max_depth': [5, 10, None],\n",
    "    'min_samples_split': [2, 5, 10],\n",
    "    'min_samples_leaf': [1, 2, 4],\n",
    "    'max_features': ['sqrt', 'log2']\n",
    "}\n",
    "\n",
    "# initialize the model\n",
    "rf_model = RandomForestRegressor(random_state=43)\n",
    "\n",
    "# perform hyperparameter search on training set\n",
    "grid_search = GridSearchCV(rf_model, param_grid, cv=5, scoring='r2', n_jobs=-1, verbose=2)\n",
    "grid_search.fit(X_train2, y_train2)\n",
    "\n",
    "# Finding the best parameter to be used later\n",
    "best_params = grid_search.best_params_\n",
    "print(\"Best parameters found: \", best_params)\n",
    "\n",
    "# use the best parameter to train the new model we have\n",
    "rf_best = RandomForestRegressor(**best_params, random_state=42)\n",
    "rf_best.fit(X_train2, y_train2)"
   ]
  },
  {
   "cell_type": "code",
   "execution_count": 59,
   "id": "56d7f6dd-7f3b-4ef8-a178-27cb16bd2e39",
   "metadata": {
    "colab": {
     "base_uri": "https://localhost:8080/"
    },
    "id": "56d7f6dd-7f3b-4ef8-a178-27cb16bd2e39",
    "outputId": "a551f9e3-fc46-4a34-847f-e143de0b53a1"
   },
   "outputs": [
    {
     "name": "stdout",
     "output_type": "stream",
     "text": [
      "Validation R² Score: 0.8378\n",
      "Validation Mean Squared Error: 0.0020\n"
     ]
    }
   ],
   "source": [
    "# Same as above, we will now evaluate the model based on validation set\n",
    "y_val_pred = rf_best.predict(X_val2)\n",
    "r2_val = r2_score(y_val2, y_val_pred)\n",
    "mse_val = mean_squared_error(y_val2, y_val_pred)\n",
    "\n",
    "print(f'Validation R² Score: {r2_val:.4f}')\n",
    "print(f'Validation Mean Squared Error: {mse_val:.4f}')"
   ]
  },
  {
   "cell_type": "code",
   "execution_count": 60,
   "id": "392efd4f-e8d4-44d3-909c-c29ab4a287d7",
   "metadata": {
    "colab": {
     "base_uri": "https://localhost:8080/"
    },
    "id": "392efd4f-e8d4-44d3-909c-c29ab4a287d7",
    "outputId": "7704fb2c-4320-4ca7-fb72-f5527a13777b"
   },
   "outputs": [
    {
     "name": "stdout",
     "output_type": "stream",
     "text": [
      "Test R² Score: 0.8873\n",
      "Test Mean Squared Error: 0.0014\n"
     ]
    }
   ],
   "source": [
    "# Now with testing set\n",
    "y_test_pred = rf_best.predict(X_test2)\n",
    "r2_test = r2_score(y_test2, y_test_pred)\n",
    "mse_test = mean_squared_error(y_test2, y_test_pred)\n",
    "\n",
    "print(f'Test R² Score: {r2_test:.4f}')\n",
    "print(f'Test Mean Squared Error: {mse_test:.4f}')"
   ]
  },
  {
   "cell_type": "markdown",
   "id": "62c927b7-5e42-4442-86f8-9587d38e3f1f",
   "metadata": {
    "id": "62c927b7-5e42-4442-86f8-9587d38e3f1f"
   },
   "source": [
    "feature importance"
   ]
  },
  {
   "cell_type": "code",
   "execution_count": 62,
   "id": "f0db289f-8ecc-4c69-9457-14f981004017",
   "metadata": {
    "colab": {
     "base_uri": "https://localhost:8080/",
     "height": 519
    },
    "id": "f0db289f-8ecc-4c69-9457-14f981004017",
    "outputId": "b4fa11e2-fb24-4747-a50f-fd6967599f6b"
   },
   "outputs": [
    {
     "data": {
      "image/png": "[encoded data removed]",
      "text/plain": [
       "<Figure size 1000x500 with 1 Axes>"
      ]
     },
     "metadata": {},
     "output_type": "display_data"
    }
   ],
   "source": [
    "#The process of getting feature importance will be the same as above\n",
    "\n",
    "num_features = X_train2.shape[1]\n",
    "feature_names = [f\"Feature {i}\" for i in range(num_features)]\n",
    "\n",
    "feature_importance = pd.Series(rf_best.feature_importances_, index=feature_names)\n",
    "feature_importance.sort_values(ascending=False).plot(kind=\"bar\", figsize=(10, 5))\n",
    "plt.title(\"Feature Importance\")\n",
    "plt.show()"
   ]
  },
  {
   "cell_type": "markdown",
   "id": "079c65f5-85f8-42af-aa67-1bdcc0aacd45",
   "metadata": {
    "id": "079c65f5-85f8-42af-aa67-1bdcc0aacd45"
   },
   "source": [
    "**what can this result present to us?**"
   ]
  },
  {
   "cell_type": "markdown",
   "id": "602a383e-1b5c-4afd-b714-5f43b82017ca",
   "metadata": {
    "id": "602a383e-1b5c-4afd-b714-5f43b82017ca"
   },
   "source": [
    "As being shown by the result of two plots generated for financial sector and technology sector, we can say that the gender variable is not as imfluential in this data set and age/salary plays a more significant role. We can say that the seniority and compensation structures is more related to the company performance.\n",
    "\n",
    "For financial sector (df_f), we can see that the result puts more weights on salary than age and compensation in finance is more tied to measurable output.\n",
    "\n",
    "For technology sector (df_t), on the otherhand, we can see that the result weights more on age, which means that they rely more on seniority and leadership experience.\n",
    "\n",
    "We can also suggest that current variables that we have is not enough to capture the whole diveristy's effect on company performance. More variables like educational background and ethnicity can be used to make the result more effective."
   ]
  },
  {
   "cell_type": "markdown",
   "id": "7451cd91-2c38-4c9a-befc-631f705d8ebc",
   "metadata": {
    "id": "7451cd91-2c38-4c9a-befc-631f705d8ebc"
   },
   "source": [
    "# *Random forest and decision comparison with SHAP value*"
   ]
  },
  {
   "cell_type": "code",
   "execution_count": 66,
   "id": "45fa868f-792a-4d7d-b945-e251613d91ef",
   "metadata": {
    "id": "45fa868f-792a-4d7d-b945-e251613d91ef"
   },
   "outputs": [],
   "source": [
    "# In order to make sure the result is accurate, we will perform the Random Forest and Decision Tree again\n",
    "import shap\n",
    "import numpy as np\n",
    "import pandas as pd\n",
    "import matplotlib.pyplot as plt\n",
    "from sklearn.ensemble import RandomForestRegressor\n",
    "from sklearn.tree import DecisionTreeRegressor\n",
    "from sklearn.model_selection import train_test_split\n",
    "from sklearn.metrics import mean_squared_error"
   ]
  },
  {
   "cell_type": "markdown",
   "id": "10fb8f81-2a02-4808-999c-f598691708db",
   "metadata": {
    "id": "10fb8f81-2a02-4808-999c-f598691708db"
   },
   "source": [
    "# **financial sector**"
   ]
  },
  {
   "cell_type": "code",
   "execution_count": 68,
   "id": "557a1978-5622-45f6-9e20-930d7e190222",
   "metadata": {
    "id": "557a1978-5622-45f6-9e20-930d7e190222"
   },
   "outputs": [],
   "source": [
    "#These steps will be for Decision Tree model\n",
    "\n",
    "# First we will start by training the Decision Tree\n",
    "dt = DecisionTreeRegressor(max_depth=5, random_state=42)\n",
    "dt.fit(X_train1, y_train1)\n",
    "\n",
    "# Then we will evaluate based on validation set\n",
    "y_val_pred_dt = dt.predict(X_val1)\n",
    "mse_val_dt = mean_squared_error(y_val1, y_val_pred_dt)\n",
    "\n",
    "# Lastly, we will evaluate it based on testing set\n",
    "y_test_pred_dt = dt.predict(X_test1)\n",
    "mse_test_dt = mean_squared_error(y_test1, y_test_pred_dt)"
   ]
  },
  {
   "cell_type": "code",
   "execution_count": 69,
   "id": "51e52eff-95b8-4091-bdd2-ba317c4ba90f",
   "metadata": {
    "id": "51e52eff-95b8-4091-bdd2-ba317c4ba90f"
   },
   "outputs": [],
   "source": [
    "#These steps will be for Random Forest model\n",
    "\n",
    "# First we train the Random Forest\n",
    "rf = RandomForestRegressor(n_estimators=100, max_depth=10, random_state=42)\n",
    "rf.fit(X_train1, y_train1)\n",
    "\n",
    "# Then we evaluate the random forest based on validation set\n",
    "y_val_pred_rf = rf.predict(X_val1)\n",
    "mse_val_rf = mean_squared_error(y_val1, y_val_pred_rf)\n",
    "\n",
    "# Lastly we evaluate based on testing set\n",
    "y_test_pred_rf = rf.predict(X_test1)\n",
    "mse_test_rf = mean_squared_error(y_test1, y_test_pred_rf)"
   ]
  },
  {
   "cell_type": "code",
   "execution_count": 70,
   "id": "d0e0e9e6-aca7-404b-bdf4-ca34df06a827",
   "metadata": {
    "colab": {
     "base_uri": "https://localhost:8080/"
    },
    "id": "d0e0e9e6-aca7-404b-bdf4-ca34df06a827",
    "outputId": "9c7ae70c-17cf-40f2-8030-2eff791aada4"
   },
   "outputs": [
    {
     "name": "stdout",
     "output_type": "stream",
     "text": [
      "Decision Tree Validation MSE: 0.010667547458653866\n",
      "Decision Tree Test MSE: 0.00808339875724588\n",
      "Random Forest Validation MSE: 0.002581581201983365\n",
      "Random Forest Test MSE: 0.0016472858593282438\n"
     ]
    }
   ],
   "source": [
    "#We will now print out the MSE results for validation and testing result for dt and rf\n",
    "print(f\"Decision Tree Validation MSE: {mse_val_dt}\")\n",
    "print(f\"Decision Tree Test MSE: {mse_test_dt}\")\n",
    "print(f\"Random Forest Validation MSE: {mse_val_rf}\")\n",
    "print(f\"Random Forest Test MSE: {mse_test_rf}\")"
   ]
  },
  {
   "cell_type": "code",
   "execution_count": 71,
   "id": "b409001d-0b3b-4dad-a525-2f10c4aa87ec",
   "metadata": {
    "colab": {
     "base_uri": "https://localhost:8080/",
     "height": 535
    },
    "id": "b409001d-0b3b-4dad-a525-2f10c4aa87ec",
    "outputId": "d4c8310f-3263-4ee3-c321-d8d0ffb2142b"
   },
   "outputs": [
    {
     "data": {
      "image/png": "[encoded data removed]",
      "text/plain": [
       "<Figure size 800x270 with 2 Axes>"
      ]
     },
     "metadata": {},
     "output_type": "display_data"
    },
    {
     "data": {
      "image/png": "[encoded data removed]",
      "text/plain": [
       "<Figure size 800x270 with 2 Axes>"
      ]
     },
     "metadata": {},
     "output_type": "display_data"
    }
   ],
   "source": [
    "# Here, we will calculate the SHAP based one the validation set\n",
    "\n",
    "#This part is based on random forest\n",
    "explainer_rf = shap.Explainer(rf, X_train1)\n",
    "shap_values_rf = explainer_rf(X_val1)\n",
    "\n",
    "#This part is based on decision tree\n",
    "explainer_dt = shap.Explainer(dt, X_train1)\n",
    "shap_values_dt = explainer_dt(X_val1)\n",
    "\n",
    "#We will show the SHAP Summary Plot for visualization\n",
    "shap.summary_plot(shap_values_rf, X_val1, title=\"Random Forest SHAP Values on Validation Data\")\n",
    "shap.summary_plot(shap_values_dt, X_val1, title=\"Decision Tree SHAP Values on Validation Data\")"
   ]
  },
  {
   "cell_type": "markdown",
   "id": "a66566cc-1600-41aa-9b52-bb7b4aa63a93",
   "metadata": {
    "id": "a66566cc-1600-41aa-9b52-bb7b4aa63a93"
   },
   "source": [
    "# **tech sector**"
   ]
  },
  {
   "cell_type": "code",
   "execution_count": 73,
   "id": "c1ed3590-fda7-40c0-914f-d06d09cb55ce",
   "metadata": {
    "id": "c1ed3590-fda7-40c0-914f-d06d09cb55ce"
   },
   "outputs": [],
   "source": [
    "# The process for technology sector will be the same as for financial sector.\n",
    "\n",
    "# Training the Decision tree model\n",
    "dt = DecisionTreeRegressor(max_depth=5, random_state=42)\n",
    "dt.fit(X_train2, y_train2)\n",
    "\n",
    "# evaluate based on validation set\n",
    "y_val_pred_dt = dt.predict(X_val2)\n",
    "mse_val_dt = mean_squared_error(y_val2, y_val_pred_dt)\n",
    "\n",
    "# evaluate based on testing set\n",
    "y_test_pred_dt = dt.predict(X_test2)\n",
    "mse_test_dt = mean_squared_error(y_test2, y_test_pred_dt)"
   ]
  },
  {
   "cell_type": "code",
   "execution_count": 74,
   "id": "cb4dd10d-b4b1-4a66-9b38-9ce848800b73",
   "metadata": {
    "id": "cb4dd10d-b4b1-4a66-9b38-9ce848800b73"
   },
   "outputs": [],
   "source": [
    "# Now training the Random Forest model\n",
    "rf = RandomForestRegressor(n_estimators=100, max_depth=10, random_state=43)\n",
    "rf.fit(X_train2, y_train2)\n",
    "\n",
    "# and evaluate based on validation set\n",
    "y_val_pred_rf = rf.predict(X_val2)\n",
    "mse_val_rf = mean_squared_error(y_val2, y_val_pred_rf)\n",
    "\n",
    "# lastly, evaluate based on testing set\n",
    "y_test_pred_rf = rf.predict(X_test2)\n",
    "mse_test_rf = mean_squared_error(y_test2, y_test_pred_rf)"
   ]
  },
  {
   "cell_type": "code",
   "execution_count": 75,
   "id": "97e31ed3-50b8-4ae9-a6ef-91af59499bfc",
   "metadata": {
    "colab": {
     "base_uri": "https://localhost:8080/"
    },
    "id": "97e31ed3-50b8-4ae9-a6ef-91af59499bfc",
    "outputId": "131d4aab-469b-4aeb-c39f-43d4788de1cb"
   },
   "outputs": [
    {
     "name": "stdout",
     "output_type": "stream",
     "text": [
      "Decision Tree Validation MSE: 0.010663507824571775\n",
      "Decision Tree Test MSE: 0.010278437641924251\n",
      "Random Forest Validation MSE: 0.006595708888983883\n",
      "Random Forest Test MSE: 0.006530169182374263\n"
     ]
    }
   ],
   "source": [
    "# Print out the MSE result\n",
    "print(f\"Decision Tree Validation MSE: {mse_val_dt}\")\n",
    "print(f\"Decision Tree Test MSE: {mse_test_dt}\")\n",
    "print(f\"Random Forest Validation MSE: {mse_val_rf}\")\n",
    "print(f\"Random Forest Test MSE: {mse_test_rf}\")"
   ]
  },
  {
   "cell_type": "code",
   "execution_count": 76,
   "id": "db3923e6-d18d-436d-a826-5794f5c2aa42",
   "metadata": {
    "colab": {
     "base_uri": "https://localhost:8080/",
     "height": 535
    },
    "id": "db3923e6-d18d-436d-a826-5794f5c2aa42",
    "outputId": "80bdbcf0-ebb7-4fa1-9a20-57d7ec48496c"
   },
   "outputs": [
    {
     "data": {
      "image/png": "[encoded data removed]",
      "text/plain": [
       "<Figure size 800x270 with 2 Axes>"
      ]
     },
     "metadata": {},
     "output_type": "display_data"
    },
    {
     "data": {
      "image/png": "[encoded data removed]",
      "text/plain": [
       "<Figure size 800x270 with 2 Axes>"
      ]
     },
     "metadata": {},
     "output_type": "display_data"
    }
   ],
   "source": [
    "# Using validation set to calculate SHAP value\n",
    "\n",
    "#For Random forest model\n",
    "explainer_rf = shap.Explainer(rf, X_train2)\n",
    "shap_values_rf = explainer_rf(X_val2)\n",
    "\n",
    "#For Decision Tree model\n",
    "explainer_dt = shap.Explainer(dt, X_train2)\n",
    "shap_values_dt = explainer_dt(X_val2)\n",
    "\n",
    "#And the SHAP Summary Plot for visualization\n",
    "shap.summary_plot(shap_values_rf, X_val2, title=\"Random Forest SHAP Values on Validation Data\")\n",
    "shap.summary_plot(shap_values_dt, X_val2, title=\"Decision Tree SHAP Values on Validation Data\")"
   ]
  },
  {
   "cell_type": "markdown",
   "id": "44372de7-2cbf-4b82-ba05-5e165cd1620a",
   "metadata": {
    "id": "44372de7-2cbf-4b82-ba05-5e165cd1620a"
   },
   "source": [
    "**what can this result present to us?**"
   ]
  },
  {
   "cell_type": "markdown",
   "id": "3f8c992f-c9c8-4097-b747-662b12259899",
   "metadata": {
    "id": "3f8c992f-c9c8-4097-b747-662b12259899"
   },
   "source": [
    "For above MSE results for both validation set and testing set from decision tree and random forest model, we can see that the results from random forest model performed better than decision tree since it has a lower value of MSE suggesting that it will make fewer large errors.\n",
    "\n",
    "Looking at the SHAP figures, for finance sector, feature 2 (salary)  has a very high SHAP value, meaning that it plays a significant role, feature 1 (age) is less in feature value, but it is still important to have. Feature 0, which is gender, is very low meaning it is not as influential or plays very less role in this model\n",
    "\n",
    "For technology sector, feature 1 has the highest SHAP value and plays a significant role and feature 2 is in the medium level which still plays a important role. For feature 0, it is similar to financial sector, it plays a less to no role to the result.\n",
    "\n",
    "Again, it still suggest that we need more variables to be added to this data set to make the result more reliable."
   ]
  },
  {
   "cell_type": "markdown",
   "id": "7d06482e-e230-451c-87cf-f403c847d295",
   "metadata": {
    "id": "7d06482e-e230-451c-87cf-f403c847d295"
   },
   "source": [
    "# *standardlize X*"
   ]
  },
  {
   "cell_type": "code",
   "execution_count": 80,
   "id": "b49eca6a-6d52-4221-a68f-cc13d97904ae",
   "metadata": {
    "id": "b49eca6a-6d52-4221-a68f-cc13d97904ae"
   },
   "outputs": [],
   "source": [
    "from sklearn.preprocessing import StandardScaler"
   ]
  },
  {
   "cell_type": "code",
   "execution_count": 81,
   "id": "716da829-440c-45d6-a437-7b313de336ad",
   "metadata": {
    "id": "716da829-440c-45d6-a437-7b313de336ad"
   },
   "outputs": [],
   "source": [
    "#Here, we are standardlizing X for financial sector\n",
    "X_f = df_f[['Gender', 'age_var', 'salary_var']]\n",
    "X_f_scaled = StandardScaler().fit_transform(X_f)\n",
    "\n",
    "#and standardlizing X for technology sector\n",
    "X_t = df_t[['Gender', 'age_var', 'salary_var']]\n",
    "X_t_scaled = StandardScaler().fit_transform(X_t)"
   ]
  },
  {
   "cell_type": "markdown",
   "id": "74b16d69-5e65-40d1-8109-98433ed1fd0f",
   "metadata": {
    "id": "74b16d69-5e65-40d1-8109-98433ed1fd0f"
   },
   "source": [
    "**ump**"
   ]
  },
  {
   "cell_type": "code",
   "execution_count": 83,
   "id": "e52dce6b-9927-4659-ae64-31ce8f783037",
   "metadata": {
    "colab": {
     "base_uri": "https://localhost:8080/",
     "height": 666
    },
    "id": "e52dce6b-9927-4659-ae64-31ce8f783037",
    "outputId": "e2166108-7855-4d3c-b60e-5b2327c9cd4d"
   },
   "outputs": [
    {
     "name": "stderr",
     "output_type": "stream",
     "text": [
      "/opt/anaconda3/lib/python3.12/site-packages/umap/umap_.py:1952: UserWarning: n_jobs value 1 overridden to 1 by setting random_state. Use no seed for parallelism.\n",
      "  warn(\n"
     ]
    },
    {
     "data": {
      "image/png": "[encoded data removed]",
      "text/plain": [
       "<Figure size 640x480 with 2 Axes>"
      ]
     },
     "metadata": {},
     "output_type": "display_data"
    }
   ],
   "source": [
    "import umap.umap_ as umap\n",
    "\n",
    "import matplotlib.pyplot as plt\n",
    "from sklearn.cluster import DBSCAN\n",
    "from sklearn.preprocessing import StandardScaler\n",
    "import pandas as pd\n",
    "X_f = df_f[['Gender', 'age_var', 'salary_var']]\n",
    "X_f_scaled = StandardScaler().fit_transform(X_f)\n",
    "\n",
    "\n",
    "reducer = umap.UMAP(n_neighbors=15, min_dist=1.0, n_components=10, random_state=42)\n",
    "X_umap = reducer.fit_transform(X_f_scaled)\n",
    "\n",
    "dbscan = DBSCAN(eps=1.0, min_samples=5)\n",
    "labels = dbscan.fit_predict(X_umap)\n",
    "\n",
    "\n",
    "plt.scatter(X_umap[:, 0], X_umap[:, 1], c=labels, cmap='Spectral', s=10)\n",
    "plt.title(\"UMAP + DBSCAN Clustering\")\n",
    "plt.xlabel(\"UMAP-1\")\n",
    "plt.ylabel(\"UMAP-2\")\n",
    "plt.colorbar()\n",
    "plt.show()"
   ]
  },
  {
   "cell_type": "markdown",
   "id": "c19d073f-77c8-42ea-9868-cdf084b7ad91",
   "metadata": {},
   "source": [
    "The UMAP + DBSCAN clustering map from above shows a dense part in the middle which we concluded that it might be a noise cluster and it symbolize how many companies will have similar diversity profiles. Other than the dense part in the middle, the fact that there are no distinct color will symbolize that there are no clear categorical difference. It does also suggest that the diversity's impact on performance might be nonlinear."
   ]
  },
  {
   "cell_type": "code",
   "execution_count": 85,
   "id": "b2d1fe96-ea4b-44da-8c53-8ad69208fc47",
   "metadata": {
    "colab": {
     "base_uri": "https://localhost:8080/"
    },
    "id": "b2d1fe96-ea4b-44da-8c53-8ad69208fc47",
    "outputId": "c56f9a53-b7e4-4ed2-b502-4ff31e00a34d"
   },
   "outputs": [
    {
     "name": "stdout",
     "output_type": "stream",
     "text": [
      "cluster label types: [  0   1   2   3   4   5   6   7   8   9  10  11  12  13  14  15  16  17\n",
      "  18  19  20  21  22  23  24  25  26  27  28  29  30  31  32  33  34  35\n",
      "  36  37  38  39  40  41  42  43  44  45  46  47  48  49  50  51  52  53\n",
      "  54  55  56  57  58  59  60  61  62  63  64  65  66  67  68  69  70  71\n",
      "  72  73  74  75  76  77  78  79  80  81  82  83  84  85  86  87  88  89\n",
      "  90  91  92  93  94  95  96  97  98  99 100 101 102 103 104 105 106 107\n",
      " 108 109 110 111 112 113 114 115 116 117 118 119 120 121 122 123 124 125\n",
      " 126 127 128 129 130 131 132 133 134 135 136 137 138 139 140 141 142 143\n",
      " 144 145 146 147 148 149 150 151 152 153 154 155 156 157 158 159 160 161\n",
      " 162 163 164 165 166 167 168 169 170 171 172 173 174 175 176 177 178 179\n",
      " 180 181 182 183 184 185 186 187 188 189 190 191 192 193 194 195]\n",
      "Silhouette Score: 0.829\n"
     ]
    }
   ],
   "source": [
    "from sklearn.metrics import silhouette_score\n",
    "import numpy as np\n",
    "\n",
    "# For later use, we will check the cluster label types\n",
    "print(\"cluster label types:\", np.unique(labels))\n",
    "\n",
    "# Calculating the silhouette score at situation where there are at least two cluster and not all noise.\n",
    "if len(set(labels)) > 1 and -1 in labels:\n",
    "    mask = labels != -1 \n",
    "    score = silhouette_score(X_umap[mask], labels[mask])\n",
    "    print(\"Silhouette Score (excluding noise):\", round(score, 3))\n",
    "elif len(set(labels)) > 1:\n",
    "    score = silhouette_score(X_umap, labels)\n",
    "    print(\"Silhouette Score:\", round(score, 3))\n",
    "else:\n",
    "    print(\"Unable to calculate Silhouette Score：Only one cluster or all are noise\")"
   ]
  },
  {
   "cell_type": "code",
   "execution_count": 86,
   "id": "4cecc657-daf5-45a6-bab1-a82902cf4d98",
   "metadata": {
    "colab": {
     "base_uri": "https://localhost:8080/",
     "height": 1000
    },
    "id": "4cecc657-daf5-45a6-bab1-a82902cf4d98",
    "outputId": "158d34e2-763c-462e-b2c9-ffabf3fe61c9"
   },
   "outputs": [
    {
     "name": "stderr",
     "output_type": "stream",
     "text": [
      "/opt/anaconda3/lib/python3.12/site-packages/umap/umap_.py:1952: UserWarning: n_jobs value 1 overridden to 1 by setting random_state. Use no seed for parallelism.\n",
      "  warn(\n"
     ]
    },
    {
     "name": "stdout",
     "output_type": "stream",
     "text": [
      "✅ New best score: 0.970 at eps=0.2, min_samples=3\n",
      "\n",
      " best combination:\n",
      "eps = 0.2, min_samples = 3\n",
      "silhouette score = 0.970\n"
     ]
    },
    {
     "data": {
      "image/png": "[encoded data removed]",
      "text/plain": [
       "<Figure size 800x600 with 1 Axes>"
      ]
     },
     "metadata": {},
     "output_type": "display_data"
    },
    {
     "name": "stdout",
     "output_type": "stream",
     "text": [
      "Number of samples per category：\n",
      "Cluster\n",
      "-1      63\n",
      " 0    3369\n",
      " 1      33\n",
      " 2      22\n",
      " 3      21\n",
      " 4      32\n",
      " 5      32\n",
      " 6      26\n",
      " 7      22\n",
      "Name: count, dtype: int64\n",
      "The mean of each feature：\n",
      "           Gender     age_var    salary_var\n",
      "Cluster                                    \n",
      "-1       1.000000   65.247090  8.759096e+05\n",
      " 0       0.888394   33.784700  3.970108e+06\n",
      " 1       1.000000  149.636364  2.802606e+06\n",
      " 2       1.000000    3.536364  1.022714e+06\n",
      " 3       1.000000   36.897959  1.038836e+06\n",
      " 4       1.000000    1.390625  1.284560e+07\n",
      " 5       1.000000    0.169271  2.268113e+06\n",
      " 6       1.000000   20.361538  5.312527e+04\n",
      " 7       1.000000   51.454545  9.313302e+04\n"
     ]
    },
    {
     "data": {
      "text/plain": [
       "<Figure size 1000x600 with 0 Axes>"
      ]
     },
     "metadata": {},
     "output_type": "display_data"
    },
    {
     "data": {
      "image/png": "[encoded data removed]",
      "text/plain": [
       "<Figure size 1000x600 with 1 Axes>"
      ]
     },
     "metadata": {},
     "output_type": "display_data"
    }
   ],
   "source": [
    "from sklearn.cluster import DBSCAN\n",
    "from sklearn.metrics import silhouette_score\n",
    "import umap\n",
    "import hdbscan\n",
    "import numpy as np\n",
    "X_umap = umap.UMAP(n_components=2, random_state=42).fit_transform(X_f_scaled)\n",
    "best_score = -1\n",
    "best_params = None\n",
    "\n",
    "eps_range = np.arange(0.2, 2.0, 0.1)\n",
    "min_samples_range = range(3, 15)\n",
    "\n",
    "for eps in eps_range:\n",
    "    for min_s in min_samples_range:\n",
    "        db = DBSCAN(eps=eps, min_samples=min_s).fit(X_umap)\n",
    "        labels = db.labels_\n",
    "\n",
    "        if len(set(labels)) <= 1 or (len(set(labels)) == 2 and -1 in set(labels)):\n",
    "            continue\n",
    "\n",
    "        score = silhouette_score(X_umap, labels)\n",
    "\n",
    "        if score > best_score:\n",
    "            best_score = score\n",
    "            best_params = (eps, min_s)\n",
    "            print(f\"✅ New best score: {score:.3f} at eps={eps}, min_samples={min_s}\")\n",
    "\n",
    "print(\"\\n best combination:\")\n",
    "print(f\"eps = {best_params[0]}, min_samples = {best_params[1]}\")\n",
    "print(f\"silhouette score = {best_score:.3f}\")\n",
    "import matplotlib.pyplot as plt\n",
    "from sklearn.cluster import DBSCAN\n",
    "\n",
    "db_final = DBSCAN(eps=4, min_samples=20).fit(X_umap)\n",
    "labels_final = db_final.labels_\n",
    "\n",
    "# Plot the graph\n",
    "plt.figure(figsize=(8, 6))\n",
    "plt.scatter(X_umap[:, 0], X_umap[:, 1], c=labels_final, cmap='tab10', s=50)\n",
    "plt.title(\"Final DBSCAN Clustering on UMAP Embedding\")\n",
    "plt.xlabel(\"UMAP 1\")\n",
    "plt.ylabel(\"UMAP 2\")\n",
    "plt.grid(True)\n",
    "plt.show()\n",
    "import pandas as pd\n",
    "import matplotlib.pyplot as plt\n",
    "\n",
    "# DataFrame\n",
    "df_f_clustered = X_f.copy()\n",
    "df_f_clustered['Cluster'] = labels_final\n",
    "\n",
    "\n",
    "cluster_counts = df_f_clustered['Cluster'].value_counts().sort_index()\n",
    "print(\"Number of samples per category：\")\n",
    "print(cluster_counts)\n",
    "\n",
    "cluster_means = df_f_clustered.groupby('Cluster').mean()\n",
    "print(\"The mean of each feature：\")\n",
    "print(cluster_means)\n",
    "\n",
    "# Visualization histogram: feature mean of different clusters\n",
    "plt.figure(figsize=(10, 6))\n",
    "cluster_means.T.plot(kind='bar', figsize=(10,6))\n",
    "plt.title(\"Comparison of feature means of each cluster category\")\n",
    "plt.ylabel(\"average value\")\n",
    "plt.xticks(rotation=0)\n",
    "plt.grid(True)\n",
    "plt.legend(title=\"Cluster\")\n",
    "plt.tight_layout()\n",
    "plt.show()"
   ]
  },
  {
   "cell_type": "markdown",
   "id": "qEVKQtfkEJ89",
   "metadata": {
    "id": "qEVKQtfkEJ89"
   },
   "source": [
    "We can see from above analysis that silhouette score is 0.970 which is very high meaning that there exist an excellent separation between clusters. In the above case, there is 8 cluster (0-7) with one noise (-1). There is only a few cluster that we should be aware of which is cluster 4, 0, 5. cluster 4 shows a dominant in salary and cluster 0 shows a dominant in population while cluster 5 symbolize a group of very young and mixed gender executive.\n",
    "From above clustering, we can notice that workforce diversity is divides into distinct archetypes which can basically known for two types: A dominant, moderately paid, somewhat diverse mainstream group (cluster 0) and A highly compensated, homogenous, older elite group (cluster 4).\n",
    "We can say that the effect of nonlinear dimensionality reduction cluster is not obvious therefore we will move on to the next model."
   ]
  },
  {
   "cell_type": "markdown",
   "id": "gsfjuiD98bJK",
   "metadata": {
    "id": "gsfjuiD98bJK"
   },
   "source": [
    "linear"
   ]
  },
  {
   "cell_type": "code",
   "execution_count": 89,
   "id": "f74c9fa5-b77f-4e0f-ae91-97ca0bfe3027",
   "metadata": {
    "colab": {
     "base_uri": "https://localhost:8080/",
     "height": 1000
    },
    "id": "f74c9fa5-b77f-4e0f-ae91-97ca0bfe3027",
    "outputId": "06e597b2-bc1e-493f-f38d-776e64057d42"
   },
   "outputs": [
    {
     "data": {
      "image/png": "[encoded data removed]",
      "text/plain": [
       "<Figure size 500x400 with 1 Axes>"
      ]
     },
     "metadata": {},
     "output_type": "display_data"
    },
    {
     "data": {
      "image/png": "[encoded data removed]",
      "text/plain": [
       "<Figure size 500x400 with 1 Axes>"
      ]
     },
     "metadata": {},
     "output_type": "display_data"
    },
    {
     "data": {
      "image/png": "[encoded data removed]",
      "text/plain": [
       "<Figure size 500x400 with 1 Axes>"
      ]
     },
     "metadata": {},
     "output_type": "display_data"
    }
   ],
   "source": [
    "#Again, we want to test the linearity of the data set one more time to make sure our result will be accurate.\n",
    "import seaborn as sns\n",
    "import matplotlib.pyplot as plt\n",
    "\n",
    "#There is too much warning coming out, therefore, I filter the warning to make it look better\n",
    "import warnings\n",
    "warnings.filterwarnings(\"ignore\", category=np.RankWarning)\n",
    "\n",
    "for col in ['Gender','age_var', 'salary_var']:\n",
    "    plt.figure(figsize=(5, 4))\n",
    "    sns.scatterplot(data=df_f, x=col, y='ROA', alpha=0.5)\n",
    "    sns.regplot(data=df_f, x=col, y='ROA', scatter=False, color='red', order=2)  # order=2 加二次曲线\n",
    "    plt.title(f\"{col} vs ROA (with polynomial fit)\")\n",
    "    plt.xlabel(col)\n",
    "    plt.ylabel(\"ROA\")\n",
    "    plt.show()"
   ]
  },
  {
   "cell_type": "markdown",
   "id": "938d8865-c289-4818-806c-b15c89ab2e60",
   "metadata": {},
   "source": [
    "From above three graphs, we can suggest that all of them will not be linear. Therefore we can move on to the next step."
   ]
  },
  {
   "cell_type": "markdown",
   "id": "muHiLdFmGFoE",
   "metadata": {
    "id": "muHiLdFmGFoE"
   },
   "source": [
    "NMF"
   ]
  },
  {
   "cell_type": "code",
   "execution_count": 92,
   "id": "FCx808gLGGUm",
   "metadata": {
    "id": "FCx808gLGGUm"
   },
   "outputs": [
    {
     "data": {
      "image/png": "[encoded data removed]",
      "text/plain": [
       "<Figure size 640x480 with 1 Axes>"
      ]
     },
     "metadata": {},
     "output_type": "display_data"
    },
    {
     "name": "stdout",
     "output_type": "stream",
     "text": [
      "cluster types: [-1  0  1]\n",
      "Silhouette Score (excluding noise): 0.861\n"
     ]
    }
   ],
   "source": [
    "from sklearn.preprocessing import MinMaxScaler\n",
    "from sklearn.decomposition import NMF\n",
    "from sklearn.cluster import DBSCAN\n",
    "from sklearn.preprocessing import MinMaxScaler\n",
    "import matplotlib.pyplot as plt\n",
    "from sklearn.metrics import silhouette_score\n",
    "import numpy as np\n",
    "\n",
    "X_f = df_f[['Gender', 'age_var', 'salary_var']]\n",
    "X_sf = MinMaxScaler().fit_transform(X_f)\n",
    "\n",
    "\n",
    "nmf = NMF(n_components=2, init='random', random_state=0, max_iter=500)\n",
    "X_nmf = nmf.fit_transform(X_sf)\n",
    "\n",
    "dbscan = DBSCAN(eps=0.3, min_samples=5)\n",
    "labels = dbscan.fit_predict(X_nmf)\n",
    "\n",
    "if X_nmf.shape[1] == 2:\n",
    "    plt.scatter(X_nmf[:, 0], X_nmf[:, 1], c=labels, cmap='viridis')\n",
    "    plt.title(\"NMF + DBSCAN Clustering\")\n",
    "    plt.show()\n",
    "\n",
    "print(\"cluster types:\", np.unique(labels))\n",
    "\n",
    "# Only calculate the silhouette if there are at least 2 clusters (and not all are noise)\n",
    "if len(set(labels)) > 1 and -1 in labels:\n",
    "    mask = labels != -1  # 排除噪声点\n",
    "    score = silhouette_score(X_nmf[mask], labels[mask])\n",
    "    print(\"Silhouette Score (excluding noise):\", round(score, 3))\n",
    "elif len(set(labels)) > 1:\n",
    "    score = silhouette_score(X_nmf, labels)\n",
    "    print(\"Silhouette Score:\", round(score, 3))\n",
    "else:\n",
    "    print(\"Unable to calculate Silhouette Score：Too few clusters\")"
   ]
  },
  {
   "cell_type": "markdown",
   "id": "3a9c44a4-2d92-45b3-8540-3cbb0a305ffa",
   "metadata": {},
   "source": [
    "**what can this result present to us?**"
   ]
  },
  {
   "cell_type": "markdown",
   "id": "OeQXY5G2GPvF",
   "metadata": {
    "id": "OeQXY5G2GPvF"
   },
   "source": [
    "As we see in the graph and the result from previous section, there are three kinds of clusters (-1,0,1). DBSCAN found two dense, well-separated groups (the noise in filter out). \n",
    "We can conclude that there is a clear pattern based the diversity trend which means that again we have seen an archetypes between the groups. We can also say that companies with higher diversity will have a higher performance."
   ]
  },
  {
   "cell_type": "markdown",
   "id": "-lkEQuJAGR5u",
   "metadata": {
    "id": "-lkEQuJAGR5u"
   },
   "source": [
    "Though result from NMF and dbscan are shown and usable, they are not performing too well. Therefore, we do want to try out more models to make sure our results are more reliable and useful, so we will use the Kmeans + DBSCAN next."
   ]
  },
  {
   "cell_type": "markdown",
   "id": "Vcwc3RHq8rmF",
   "metadata": {
    "id": "Vcwc3RHq8rmF"
   },
   "source": [
    "# *Financial Sector*"
   ]
  },
  {
   "cell_type": "code",
   "execution_count": 97,
   "id": "Rg09kzEaAnTd",
   "metadata": {
    "id": "Rg09kzEaAnTd"
   },
   "outputs": [],
   "source": [
    "#First we will start with the financial sector\n",
    "from sklearn.decomposition import PCA\n",
    "from sklearn.cluster import DBSCAN\n",
    "from sklearn.metrics import silhouette_score\n",
    "import matplotlib.pyplot as plt\n",
    "\n",
    "#PCA dimensionality reduction (reduced to 2-dimensional)\n",
    "pca = PCA(n_components=2)\n",
    "X_pca_f = pca.fit_transform(X_f_scaled)\n"
   ]
  },
  {
   "cell_type": "markdown",
   "id": "KKK2wrtmBEcu",
   "metadata": {
    "id": "KKK2wrtmBEcu"
   },
   "source": [
    "Best eps & min_samples for financial sector: (np.float64(0.8000000000000002), 6)"
   ]
  },
  {
   "cell_type": "code",
   "execution_count": 99,
   "id": "5hwm4IACDX-8",
   "metadata": {
    "id": "5hwm4IACDX-8"
   },
   "outputs": [],
   "source": [
    "#We created a new db value with the eps and min_sample we have gain before and apply it to find the db_f from X_pca_f\n",
    "db = DBSCAN(eps=0.8000000000000002,\n",
    "            min_samples=6,\n",
    "            metric='euclidean')\n",
    "db_f = db.fit_predict(X_pca_f)"
   ]
  },
  {
   "cell_type": "code",
   "execution_count": 100,
   "id": "2defee6c-1608-4a1d-b708-532fcc15d2de",
   "metadata": {
    "colab": {
     "base_uri": "https://localhost:8080/",
     "height": 581
    },
    "id": "2defee6c-1608-4a1d-b708-532fcc15d2de",
    "outputId": "691b1e27-7be9-4816-a80e-8b50fefda03c"
   },
   "outputs": [
    {
     "name": "stdout",
     "output_type": "stream",
     "text": [
      "Silhouette Score (PCA + DBSCAN): 0.777\n"
     ]
    },
    {
     "data": {
      "image/png": "[encoded data removed]",
      "text/plain": [
       "<Figure size 800x600 with 1 Axes>"
      ]
     },
     "metadata": {},
     "output_type": "display_data"
    }
   ],
   "source": [
    "# DBSCAN\n",
    "db = DBSCAN(eps=0.8000000000000002, min_samples=6)\n",
    "labels_pca = db.fit_predict(X_pca_f)\n",
    "\n",
    "# silhouette score\n",
    "if len(set(labels_pca)) > 1 and not (len(set(labels_pca)) == 2 and -1 in set(labels_pca)):\n",
    "    score = silhouette_score(X_pca_f, labels_pca)\n",
    "    print(f\"Silhouette Score (PCA + DBSCAN): {score:.3f}\")\n",
    "else:\n",
    "    print(\"error\")\n",
    "\n",
    "#we can visualize the plot\n",
    "plt.figure(figsize=(8, 6))\n",
    "plt.scatter(X_pca_f[:, 0], X_pca_f[:, 1], c=labels_pca, cmap='tab10', s=50)\n",
    "plt.title(\"PCA + DBSCAN Clustering Result\")\n",
    "plt.xlabel(\"PCA 1\")\n",
    "plt.ylabel(\"PCA 2\")\n",
    "plt.grid(True)\n",
    "plt.show()"
   ]
  },
  {
   "cell_type": "code",
   "execution_count": 101,
   "id": "EgQoBAKtCodH",
   "metadata": {
    "colab": {
     "base_uri": "https://localhost:8080/"
    },
    "id": "EgQoBAKtCodH",
    "outputId": "2113ff2f-4263-4a30-c5f2-8968377828ff"
   },
   "outputs": [
    {
     "name": "stdout",
     "output_type": "stream",
     "text": [
      "|   Cluster |   Avg Age Var |   Avg Salary Var |   Gender % (1=Male) |   Avg ROA  |\n",
      "|----------:|--------------:|-----------------:|--------------------:|-----------:|\n",
      "|        -1 |      152.077  |      7.87481e+07 |            0.769231 | 0.029436   |\n",
      "|         0 |       34.6397 |      2.84878e+06 |            1        | 0.0650833  |\n",
      "|         1 |       25.6887 |      2.29869e+06 |            0        | 0.099405   |\n",
      "|         2 |       19.7667 |      1.7268e+08  |            1        | 0.160218   |\n",
      "|         3 |       95.1636 |      1.08313e+08 |            1        | 0.0735545  |\n",
      "|         4 |      246.8    |      1.33041e+08 |            1        | 0.00786462 |\n"
     ]
    },
    {
     "name": "stderr",
     "output_type": "stream",
     "text": [
      "/var/folders/q9/dz3c_3gs7nn0085_6dk797tc0000gn/T/ipykernel_61547/3291848209.py:2: SettingWithCopyWarning: \n",
      "A value is trying to be set on a copy of a slice from a DataFrame.\n",
      "Try using .loc[row_indexer,col_indexer] = value instead\n",
      "\n",
      "See the caveats in the documentation: https://pandas.pydata.org/pandas-docs/stable/user_guide/indexing.html#returning-a-view-versus-a-copy\n",
      "  df_f['cluster'] = db_f\n"
     ]
    }
   ],
   "source": [
    "#Now with the DBSCAN result found, we can add it to the original data set df_f and we name it df_f\n",
    "df_f['cluster'] = db_f\n",
    "\n",
    "# Find the cluster mean for the variable \n",
    "summary = df_f.groupby('cluster')[['age_var', 'salary_var', 'Gender', 'ROA']].mean()\n",
    "\n",
    "# We renamed the columns for it to be better to be used in the report and markdown tables\n",
    "summary.columns = ['Avg Age Var', 'Avg Salary Var', 'Gender % (1=Male)', 'Avg ROA ']\n",
    "summary.index.name = 'Cluster'\n",
    "\n",
    "# Print a neat markdown table to be used in the report\n",
    "print(summary.to_markdown())"
   ]
  },
  {
   "cell_type": "code",
   "execution_count": 102,
   "id": "IwnVh1t6Cbgc",
   "metadata": {
    "colab": {
     "base_uri": "https://localhost:8080/"
    },
    "id": "IwnVh1t6Cbgc",
    "outputId": "28fbd4e0-2106-49e2-bde7-e9dbe27326a5"
   },
   "outputs": [
    {
     "name": "stdout",
     "output_type": "stream",
     "text": [
      "Cluster -1: 13 samples\n",
      "Cluster 0: 3211 samples\n",
      "Cluster 1: 373 samples\n",
      "Cluster 2: 6 samples\n",
      "Cluster 3: 11 samples\n",
      "Cluster 4: 6 samples\n"
     ]
    }
   ],
   "source": [
    "#Here, we are getting the unique cluster labels and the counts of the clusters in the sample\n",
    "unique_labels, counts = np.unique(db_f, return_counts=True)\n",
    "\n",
    "# we loop through all the labels and their counts\n",
    "for label, count in zip(unique_labels, counts):\n",
    "    print(f\"Cluster {label}: {count} samples\")"
   ]
  },
  {
   "cell_type": "markdown",
   "id": "f06a0fbd-8bb7-42e7-b898-b6695f044843",
   "metadata": {},
   "source": [
    "For finance sector, we can see that there are 5 clusters with 1 noise and the silhouette score is 0.777 which symboize a good separation of the clusters. Cluster 0 has the largest sample but the result is very mediocre. We could set this as our core workforce but if we look at the other clusters, they will outperforming it. Cluster 1 suggest that young age, female personnel with high ROA will increase the performance of the company. Cluster two, with the highest ROA, has a tiny group but still can represent the top talent personnel. Cluster 3 is just moderate with relatively old personnel with high pay. Cluster 4 is a variance, therefore we excluded it. \n",
    "By above analyzation, we can come up with our result that the diversity does increase the performance of the company. However, the compensation (salary) will not work as effecient which means it doesn't guarantee higher performance. "
   ]
  },
  {
   "cell_type": "markdown",
   "id": "wW9iu0uT8vLG",
   "metadata": {
    "id": "wW9iu0uT8vLG"
   },
   "source": [
    "# *tech sector*"
   ]
  },
  {
   "cell_type": "code",
   "execution_count": 105,
   "id": "vmaAs5i-A1Xy",
   "metadata": {
    "id": "vmaAs5i-A1Xy"
   },
   "outputs": [],
   "source": [
    "#Then we will continue with the technology sector\n",
    "#The process is similar as financial sector\n",
    "\n",
    "#PCA dimensionality reduction (reduced to 2-dimensional)\n",
    "pca = PCA(n_components=2)\n",
    "X_pca_t = pca.fit_transform(X_t_scaled)"
   ]
  },
  {
   "cell_type": "markdown",
   "id": "Ej49s1bDBmtK",
   "metadata": {
    "id": "Ej49s1bDBmtK"
   },
   "source": [
    "Best eps & min_samples for tech sectore: (np.float64(0.8500000000000002), 5)"
   ]
  },
  {
   "cell_type": "code",
   "execution_count": 107,
   "id": "DBKme9grDeX4",
   "metadata": {
    "id": "DBKme9grDeX4"
   },
   "outputs": [],
   "source": [
    "#We created a new db value with the eps and min_sample we have gain before and apply it to find the db_t from X_pca_t\n",
    "db = DBSCAN(eps=0.8000000000000002,\n",
    "            min_samples=5,\n",
    "            metric='euclidean')\n",
    "db_t = db.fit_predict(X_pca_t)"
   ]
  },
  {
   "cell_type": "code",
   "execution_count": 108,
   "id": "edd44b95-04fd-4e9a-82f5-5cf8445cde00",
   "metadata": {
    "colab": {
     "base_uri": "https://localhost:8080/",
     "height": 581
    },
    "id": "edd44b95-04fd-4e9a-82f5-5cf8445cde00",
    "outputId": "f6242d0b-7866-47ed-a855-e4cbe60b48b1"
   },
   "outputs": [
    {
     "name": "stdout",
     "output_type": "stream",
     "text": [
      "Silhouette Score (PCA + DBSCAN): 0.729\n"
     ]
    },
    {
     "data": {
      "image/png": "[encoded data removed]",
      "text/plain": [
       "<Figure size 800x600 with 1 Axes>"
      ]
     },
     "metadata": {},
     "output_type": "display_data"
    }
   ],
   "source": [
    "#DBSCAN\n",
    "db = DBSCAN(eps=0.8500000000000002, min_samples=5)\n",
    "labels_pca = db.fit_predict(X_pca_t)\n",
    "\n",
    "#silhouette score\n",
    "if len(set(labels_pca)) > 1 and not (len(set(labels_pca)) == 2 and -1 in set(labels_pca)):\n",
    "    score = silhouette_score(X_pca_t, labels_pca)\n",
    "    print(f\"Silhouette Score (PCA + DBSCAN): {score:.3f}\")\n",
    "else:\n",
    "    print(\"error\")\n",
    "\n",
    "#we can visualize the plot\n",
    "plt.figure(figsize=(8, 6))\n",
    "plt.scatter(X_pca_t[:, 0], X_pca_t[:, 1], c=labels_pca, cmap='tab10', s=50)\n",
    "plt.title(\"PCA + DBSCAN Clustering Result\")\n",
    "plt.xlabel(\"PCA 1\")\n",
    "plt.ylabel(\"PCA 2\")\n",
    "plt.grid(True)\n",
    "plt.show()"
   ]
  },
  {
   "cell_type": "code",
   "execution_count": 109,
   "id": "5ac7b88f-c58a-46fd-9037-3fb4f51d5694",
   "metadata": {
    "colab": {
     "base_uri": "https://localhost:8080/"
    },
    "id": "5ac7b88f-c58a-46fd-9037-3fb4f51d5694",
    "outputId": "13299ca4-a7ea-4430-b10c-5dfbdf923e31"
   },
   "outputs": [
    {
     "name": "stdout",
     "output_type": "stream",
     "text": [
      "|   Cluster |   Avg Age Var |   Avg Salary Var |   Gender % (1=Male) |    Avg ROA |\n",
      "|----------:|--------------:|-----------------:|--------------------:|-----------:|\n",
      "|        -1 |       40.2667 |      6.35825e+07 |            0.666667 |  0.0438152 |\n",
      "|         0 |       28.8144 | 357215           |            1        |  0.164332  |\n",
      "|         1 |       30.0151 | 531668           |            0        |  0.169556  |\n",
      "|         2 |       36.9667 |      3.06958e+08 |            1        | -0.0360262 |\n",
      "|         3 |      139.838  |      3.896e+06   |            1        |  0.170785  |\n"
     ]
    },
    {
     "name": "stderr",
     "output_type": "stream",
     "text": [
      "/var/folders/q9/dz3c_3gs7nn0085_6dk797tc0000gn/T/ipykernel_61547/1284129892.py:2: SettingWithCopyWarning: \n",
      "A value is trying to be set on a copy of a slice from a DataFrame.\n",
      "Try using .loc[row_indexer,col_indexer] = value instead\n",
      "\n",
      "See the caveats in the documentation: https://pandas.pydata.org/pandas-docs/stable/user_guide/indexing.html#returning-a-view-versus-a-copy\n",
      "  df_t['cluster'] = db_t  # db_f 是你聚类后的标签\n"
     ]
    }
   ],
   "source": [
    "#Now with the DBSCAN result found, we can add it to the original data set df_f and we name it df_f\n",
    "df_t['cluster'] = db_t  # db_f 是你聚类后的标签\n",
    "\n",
    "# Find the cluster mean for the variable \n",
    "summary = df_t.groupby('cluster')[['age_var', 'salary_var', 'Gender', 'ROA']].mean()\n",
    "\n",
    "# We renamed the columns for it to be better to be used in the report and markdown tables\n",
    "summary.columns = ['Avg Age Var', 'Avg Salary Var', 'Gender % (1=Male)', 'Avg ROA']\n",
    "summary.index.name = 'Cluster'\n",
    "\n",
    "# Print a neat markdown table to be used in the report\n",
    "print(summary.to_markdown())"
   ]
  },
  {
   "cell_type": "code",
   "execution_count": 110,
   "id": "d1d6e261-f68a-4315-8e72-d481b8623d8d",
   "metadata": {
    "colab": {
     "base_uri": "https://localhost:8080/"
    },
    "id": "d1d6e261-f68a-4315-8e72-d481b8623d8d",
    "outputId": "f09b7140-8fc8-4d15-f375-ef8267f6b95f"
   },
   "outputs": [
    {
     "name": "stdout",
     "output_type": "stream",
     "text": [
      "Cluster -1: 6 samples\n",
      "Cluster 0: 4358 samples\n",
      "Cluster 1: 463 samples\n",
      "Cluster 2: 6 samples\n",
      "Cluster 3: 16 samples\n"
     ]
    }
   ],
   "source": [
    "#Here, we are getting the unique cluster labels and the counts of the clusters in the sample\n",
    "unique_labels, counts = np.unique(db_t, return_counts=True)\n",
    "\n",
    "# we loop through all the labels and their counts\n",
    "for label, count in zip(unique_labels, counts):\n",
    "    print(f\"Cluster {label}: {count} samples\")"
   ]
  },
  {
   "cell_type": "markdown",
   "id": "f77aa678-8ca0-4af4-b2db-b538a07a09c8",
   "metadata": {
    "id": "c5819a90-1782-4d5f-9ad6-e95079dc9689"
   },
   "source": [
    "For technology sector, we can see that there are 4 clusters with 1 noise and the silhouette score is 0.729 which still symboize a good separation of the clusters, even though it is a little less than financial sector. \n",
    "Cluster 0 still have the largest sample but now we see that it has the second highest ROA and low salary (high ROI). Therefore We could set this as our core workforce. Cluster 1 has the highest ROA suggest that gender diversity (female only) will link to high ROA and therefore will increase the performance of the company. Cluster 2, just like financial sector, only have 6 sample and with a negative return will mean that they are overpaid underperforming elite group. Cluster 3 is also high in ROA but the average age is not a prefer in this case. \n",
    "By above analyzation, we can come up with our result that the diversity also increase the performance of the company in this sector. IN our case here, cluster 1 with all female age around 30 outperformed other clusters. On the otherhand, cluster 0 with young and all-male teams also perform well. Cluster 0 and cluster 1 achieved to have low Compensation but a high Performance, but cluster 2 and 3 show a high compensation does not equal to a higher performance. Therefore, we can say that we need a moderate team."
   ]
  },
  {
   "cell_type": "code",
   "execution_count": null,
   "id": "b30efcfd-9b22-4c02-a50e-2933006b1d3b",
   "metadata": {
    "id": "b30efcfd-9b22-4c02-a50e-2933006b1d3b"
   },
   "outputs": [],
   "source": []
  },
  {
   "cell_type": "code",
   "execution_count": null,
   "id": "0225a500-fcbe-41f4-b5dd-ac1c0e449c52",
   "metadata": {
    "id": "0225a500-fcbe-41f4-b5dd-ac1c0e449c52"
   },
   "outputs": [],
   "source": []
  },
  {
   "cell_type": "code",
   "execution_count": null,
   "id": "5abd8b1e-938a-4be5-956d-57c468262b5d",
   "metadata": {
    "id": "5abd8b1e-938a-4be5-956d-57c468262b5d"
   },
   "outputs": [],
   "source": []
  },
  {
   "cell_type": "code",
   "execution_count": null,
   "id": "1f8b0856-c975-40df-b84e-0bf3494a2d43",
   "metadata": {
    "id": "1f8b0856-c975-40df-b84e-0bf3494a2d43"
   },
   "outputs": [],
   "source": []
  },
  {
   "cell_type": "code",
   "execution_count": null,
   "id": "e22409bf-db09-4d2d-8b27-5e9a0f1b3d95",
   "metadata": {
    "id": "e22409bf-db09-4d2d-8b27-5e9a0f1b3d95"
   },
   "outputs": [],
   "source": []
  },
  {
   "cell_type": "code",
   "execution_count": null,
   "id": "be74b3c9-d0d4-485c-87d2-e53735809aa9",
   "metadata": {
    "id": "be74b3c9-d0d4-485c-87d2-e53735809aa9"
   },
   "outputs": [],
   "source": []
  },
  {
   "cell_type": "code",
   "execution_count": null,
   "id": "699b235a-f11c-4b17-9acc-66343cec1b0d",
   "metadata": {
    "id": "699b235a-f11c-4b17-9acc-66343cec1b0d"
   },
   "outputs": [],
   "source": []
  },
  {
   "cell_type": "code",
   "execution_count": null,
   "id": "63917aea-884a-4b37-8179-78d2f37d7f87",
   "metadata": {
    "id": "63917aea-884a-4b37-8179-78d2f37d7f87"
   },
   "outputs": [],
   "source": []
  },
  {
   "cell_type": "code",
   "execution_count": null,
   "id": "3cb61ff6-51f3-4a92-ae9c-1c06ca938a73",
   "metadata": {
    "id": "3cb61ff6-51f3-4a92-ae9c-1c06ca938a73"
   },
   "outputs": [],
   "source": []
  },
  {
   "cell_type": "code",
   "execution_count": null,
   "id": "8821bc59-fddd-46f6-b272-3049c82ef4d6",
   "metadata": {
    "id": "8821bc59-fddd-46f6-b272-3049c82ef4d6"
   },
   "outputs": [],
   "source": []
  },
  {
   "cell_type": "code",
   "execution_count": null,
   "id": "241083d3-ed4f-4320-8059-9ae3de817a62",
   "metadata": {
    "id": "241083d3-ed4f-4320-8059-9ae3de817a62"
   },
   "outputs": [],
   "source": []
  },
  {
   "cell_type": "code",
   "execution_count": null,
   "id": "7f47cc12-30cf-45b6-b3ef-e931d015b31a",
   "metadata": {
    "id": "7f47cc12-30cf-45b6-b3ef-e931d015b31a"
   },
   "outputs": [],
   "source": []
  },
  {
   "cell_type": "code",
   "execution_count": null,
   "id": "581d0e65-734a-43f7-bdd0-96b8ff049d7e",
   "metadata": {
    "id": "581d0e65-734a-43f7-bdd0-96b8ff049d7e"
   },
   "outputs": [],
   "source": []
  }
 ],
 "metadata": {
  "colab": {
   "provenance": []
  },
  "kernelspec": {
   "display_name": "Python [conda env:base] *",
   "language": "python",
   "name": "conda-base-py"
  },
  "language_info": {
   "codemirror_mode": {
    "name": "ipython",
    "version": 3
   },
   "file_extension": ".py",
   "mimetype": "text/x-python",
   "name": "python",
   "nbconvert_exporter": "python",
   "pygments_lexer": "ipython3",
   "version": "3.12.7"
  }
 },
 "nbformat": 4,
 "nbformat_minor": 5
}
